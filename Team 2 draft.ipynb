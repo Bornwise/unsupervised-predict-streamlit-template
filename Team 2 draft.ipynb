{
 "cells": [
  {
   "cell_type": "markdown",
   "metadata": {},
   "source": [
    "### Comet Experiement\n",
    "Comet will be used for version control"
   ]
  },
  {
   "cell_type": "code",
   "execution_count": null,
   "metadata": {},
   "outputs": [
    {
     "name": "stderr",
     "output_type": "stream",
     "text": [
      "COMET WARNING: As you are running in a Jupyter environment, you will need to call `experiment.end()` when finished to ensure all metrics and code are logged before exiting.\n",
      "ERROR:root:Internal Python error in the inspect module.\n",
      "Below is the traceback from this internal error.\n",
      "\n",
      "ERROR:root:Internal Python error in the inspect module.\n",
      "Below is the traceback from this internal error.\n",
      "\n"
     ]
    },
    {
     "name": "stdout",
     "output_type": "stream",
     "text": [
      "Traceback (most recent call last):\n",
      "  File \"C:\\ProgramData\\Anaconda3\\lib\\site-packages\\urllib3\\connection.py\", line 169, in _new_conn\n",
      "    conn = connection.create_connection(\n",
      "  File \"C:\\ProgramData\\Anaconda3\\lib\\site-packages\\urllib3\\util\\connection.py\", line 73, in create_connection\n",
      "    for res in socket.getaddrinfo(host, port, family, socket.SOCK_STREAM):\n",
      "  File \"C:\\ProgramData\\Anaconda3\\lib\\socket.py\", line 918, in getaddrinfo\n",
      "    for res in _socket.getaddrinfo(host, port, family, type, proto, flags):\n",
      "socket.gaierror: [Errno 11001] getaddrinfo failed\n",
      "\n",
      "During handling of the above exception, another exception occurred:\n",
      "\n",
      "Traceback (most recent call last):\n",
      "  File \"C:\\ProgramData\\Anaconda3\\lib\\site-packages\\urllib3\\connectionpool.py\", line 699, in urlopen\n",
      "    httplib_response = self._make_request(\n",
      "  File \"C:\\ProgramData\\Anaconda3\\lib\\site-packages\\urllib3\\connectionpool.py\", line 382, in _make_request\n",
      "    self._validate_conn(conn)\n",
      "  File \"C:\\ProgramData\\Anaconda3\\lib\\site-packages\\urllib3\\connectionpool.py\", line 1010, in _validate_conn\n",
      "    conn.connect()\n",
      "  File \"C:\\ProgramData\\Anaconda3\\lib\\site-packages\\urllib3\\connection.py\", line 353, in connect\n",
      "    conn = self._new_conn()\n",
      "  File \"C:\\ProgramData\\Anaconda3\\lib\\site-packages\\urllib3\\connection.py\", line 181, in _new_conn\n",
      "    raise NewConnectionError(\n",
      "urllib3.exceptions.NewConnectionError: <urllib3.connection.HTTPSConnection object at 0x000001DE14E97FA0>: Failed to establish a new connection: [Errno 11001] getaddrinfo failed\n",
      "\n",
      "During handling of the above exception, another exception occurred:\n",
      "\n",
      "Traceback (most recent call last):\n",
      "  File \"C:\\ProgramData\\Anaconda3\\lib\\site-packages\\IPython\\core\\interactiveshell.py\", line 3437, in run_code\n",
      "    exec(code_obj, self.user_global_ns, self.user_ns)\n",
      "  File \"<ipython-input-1-67ec9f5a0bb9>\", line 6, in <module>\n",
      "    experiment = Experiment(\n",
      "  File \"C:\\ProgramData\\Anaconda3\\lib\\site-packages\\comet_ml\\__init__.py\", line 306, in __init__\n",
      "    self._start()\n",
      "  File \"C:\\ProgramData\\Anaconda3\\lib\\site-packages\\comet_ml\\experiment.py\", line 820, in _start\n",
      "    self.alive = self._setup_streamer()\n",
      "  File \"C:\\ProgramData\\Anaconda3\\lib\\site-packages\\comet_ml\\__init__.py\", line 343, in _setup_streamer\n",
      "    self.rest_api_client = get_rest_api_client(\n",
      "  File \"C:\\ProgramData\\Anaconda3\\lib\\site-packages\\comet_ml\\connection.py\", line 1548, in get_rest_api_client\n",
      "    return RestApiClient(\n",
      "  File \"C:\\ProgramData\\Anaconda3\\lib\\site-packages\\comet_ml\\connection.py\", line 1679, in __init__\n",
      "    self._check_version()\n",
      "  File \"C:\\ProgramData\\Anaconda3\\lib\\site-packages\\comet_ml\\connection.py\", line 1697, in _check_version\n",
      "    self._check_api_backend_version(minimal_backend_version)\n",
      "  File \"C:\\ProgramData\\Anaconda3\\lib\\site-packages\\comet_ml\\connection.py\", line 3471, in _check_api_backend_version\n",
      "    response = self.low_level_api_client.get(\n",
      "  File \"C:\\ProgramData\\Anaconda3\\lib\\site-packages\\comet_ml\\connection.py\", line 355, in get\n",
      "    response = session.get(\n",
      "  File \"C:\\ProgramData\\Anaconda3\\lib\\site-packages\\requests\\sessions.py\", line 555, in get\n",
      "    return self.request('GET', url, **kwargs)\n",
      "  File \"C:\\ProgramData\\Anaconda3\\lib\\site-packages\\requests\\sessions.py\", line 542, in request\n",
      "    resp = self.send(prep, **send_kwargs)\n",
      "  File \"C:\\ProgramData\\Anaconda3\\lib\\site-packages\\requests\\sessions.py\", line 655, in send\n",
      "    r = adapter.send(request, **kwargs)\n",
      "  File \"C:\\ProgramData\\Anaconda3\\lib\\site-packages\\requests\\adapters.py\", line 439, in send\n",
      "    resp = conn.urlopen(\n",
      "  File \"C:\\ProgramData\\Anaconda3\\lib\\site-packages\\urllib3\\connectionpool.py\", line 783, in urlopen\n",
      "    return self.urlopen(\n",
      "  File \"C:\\ProgramData\\Anaconda3\\lib\\site-packages\\urllib3\\connectionpool.py\", line 783, in urlopen\n",
      "    return self.urlopen(\n",
      "  File \"C:\\ProgramData\\Anaconda3\\lib\\site-packages\\urllib3\\connectionpool.py\", line 758, in urlopen\n",
      "    retries.sleep()\n",
      "  File \"C:\\ProgramData\\Anaconda3\\lib\\site-packages\\urllib3\\util\\retry.py\", line 414, in sleep\n",
      "    self._sleep_backoff()\n",
      "  File \"C:\\ProgramData\\Anaconda3\\lib\\site-packages\\urllib3\\util\\retry.py\", line 398, in _sleep_backoff\n",
      "    time.sleep(backoff)\n",
      "KeyboardInterrupt\n",
      "\n",
      "During handling of the above exception, another exception occurred:\n",
      "\n",
      "Traceback (most recent call last):\n",
      "  File \"C:\\ProgramData\\Anaconda3\\lib\\site-packages\\IPython\\core\\interactiveshell.py\", line 2061, in showtraceback\n",
      "    stb = value._render_traceback_()\n",
      "AttributeError: 'KeyboardInterrupt' object has no attribute '_render_traceback_'\n",
      "\n",
      "During handling of the above exception, another exception occurred:\n",
      "\n",
      "Traceback (most recent call last):\n",
      "  File \"C:\\ProgramData\\Anaconda3\\lib\\site-packages\\IPython\\core\\ultratb.py\", line 1101, in get_records\n",
      "    return _fixed_getinnerframes(etb, number_of_lines_of_context, tb_offset)\n",
      "  File \"C:\\ProgramData\\Anaconda3\\lib\\site-packages\\IPython\\core\\ultratb.py\", line 248, in wrapped\n",
      "    return f(*args, **kwargs)\n",
      "  File \"C:\\ProgramData\\Anaconda3\\lib\\site-packages\\IPython\\core\\ultratb.py\", line 281, in _fixed_getinnerframes\n",
      "    records = fix_frame_records_filenames(inspect.getinnerframes(etb, context))\n",
      "  File \"C:\\ProgramData\\Anaconda3\\lib\\inspect.py\", line 1515, in getinnerframes\n",
      "    frameinfo = (tb.tb_frame,) + getframeinfo(tb, context)\n",
      "  File \"C:\\ProgramData\\Anaconda3\\lib\\inspect.py\", line 1473, in getframeinfo\n",
      "    filename = getsourcefile(frame) or getfile(frame)\n",
      "  File \"C:\\ProgramData\\Anaconda3\\lib\\inspect.py\", line 708, in getsourcefile\n",
      "    if getattr(getmodule(object, filename), '__loader__', None) is not None:\n",
      "  File \"C:\\ProgramData\\Anaconda3\\lib\\inspect.py\", line 754, in getmodule\n",
      "    os.path.realpath(f)] = module.__name__\n",
      "  File \"C:\\ProgramData\\Anaconda3\\lib\\ntpath.py\", line 647, in realpath\n",
      "    path = _getfinalpathname(path)\n",
      "KeyboardInterrupt\n",
      "Traceback (most recent call last):\n",
      "  File \"C:\\ProgramData\\Anaconda3\\lib\\site-packages\\urllib3\\connection.py\", line 169, in _new_conn\n",
      "    conn = connection.create_connection(\n",
      "  File \"C:\\ProgramData\\Anaconda3\\lib\\site-packages\\urllib3\\util\\connection.py\", line 73, in create_connection\n",
      "    for res in socket.getaddrinfo(host, port, family, socket.SOCK_STREAM):\n",
      "  File \"C:\\ProgramData\\Anaconda3\\lib\\socket.py\", line 918, in getaddrinfo\n",
      "    for res in _socket.getaddrinfo(host, port, family, type, proto, flags):\n",
      "socket.gaierror: [Errno 11001] getaddrinfo failed\n",
      "\n",
      "During handling of the above exception, another exception occurred:\n",
      "\n",
      "Traceback (most recent call last):\n",
      "  File \"C:\\ProgramData\\Anaconda3\\lib\\site-packages\\urllib3\\connectionpool.py\", line 699, in urlopen\n",
      "    httplib_response = self._make_request(\n",
      "  File \"C:\\ProgramData\\Anaconda3\\lib\\site-packages\\urllib3\\connectionpool.py\", line 382, in _make_request\n",
      "    self._validate_conn(conn)\n",
      "  File \"C:\\ProgramData\\Anaconda3\\lib\\site-packages\\urllib3\\connectionpool.py\", line 1010, in _validate_conn\n",
      "    conn.connect()\n",
      "  File \"C:\\ProgramData\\Anaconda3\\lib\\site-packages\\urllib3\\connection.py\", line 353, in connect\n",
      "    conn = self._new_conn()\n",
      "  File \"C:\\ProgramData\\Anaconda3\\lib\\site-packages\\urllib3\\connection.py\", line 181, in _new_conn\n",
      "    raise NewConnectionError(\n",
      "urllib3.exceptions.NewConnectionError: <urllib3.connection.HTTPSConnection object at 0x000001DE14E97FA0>: Failed to establish a new connection: [Errno 11001] getaddrinfo failed\n",
      "\n",
      "During handling of the above exception, another exception occurred:\n",
      "\n",
      "Traceback (most recent call last):\n",
      "  File \"C:\\ProgramData\\Anaconda3\\lib\\site-packages\\IPython\\core\\interactiveshell.py\", line 3437, in run_code\n",
      "    exec(code_obj, self.user_global_ns, self.user_ns)\n",
      "  File \"<ipython-input-1-67ec9f5a0bb9>\", line 6, in <module>\n",
      "    experiment = Experiment(\n",
      "  File \"C:\\ProgramData\\Anaconda3\\lib\\site-packages\\comet_ml\\__init__.py\", line 306, in __init__\n",
      "    self._start()\n",
      "  File \"C:\\ProgramData\\Anaconda3\\lib\\site-packages\\comet_ml\\experiment.py\", line 820, in _start\n",
      "    self.alive = self._setup_streamer()\n",
      "  File \"C:\\ProgramData\\Anaconda3\\lib\\site-packages\\comet_ml\\__init__.py\", line 343, in _setup_streamer\n",
      "    self.rest_api_client = get_rest_api_client(\n",
      "  File \"C:\\ProgramData\\Anaconda3\\lib\\site-packages\\comet_ml\\connection.py\", line 1548, in get_rest_api_client\n",
      "    return RestApiClient(\n",
      "  File \"C:\\ProgramData\\Anaconda3\\lib\\site-packages\\comet_ml\\connection.py\", line 1679, in __init__\n",
      "    self._check_version()\n",
      "  File \"C:\\ProgramData\\Anaconda3\\lib\\site-packages\\comet_ml\\connection.py\", line 1697, in _check_version\n",
      "    self._check_api_backend_version(minimal_backend_version)\n",
      "  File \"C:\\ProgramData\\Anaconda3\\lib\\site-packages\\comet_ml\\connection.py\", line 3471, in _check_api_backend_version\n",
      "    response = self.low_level_api_client.get(\n",
      "  File \"C:\\ProgramData\\Anaconda3\\lib\\site-packages\\comet_ml\\connection.py\", line 355, in get\n",
      "    response = session.get(\n",
      "  File \"C:\\ProgramData\\Anaconda3\\lib\\site-packages\\requests\\sessions.py\", line 555, in get\n",
      "    return self.request('GET', url, **kwargs)\n",
      "  File \"C:\\ProgramData\\Anaconda3\\lib\\site-packages\\requests\\sessions.py\", line 542, in request\n",
      "    resp = self.send(prep, **send_kwargs)\n",
      "  File \"C:\\ProgramData\\Anaconda3\\lib\\site-packages\\requests\\sessions.py\", line 655, in send\n",
      "    r = adapter.send(request, **kwargs)\n",
      "  File \"C:\\ProgramData\\Anaconda3\\lib\\site-packages\\requests\\adapters.py\", line 439, in send\n",
      "    resp = conn.urlopen(\n",
      "  File \"C:\\ProgramData\\Anaconda3\\lib\\site-packages\\urllib3\\connectionpool.py\", line 783, in urlopen\n",
      "    return self.urlopen(\n",
      "  File \"C:\\ProgramData\\Anaconda3\\lib\\site-packages\\urllib3\\connectionpool.py\", line 783, in urlopen\n",
      "    return self.urlopen(\n",
      "  File \"C:\\ProgramData\\Anaconda3\\lib\\site-packages\\urllib3\\connectionpool.py\", line 758, in urlopen\n",
      "    retries.sleep()\n",
      "  File \"C:\\ProgramData\\Anaconda3\\lib\\site-packages\\urllib3\\util\\retry.py\", line 414, in sleep\n",
      "    self._sleep_backoff()\n",
      "  File \"C:\\ProgramData\\Anaconda3\\lib\\site-packages\\urllib3\\util\\retry.py\", line 398, in _sleep_backoff\n",
      "    time.sleep(backoff)\n",
      "KeyboardInterrupt\n",
      "\n",
      "During handling of the above exception, another exception occurred:\n",
      "\n",
      "Traceback (most recent call last):\n",
      "  File \"C:\\ProgramData\\Anaconda3\\lib\\site-packages\\IPython\\core\\interactiveshell.py\", line 2061, in showtraceback\n",
      "    stb = value._render_traceback_()\n",
      "AttributeError: 'KeyboardInterrupt' object has no attribute '_render_traceback_'\n",
      "\n",
      "During handling of the above exception, another exception occurred:\n",
      "\n",
      "Traceback (most recent call last):\n",
      "  File \"C:\\ProgramData\\Anaconda3\\lib\\site-packages\\IPython\\core\\interactiveshell.py\", line 3357, in run_ast_nodes\n",
      "    if (await self.run_code(code, result,  async_=asy)):\n",
      "  File \"C:\\ProgramData\\Anaconda3\\lib\\site-packages\\IPython\\core\\interactiveshell.py\", line 3454, in run_code\n",
      "    self.showtraceback(running_compiled_code=True)\n",
      "  File \"C:\\ProgramData\\Anaconda3\\lib\\site-packages\\IPython\\core\\interactiveshell.py\", line 2063, in showtraceback\n",
      "    stb = self.InteractiveTB.structured_traceback(etype,\n",
      "  File \"C:\\ProgramData\\Anaconda3\\lib\\site-packages\\IPython\\core\\ultratb.py\", line 1367, in structured_traceback\n",
      "    return FormattedTB.structured_traceback(\n",
      "  File \"C:\\ProgramData\\Anaconda3\\lib\\site-packages\\IPython\\core\\ultratb.py\", line 1267, in structured_traceback\n",
      "    return VerboseTB.structured_traceback(\n",
      "  File \"C:\\ProgramData\\Anaconda3\\lib\\site-packages\\IPython\\core\\ultratb.py\", line 1124, in structured_traceback\n",
      "    formatted_exception = self.format_exception_as_a_whole(etype, evalue, etb, number_of_lines_of_context,\n",
      "  File \"C:\\ProgramData\\Anaconda3\\lib\\site-packages\\IPython\\core\\ultratb.py\", line 1082, in format_exception_as_a_whole\n",
      "    last_unique, recursion_repeat = find_recursion(orig_etype, evalue, records)\n",
      "  File \"C:\\ProgramData\\Anaconda3\\lib\\site-packages\\IPython\\core\\ultratb.py\", line 382, in find_recursion\n",
      "    return len(records), 0\n",
      "TypeError: object of type 'NoneType' has no len()\n",
      "\n",
      "During handling of the above exception, another exception occurred:\n",
      "\n",
      "Traceback (most recent call last):\n",
      "  File \"C:\\ProgramData\\Anaconda3\\lib\\site-packages\\IPython\\core\\interactiveshell.py\", line 2061, in showtraceback\n",
      "    stb = value._render_traceback_()\n",
      "AttributeError: 'TypeError' object has no attribute '_render_traceback_'\n",
      "\n",
      "During handling of the above exception, another exception occurred:\n",
      "\n",
      "Traceback (most recent call last):\n",
      "  File \"C:\\ProgramData\\Anaconda3\\lib\\site-packages\\IPython\\core\\ultratb.py\", line 1101, in get_records\n",
      "    return _fixed_getinnerframes(etb, number_of_lines_of_context, tb_offset)\n",
      "  File \"C:\\ProgramData\\Anaconda3\\lib\\site-packages\\IPython\\core\\ultratb.py\", line 248, in wrapped\n",
      "    return f(*args, **kwargs)\n",
      "  File \"C:\\ProgramData\\Anaconda3\\lib\\site-packages\\IPython\\core\\ultratb.py\", line 281, in _fixed_getinnerframes\n",
      "    records = fix_frame_records_filenames(inspect.getinnerframes(etb, context))\n",
      "  File \"C:\\ProgramData\\Anaconda3\\lib\\inspect.py\", line 1515, in getinnerframes\n",
      "    frameinfo = (tb.tb_frame,) + getframeinfo(tb, context)\n",
      "  File \"C:\\ProgramData\\Anaconda3\\lib\\inspect.py\", line 1473, in getframeinfo\n",
      "    filename = getsourcefile(frame) or getfile(frame)\n",
      "  File \"C:\\ProgramData\\Anaconda3\\lib\\inspect.py\", line 708, in getsourcefile\n",
      "    if getattr(getmodule(object, filename), '__loader__', None) is not None:\n",
      "  File \"C:\\ProgramData\\Anaconda3\\lib\\inspect.py\", line 754, in getmodule\n",
      "    os.path.realpath(f)] = module.__name__\n",
      "  File \"C:\\ProgramData\\Anaconda3\\lib\\ntpath.py\", line 664, in realpath\n",
      "    if _getfinalpathname(spath) == path:\n",
      "KeyboardInterrupt\n"
     ]
    },
    {
     "name": "stderr",
     "output_type": "stream",
     "text": [
      "ERROR:root:Internal Python error in the inspect module.\n",
      "Below is the traceback from this internal error.\n",
      "\n"
     ]
    },
    {
     "name": "stdout",
     "output_type": "stream",
     "text": [
      "Traceback (most recent call last):\n",
      "  File \"C:\\ProgramData\\Anaconda3\\lib\\site-packages\\urllib3\\connection.py\", line 169, in _new_conn\n",
      "    conn = connection.create_connection(\n",
      "  File \"C:\\ProgramData\\Anaconda3\\lib\\site-packages\\urllib3\\util\\connection.py\", line 73, in create_connection\n",
      "    for res in socket.getaddrinfo(host, port, family, socket.SOCK_STREAM):\n",
      "  File \"C:\\ProgramData\\Anaconda3\\lib\\socket.py\", line 918, in getaddrinfo\n",
      "    for res in _socket.getaddrinfo(host, port, family, type, proto, flags):\n",
      "socket.gaierror: [Errno 11001] getaddrinfo failed\n",
      "\n",
      "During handling of the above exception, another exception occurred:\n",
      "\n",
      "Traceback (most recent call last):\n",
      "  File \"C:\\ProgramData\\Anaconda3\\lib\\site-packages\\urllib3\\connectionpool.py\", line 699, in urlopen\n",
      "    httplib_response = self._make_request(\n",
      "  File \"C:\\ProgramData\\Anaconda3\\lib\\site-packages\\urllib3\\connectionpool.py\", line 382, in _make_request\n",
      "    self._validate_conn(conn)\n",
      "  File \"C:\\ProgramData\\Anaconda3\\lib\\site-packages\\urllib3\\connectionpool.py\", line 1010, in _validate_conn\n",
      "    conn.connect()\n",
      "  File \"C:\\ProgramData\\Anaconda3\\lib\\site-packages\\urllib3\\connection.py\", line 353, in connect\n",
      "    conn = self._new_conn()\n",
      "  File \"C:\\ProgramData\\Anaconda3\\lib\\site-packages\\urllib3\\connection.py\", line 181, in _new_conn\n",
      "    raise NewConnectionError(\n",
      "urllib3.exceptions.NewConnectionError: <urllib3.connection.HTTPSConnection object at 0x000001DE14E97FA0>: Failed to establish a new connection: [Errno 11001] getaddrinfo failed\n",
      "\n",
      "During handling of the above exception, another exception occurred:\n",
      "\n",
      "Traceback (most recent call last):\n",
      "  File \"C:\\ProgramData\\Anaconda3\\lib\\site-packages\\IPython\\core\\interactiveshell.py\", line 3437, in run_code\n",
      "    exec(code_obj, self.user_global_ns, self.user_ns)\n",
      "  File \"<ipython-input-1-67ec9f5a0bb9>\", line 6, in <module>\n",
      "    experiment = Experiment(\n",
      "  File \"C:\\ProgramData\\Anaconda3\\lib\\site-packages\\comet_ml\\__init__.py\", line 306, in __init__\n",
      "    self._start()\n",
      "  File \"C:\\ProgramData\\Anaconda3\\lib\\site-packages\\comet_ml\\experiment.py\", line 820, in _start\n",
      "    self.alive = self._setup_streamer()\n",
      "  File \"C:\\ProgramData\\Anaconda3\\lib\\site-packages\\comet_ml\\__init__.py\", line 343, in _setup_streamer\n",
      "    self.rest_api_client = get_rest_api_client(\n",
      "  File \"C:\\ProgramData\\Anaconda3\\lib\\site-packages\\comet_ml\\connection.py\", line 1548, in get_rest_api_client\n",
      "    return RestApiClient(\n",
      "  File \"C:\\ProgramData\\Anaconda3\\lib\\site-packages\\comet_ml\\connection.py\", line 1679, in __init__\n",
      "    self._check_version()\n",
      "  File \"C:\\ProgramData\\Anaconda3\\lib\\site-packages\\comet_ml\\connection.py\", line 1697, in _check_version\n",
      "    self._check_api_backend_version(minimal_backend_version)\n",
      "  File \"C:\\ProgramData\\Anaconda3\\lib\\site-packages\\comet_ml\\connection.py\", line 3471, in _check_api_backend_version\n",
      "    response = self.low_level_api_client.get(\n",
      "  File \"C:\\ProgramData\\Anaconda3\\lib\\site-packages\\comet_ml\\connection.py\", line 355, in get\n",
      "    response = session.get(\n",
      "  File \"C:\\ProgramData\\Anaconda3\\lib\\site-packages\\requests\\sessions.py\", line 555, in get\n",
      "    return self.request('GET', url, **kwargs)\n",
      "  File \"C:\\ProgramData\\Anaconda3\\lib\\site-packages\\requests\\sessions.py\", line 542, in request\n",
      "    resp = self.send(prep, **send_kwargs)\n",
      "  File \"C:\\ProgramData\\Anaconda3\\lib\\site-packages\\requests\\sessions.py\", line 655, in send\n",
      "    r = adapter.send(request, **kwargs)\n",
      "  File \"C:\\ProgramData\\Anaconda3\\lib\\site-packages\\requests\\adapters.py\", line 439, in send\n",
      "    resp = conn.urlopen(\n",
      "  File \"C:\\ProgramData\\Anaconda3\\lib\\site-packages\\urllib3\\connectionpool.py\", line 783, in urlopen\n",
      "    return self.urlopen(\n",
      "  File \"C:\\ProgramData\\Anaconda3\\lib\\site-packages\\urllib3\\connectionpool.py\", line 783, in urlopen\n",
      "    return self.urlopen(\n",
      "  File \"C:\\ProgramData\\Anaconda3\\lib\\site-packages\\urllib3\\connectionpool.py\", line 758, in urlopen\n",
      "    retries.sleep()\n",
      "  File \"C:\\ProgramData\\Anaconda3\\lib\\site-packages\\urllib3\\util\\retry.py\", line 414, in sleep\n",
      "    self._sleep_backoff()\n",
      "  File \"C:\\ProgramData\\Anaconda3\\lib\\site-packages\\urllib3\\util\\retry.py\", line 398, in _sleep_backoff\n",
      "    time.sleep(backoff)\n",
      "KeyboardInterrupt\n",
      "\n",
      "During handling of the above exception, another exception occurred:\n",
      "\n",
      "Traceback (most recent call last):\n",
      "  File \"C:\\ProgramData\\Anaconda3\\lib\\site-packages\\IPython\\core\\interactiveshell.py\", line 2061, in showtraceback\n",
      "    stb = value._render_traceback_()\n",
      "AttributeError: 'KeyboardInterrupt' object has no attribute '_render_traceback_'\n",
      "\n",
      "During handling of the above exception, another exception occurred:\n",
      "\n",
      "Traceback (most recent call last):\n",
      "  File \"C:\\ProgramData\\Anaconda3\\lib\\site-packages\\IPython\\core\\interactiveshell.py\", line 3357, in run_ast_nodes\n",
      "    if (await self.run_code(code, result,  async_=asy)):\n",
      "  File \"C:\\ProgramData\\Anaconda3\\lib\\site-packages\\IPython\\core\\interactiveshell.py\", line 3454, in run_code\n",
      "    self.showtraceback(running_compiled_code=True)\n",
      "  File \"C:\\ProgramData\\Anaconda3\\lib\\site-packages\\IPython\\core\\interactiveshell.py\", line 2063, in showtraceback\n",
      "    stb = self.InteractiveTB.structured_traceback(etype,\n",
      "  File \"C:\\ProgramData\\Anaconda3\\lib\\site-packages\\IPython\\core\\ultratb.py\", line 1367, in structured_traceback\n",
      "    return FormattedTB.structured_traceback(\n",
      "  File \"C:\\ProgramData\\Anaconda3\\lib\\site-packages\\IPython\\core\\ultratb.py\", line 1267, in structured_traceback\n",
      "    return VerboseTB.structured_traceback(\n",
      "  File \"C:\\ProgramData\\Anaconda3\\lib\\site-packages\\IPython\\core\\ultratb.py\", line 1124, in structured_traceback\n",
      "    formatted_exception = self.format_exception_as_a_whole(etype, evalue, etb, number_of_lines_of_context,\n",
      "  File \"C:\\ProgramData\\Anaconda3\\lib\\site-packages\\IPython\\core\\ultratb.py\", line 1082, in format_exception_as_a_whole\n",
      "    last_unique, recursion_repeat = find_recursion(orig_etype, evalue, records)\n",
      "  File \"C:\\ProgramData\\Anaconda3\\lib\\site-packages\\IPython\\core\\ultratb.py\", line 382, in find_recursion\n",
      "    return len(records), 0\n",
      "TypeError: object of type 'NoneType' has no len()\n",
      "\n",
      "During handling of the above exception, another exception occurred:\n",
      "\n",
      "Traceback (most recent call last):\n",
      "  File \"C:\\ProgramData\\Anaconda3\\lib\\site-packages\\IPython\\core\\interactiveshell.py\", line 2061, in showtraceback\n",
      "    stb = value._render_traceback_()\n",
      "AttributeError: 'TypeError' object has no attribute '_render_traceback_'\n",
      "\n",
      "During handling of the above exception, another exception occurred:\n",
      "\n",
      "Traceback (most recent call last):\n",
      "  File \"C:\\ProgramData\\Anaconda3\\lib\\site-packages\\IPython\\core\\interactiveshell.py\", line 2940, in _run_cell\n",
      "    return runner(coro)\n",
      "  File \"C:\\ProgramData\\Anaconda3\\lib\\site-packages\\IPython\\core\\async_helpers.py\", line 68, in _pseudo_sync_runner\n",
      "    coro.send(None)\n",
      "  File \"C:\\ProgramData\\Anaconda3\\lib\\site-packages\\IPython\\core\\interactiveshell.py\", line 3165, in run_cell_async\n",
      "    has_raised = await self.run_ast_nodes(code_ast.body, cell_name,\n",
      "  File \"C:\\ProgramData\\Anaconda3\\lib\\site-packages\\IPython\\core\\interactiveshell.py\", line 3376, in run_ast_nodes\n",
      "    self.showtraceback()\n",
      "  File \"C:\\ProgramData\\Anaconda3\\lib\\site-packages\\IPython\\core\\interactiveshell.py\", line 2063, in showtraceback\n",
      "    stb = self.InteractiveTB.structured_traceback(etype,\n",
      "  File \"C:\\ProgramData\\Anaconda3\\lib\\site-packages\\IPython\\core\\ultratb.py\", line 1367, in structured_traceback\n",
      "    return FormattedTB.structured_traceback(\n",
      "  File \"C:\\ProgramData\\Anaconda3\\lib\\site-packages\\IPython\\core\\ultratb.py\", line 1267, in structured_traceback\n",
      "    return VerboseTB.structured_traceback(\n",
      "  File \"C:\\ProgramData\\Anaconda3\\lib\\site-packages\\IPython\\core\\ultratb.py\", line 1142, in structured_traceback\n",
      "    formatted_exceptions += self.format_exception_as_a_whole(etype, evalue, etb, lines_of_context,\n",
      "  File \"C:\\ProgramData\\Anaconda3\\lib\\site-packages\\IPython\\core\\ultratb.py\", line 1082, in format_exception_as_a_whole\n",
      "    last_unique, recursion_repeat = find_recursion(orig_etype, evalue, records)\n",
      "  File \"C:\\ProgramData\\Anaconda3\\lib\\site-packages\\IPython\\core\\ultratb.py\", line 382, in find_recursion\n",
      "    return len(records), 0\n",
      "TypeError: object of type 'NoneType' has no len()\n",
      "\n",
      "During handling of the above exception, another exception occurred:\n",
      "\n",
      "Traceback (most recent call last):\n",
      "  File \"C:\\ProgramData\\Anaconda3\\lib\\site-packages\\IPython\\core\\interactiveshell.py\", line 2061, in showtraceback\n",
      "    stb = value._render_traceback_()\n",
      "AttributeError: 'TypeError' object has no attribute '_render_traceback_'\n",
      "\n",
      "During handling of the above exception, another exception occurred:\n",
      "\n",
      "Traceback (most recent call last):\n",
      "  File \"C:\\ProgramData\\Anaconda3\\lib\\site-packages\\IPython\\core\\ultratb.py\", line 1101, in get_records\n",
      "    return _fixed_getinnerframes(etb, number_of_lines_of_context, tb_offset)\n",
      "  File \"C:\\ProgramData\\Anaconda3\\lib\\site-packages\\IPython\\core\\ultratb.py\", line 248, in wrapped\n",
      "    return f(*args, **kwargs)\n",
      "  File \"C:\\ProgramData\\Anaconda3\\lib\\site-packages\\IPython\\core\\ultratb.py\", line 281, in _fixed_getinnerframes\n",
      "    records = fix_frame_records_filenames(inspect.getinnerframes(etb, context))\n",
      "  File \"C:\\ProgramData\\Anaconda3\\lib\\inspect.py\", line 1515, in getinnerframes\n",
      "    frameinfo = (tb.tb_frame,) + getframeinfo(tb, context)\n",
      "  File \"C:\\ProgramData\\Anaconda3\\lib\\inspect.py\", line 1473, in getframeinfo\n",
      "    filename = getsourcefile(frame) or getfile(frame)\n",
      "  File \"C:\\ProgramData\\Anaconda3\\lib\\inspect.py\", line 705, in getsourcefile\n",
      "    if os.path.exists(filename):\n",
      "  File \"C:\\ProgramData\\Anaconda3\\lib\\genericpath.py\", line 19, in exists\n",
      "    os.stat(path)\n",
      "KeyboardInterrupt\n"
     ]
    }
   ],
   "source": [
    "# import comet_ml at the top of your file\n",
    "import comet_ml\n",
    "from comet_ml import Experiment\n",
    "\n",
    "# Create an experiment with your api key\n",
    "experiment = Experiment(\n",
    "    api_key=\"uIA4LnUcw5MgXtaoZFKhjA8kp\",\n",
    "    project_name=\"team-2-unsupervised\",\n",
    "    workspace=\"bravo\",\n",
    ")"
   ]
  },
  {
   "cell_type": "markdown",
   "metadata": {
    "id": "fUxQH9bgawjm"
   },
   "source": [
    "### Import libraries and packages"
   ]
  },
  {
   "cell_type": "code",
   "execution_count": 2,
   "metadata": {
    "id": "UjXdmloKawjn"
   },
   "outputs": [],
   "source": [
    "\n",
    "import numpy as np\n",
    "import pandas as pd\n",
    "import datetime\n",
    "from sklearn import preprocessing\n",
    "from sklearn.datasets import make_blobs\n",
    "from sklearn.preprocessing import StandardScaler\n",
    "from sklearn.feature_extraction.text import TfidfVectorizer\n",
    "from sklearn.metrics.pairwise import cosine_similarity\n",
    "import re\n",
    "from scipy.sparse import csr_matrix\n",
    "import scipy as sp\n",
    "\n",
    "\n",
    "# Packages for visualization\n",
    "import matplotlib.pyplot as plt\n",
    "import seaborn as sns\n",
    "%matplotlib inline\n",
    "from wordcloud import WordCloud \n",
    "from wordcloud import WordCloud, STOPWORDS\n",
    "import time\n",
    "\n",
    "\n",
    "\n",
    "# Packages for modeling\n",
    "from surprise import Reader\n",
    "from surprise import Dataset\n",
    "from surprise import KNNWithMeans\n",
    "from surprise import KNNBasic\n",
    "from surprise.model_selection import cross_validate\n",
    "from surprise.model_selection import GridSearchCV\n",
    "from surprise import SVD\n",
    "from surprise import SVDpp\n",
    "from surprise import NMF\n",
    "from sklearn.cluster import KMeans\n",
    "from surprise import SlopeOne\n",
    "from surprise import CoClustering\n",
    "from surprise import accuracy\n",
    "from surprise.model_selection import train_test_split\n",
    "from surprise import SVD, BaselineOnly, CoClustering, NMF\n",
    "from sklearn.feature_extraction.text import CountVectorizer as CountVectorizer\n",
    "\n",
    "# Packages for model evaluation\n",
    "from sklearn.metrics import mean_squared_error\n",
    "from sklearn.metrics import mean_absolute_error\n",
    "from time import time\n",
    "\n",
    "# Package to suppress warnings\n",
    "import warnings\n",
    "warnings.filterwarnings(\"ignore\")\n",
    "\n",
    "# Packages for saving models\n",
    "import pickle"
   ]
  },
  {
   "cell_type": "markdown",
   "metadata": {
    "id": "7-ZdMPMKawjo"
   },
   "source": [
    "### Import data"
   ]
  },
  {
   "cell_type": "code",
   "execution_count": 5,
   "metadata": {},
   "outputs": [],
   "source": [
    "# Store data (serialize)\n",
    "with open('movies.pickle', 'wb') as handle:\n",
    "    pickle.dump(imdb, handle, protocol=pickle.HIGHEST_PROTOCOL)"
   ]
  },
  {
   "cell_type": "code",
   "execution_count": 3,
   "metadata": {
    "execution": {
     "iopub.execute_input": "2021-07-05T12:34:40.544264Z",
     "iopub.status.busy": "2021-07-05T12:34:40.543842Z",
     "iopub.status.idle": "2021-07-05T12:35:04.987282Z",
     "shell.execute_reply": "2021-07-05T12:35:04.986325Z",
     "shell.execute_reply.started": "2021-07-05T12:34:40.544233Z"
    },
    "id": "MND7rBQqawjo"
   },
   "outputs": [],
   "source": [
    "sample_submission = pd.read_csv('sample_submission.csv')\n",
    "movies = pd.read_csv('movies.csv')\n",
    "imdb = pd.read_csv('imdb_data.csv')\n",
    "genome_scores = pd.read_csv('genome_scores.csv')\n",
    "genome_tags = pd.read_csv('genome_tags.csv')\n",
    "train = pd.read_csv('train.csv')\n",
    "test = pd.read_csv('test.csv')\n",
    "tags = pd.read_csv('tags.csv')\n",
    "links = pd.read_csv('links.csv')"
   ]
  },
  {
   "cell_type": "markdown",
   "metadata": {
    "id": "Zs75G0AQawjp"
   },
   "source": [
    "# 3. DATA VIEWING\n",
    "---\n",
    "\n",
    "Following the necessary imports is for viewing the data to see what information we can get from it."
   ]
  },
  {
   "cell_type": "code",
   "execution_count": null,
   "metadata": {
    "id": "icGQGORvawjq",
    "outputId": "f97ae6ab-f419-4dc5-b276-b734e34d0140"
   },
   "outputs": [],
   "source": [
    "movies.head()"
   ]
  },
  {
   "cell_type": "code",
   "execution_count": 4,
   "metadata": {
    "id": "OHJKJHkEawjq",
    "outputId": "041355f9-15e0-42a4-8d94-a6e8833cd84a"
   },
   "outputs": [
    {
     "data": {
      "text/html": [
       "<div>\n",
       "<style scoped>\n",
       "    .dataframe tbody tr th:only-of-type {\n",
       "        vertical-align: middle;\n",
       "    }\n",
       "\n",
       "    .dataframe tbody tr th {\n",
       "        vertical-align: top;\n",
       "    }\n",
       "\n",
       "    .dataframe thead th {\n",
       "        text-align: right;\n",
       "    }\n",
       "</style>\n",
       "<table border=\"1\" class=\"dataframe\">\n",
       "  <thead>\n",
       "    <tr style=\"text-align: right;\">\n",
       "      <th></th>\n",
       "      <th>movieId</th>\n",
       "      <th>title_cast</th>\n",
       "      <th>director</th>\n",
       "      <th>runtime</th>\n",
       "      <th>budget</th>\n",
       "      <th>plot_keywords</th>\n",
       "    </tr>\n",
       "  </thead>\n",
       "  <tbody>\n",
       "    <tr>\n",
       "      <th>0</th>\n",
       "      <td>1</td>\n",
       "      <td>Tom Hanks|Tim Allen|Don Rickles|Jim Varney|Wal...</td>\n",
       "      <td>John Lasseter</td>\n",
       "      <td>81.0</td>\n",
       "      <td>$30,000,000</td>\n",
       "      <td>toy|rivalry|cowboy|cgi animation</td>\n",
       "    </tr>\n",
       "    <tr>\n",
       "      <th>1</th>\n",
       "      <td>2</td>\n",
       "      <td>Robin Williams|Jonathan Hyde|Kirsten Dunst|Bra...</td>\n",
       "      <td>Jonathan Hensleigh</td>\n",
       "      <td>104.0</td>\n",
       "      <td>$65,000,000</td>\n",
       "      <td>board game|adventurer|fight|game</td>\n",
       "    </tr>\n",
       "    <tr>\n",
       "      <th>2</th>\n",
       "      <td>3</td>\n",
       "      <td>Walter Matthau|Jack Lemmon|Sophia Loren|Ann-Ma...</td>\n",
       "      <td>Mark Steven Johnson</td>\n",
       "      <td>101.0</td>\n",
       "      <td>$25,000,000</td>\n",
       "      <td>boat|lake|neighbor|rivalry</td>\n",
       "    </tr>\n",
       "    <tr>\n",
       "      <th>3</th>\n",
       "      <td>4</td>\n",
       "      <td>Whitney Houston|Angela Bassett|Loretta Devine|...</td>\n",
       "      <td>Terry McMillan</td>\n",
       "      <td>124.0</td>\n",
       "      <td>$16,000,000</td>\n",
       "      <td>black american|husband wife relationship|betra...</td>\n",
       "    </tr>\n",
       "    <tr>\n",
       "      <th>4</th>\n",
       "      <td>5</td>\n",
       "      <td>Steve Martin|Diane Keaton|Martin Short|Kimberl...</td>\n",
       "      <td>Albert Hackett</td>\n",
       "      <td>106.0</td>\n",
       "      <td>$30,000,000</td>\n",
       "      <td>fatherhood|doberman|dog|mansion</td>\n",
       "    </tr>\n",
       "  </tbody>\n",
       "</table>\n",
       "</div>"
      ],
      "text/plain": [
       "   movieId                                         title_cast  \\\n",
       "0        1  Tom Hanks|Tim Allen|Don Rickles|Jim Varney|Wal...   \n",
       "1        2  Robin Williams|Jonathan Hyde|Kirsten Dunst|Bra...   \n",
       "2        3  Walter Matthau|Jack Lemmon|Sophia Loren|Ann-Ma...   \n",
       "3        4  Whitney Houston|Angela Bassett|Loretta Devine|...   \n",
       "4        5  Steve Martin|Diane Keaton|Martin Short|Kimberl...   \n",
       "\n",
       "              director  runtime       budget  \\\n",
       "0        John Lasseter     81.0  $30,000,000   \n",
       "1   Jonathan Hensleigh    104.0  $65,000,000   \n",
       "2  Mark Steven Johnson    101.0  $25,000,000   \n",
       "3       Terry McMillan    124.0  $16,000,000   \n",
       "4       Albert Hackett    106.0  $30,000,000   \n",
       "\n",
       "                                       plot_keywords  \n",
       "0                   toy|rivalry|cowboy|cgi animation  \n",
       "1                   board game|adventurer|fight|game  \n",
       "2                         boat|lake|neighbor|rivalry  \n",
       "3  black american|husband wife relationship|betra...  \n",
       "4                    fatherhood|doberman|dog|mansion  "
      ]
     },
     "execution_count": 4,
     "metadata": {},
     "output_type": "execute_result"
    }
   ],
   "source": [
    "imdb.head()"
   ]
  },
  {
   "cell_type": "code",
   "execution_count": 7,
   "metadata": {
    "id": "7TAZ2X8Zawjr",
    "outputId": "8c8a4e00-ff26-4837-c197-379d2c9dcda6"
   },
   "outputs": [
    {
     "data": {
      "text/html": [
       "<div>\n",
       "<style scoped>\n",
       "    .dataframe tbody tr th:only-of-type {\n",
       "        vertical-align: middle;\n",
       "    }\n",
       "\n",
       "    .dataframe tbody tr th {\n",
       "        vertical-align: top;\n",
       "    }\n",
       "\n",
       "    .dataframe thead th {\n",
       "        text-align: right;\n",
       "    }\n",
       "</style>\n",
       "<table border=\"1\" class=\"dataframe\">\n",
       "  <thead>\n",
       "    <tr style=\"text-align: right;\">\n",
       "      <th></th>\n",
       "      <th>movieId</th>\n",
       "      <th>tagId</th>\n",
       "      <th>relevance</th>\n",
       "    </tr>\n",
       "  </thead>\n",
       "  <tbody>\n",
       "    <tr>\n",
       "      <th>0</th>\n",
       "      <td>1</td>\n",
       "      <td>1</td>\n",
       "      <td>0.02875</td>\n",
       "    </tr>\n",
       "    <tr>\n",
       "      <th>1</th>\n",
       "      <td>1</td>\n",
       "      <td>2</td>\n",
       "      <td>0.02375</td>\n",
       "    </tr>\n",
       "    <tr>\n",
       "      <th>2</th>\n",
       "      <td>1</td>\n",
       "      <td>3</td>\n",
       "      <td>0.06250</td>\n",
       "    </tr>\n",
       "    <tr>\n",
       "      <th>3</th>\n",
       "      <td>1</td>\n",
       "      <td>4</td>\n",
       "      <td>0.07575</td>\n",
       "    </tr>\n",
       "    <tr>\n",
       "      <th>4</th>\n",
       "      <td>1</td>\n",
       "      <td>5</td>\n",
       "      <td>0.14075</td>\n",
       "    </tr>\n",
       "  </tbody>\n",
       "</table>\n",
       "</div>"
      ],
      "text/plain": [
       "   movieId  tagId  relevance\n",
       "0        1      1    0.02875\n",
       "1        1      2    0.02375\n",
       "2        1      3    0.06250\n",
       "3        1      4    0.07575\n",
       "4        1      5    0.14075"
      ]
     },
     "execution_count": 7,
     "metadata": {},
     "output_type": "execute_result"
    }
   ],
   "source": [
    "genome_scores.head()"
   ]
  },
  {
   "cell_type": "code",
   "execution_count": null,
   "metadata": {
    "id": "tl-yxFkgawjr",
    "outputId": "c7d9ce64-267d-4e62-f584-ccb69c650b45"
   },
   "outputs": [],
   "source": [
    "genome_tags.head()"
   ]
  },
  {
   "cell_type": "code",
   "execution_count": 10,
   "metadata": {
    "id": "zSkbKChdawjs",
    "outputId": "5cd0b983-95f8-4270-e65c-81bf807167d6"
   },
   "outputs": [
    {
     "data": {
      "text/html": [
       "<div>\n",
       "<style scoped>\n",
       "    .dataframe tbody tr th:only-of-type {\n",
       "        vertical-align: middle;\n",
       "    }\n",
       "\n",
       "    .dataframe tbody tr th {\n",
       "        vertical-align: top;\n",
       "    }\n",
       "\n",
       "    .dataframe thead th {\n",
       "        text-align: right;\n",
       "    }\n",
       "</style>\n",
       "<table border=\"1\" class=\"dataframe\">\n",
       "  <thead>\n",
       "    <tr style=\"text-align: right;\">\n",
       "      <th></th>\n",
       "      <th>userId</th>\n",
       "      <th>movieId</th>\n",
       "      <th>tag</th>\n",
       "      <th>timestamp</th>\n",
       "    </tr>\n",
       "  </thead>\n",
       "  <tbody>\n",
       "    <tr>\n",
       "      <th>0</th>\n",
       "      <td>3</td>\n",
       "      <td>260</td>\n",
       "      <td>classic</td>\n",
       "      <td>1439472355</td>\n",
       "    </tr>\n",
       "    <tr>\n",
       "      <th>1</th>\n",
       "      <td>3</td>\n",
       "      <td>260</td>\n",
       "      <td>sci-fi</td>\n",
       "      <td>1439472256</td>\n",
       "    </tr>\n",
       "    <tr>\n",
       "      <th>2</th>\n",
       "      <td>4</td>\n",
       "      <td>1732</td>\n",
       "      <td>dark comedy</td>\n",
       "      <td>1573943598</td>\n",
       "    </tr>\n",
       "    <tr>\n",
       "      <th>3</th>\n",
       "      <td>4</td>\n",
       "      <td>1732</td>\n",
       "      <td>great dialogue</td>\n",
       "      <td>1573943604</td>\n",
       "    </tr>\n",
       "    <tr>\n",
       "      <th>4</th>\n",
       "      <td>4</td>\n",
       "      <td>7569</td>\n",
       "      <td>so bad it's good</td>\n",
       "      <td>1573943455</td>\n",
       "    </tr>\n",
       "  </tbody>\n",
       "</table>\n",
       "</div>"
      ],
      "text/plain": [
       "   userId  movieId               tag   timestamp\n",
       "0       3      260           classic  1439472355\n",
       "1       3      260            sci-fi  1439472256\n",
       "2       4     1732       dark comedy  1573943598\n",
       "3       4     1732    great dialogue  1573943604\n",
       "4       4     7569  so bad it's good  1573943455"
      ]
     },
     "execution_count": 10,
     "metadata": {},
     "output_type": "execute_result"
    }
   ],
   "source": [
    "tags.head()"
   ]
  },
  {
   "cell_type": "code",
   "execution_count": null,
   "metadata": {
    "id": "EXPhrb2_awjt",
    "outputId": "d7c53615-3e28-4ded-daea-958d47bf933a"
   },
   "outputs": [],
   "source": [
    "links.head()"
   ]
  },
  {
   "cell_type": "code",
   "execution_count": null,
   "metadata": {
    "id": "EuDhtIZUawjt",
    "outputId": "57cb9bab-756b-48f1-f2bf-4151c50e307d"
   },
   "outputs": [],
   "source": [
    "train.head()"
   ]
  },
  {
   "cell_type": "code",
   "execution_count": null,
   "metadata": {
    "id": "L-FXxpPpawju",
    "outputId": "c19a73bc-4f2b-41b2-aa6c-ed8536370545"
   },
   "outputs": [],
   "source": [
    "test.head()"
   ]
  },
  {
   "cell_type": "code",
   "execution_count": null,
   "metadata": {
    "execution": {
     "iopub.execute_input": "2021-07-05T12:35:04.989087Z",
     "iopub.status.busy": "2021-07-05T12:35:04.988798Z",
     "iopub.status.idle": "2021-07-05T12:35:05.017578Z",
     "shell.execute_reply": "2021-07-05T12:35:05.016634Z",
     "shell.execute_reply.started": "2021-07-05T12:35:04.989059Z"
    },
    "id": "-YJjdwoxawjv",
    "outputId": "976b55eb-622c-4f46-e6c6-b82bdc1b928a"
   },
   "outputs": [],
   "source": [
    "sample_submission.head()"
   ]
  },
  {
   "cell_type": "code",
   "execution_count": null,
   "metadata": {
    "execution": {
     "iopub.execute_input": "2021-07-05T12:35:05.088027Z",
     "iopub.status.busy": "2021-07-05T12:35:05.087649Z",
     "iopub.status.idle": "2021-07-05T12:35:07.714700Z",
     "shell.execute_reply": "2021-07-05T12:35:07.713374Z",
     "shell.execute_reply.started": "2021-07-05T12:35:05.087993Z"
    },
    "id": "Ju7EgAsFawjv"
   },
   "outputs": [],
   "source": [
    "dataset=pd.merge(train,movies,on='movieId')"
   ]
  },
  {
   "cell_type": "code",
   "execution_count": null,
   "metadata": {
    "execution": {
     "iopub.execute_input": "2021-07-05T12:35:07.716633Z",
     "iopub.status.busy": "2021-07-05T12:35:07.716257Z",
     "iopub.status.idle": "2021-07-05T12:35:07.730444Z",
     "shell.execute_reply": "2021-07-05T12:35:07.729386Z",
     "shell.execute_reply.started": "2021-07-05T12:35:07.716599Z"
    },
    "id": "Pm728cEXawjw",
    "outputId": "2fab7695-03c5-426f-ce6f-0547e0d8a554"
   },
   "outputs": [],
   "source": [
    "dataset.head()"
   ]
  },
  {
   "cell_type": "code",
   "execution_count": 8,
   "metadata": {
    "id": "SdIlT-pCawjx"
   },
   "outputs": [],
   "source": [
    "dataset1=pd.merge(imdb,movies,on='movieId')"
   ]
  },
  {
   "cell_type": "code",
   "execution_count": 11,
   "metadata": {},
   "outputs": [],
   "source": [
    "data=pd.merge(imdb,tags,on='movieId')"
   ]
  },
  {
   "cell_type": "code",
   "execution_count": 12,
   "metadata": {},
   "outputs": [
    {
     "data": {
      "text/html": [
       "<div>\n",
       "<style scoped>\n",
       "    .dataframe tbody tr th:only-of-type {\n",
       "        vertical-align: middle;\n",
       "    }\n",
       "\n",
       "    .dataframe tbody tr th {\n",
       "        vertical-align: top;\n",
       "    }\n",
       "\n",
       "    .dataframe thead th {\n",
       "        text-align: right;\n",
       "    }\n",
       "</style>\n",
       "<table border=\"1\" class=\"dataframe\">\n",
       "  <thead>\n",
       "    <tr style=\"text-align: right;\">\n",
       "      <th></th>\n",
       "      <th>movieId</th>\n",
       "      <th>title_cast</th>\n",
       "      <th>director</th>\n",
       "      <th>runtime</th>\n",
       "      <th>budget</th>\n",
       "      <th>plot_keywords</th>\n",
       "      <th>userId</th>\n",
       "      <th>tag</th>\n",
       "      <th>timestamp</th>\n",
       "    </tr>\n",
       "  </thead>\n",
       "  <tbody>\n",
       "    <tr>\n",
       "      <th>0</th>\n",
       "      <td>1</td>\n",
       "      <td>Tom Hanks|Tim Allen|Don Rickles|Jim Varney|Wal...</td>\n",
       "      <td>John Lasseter</td>\n",
       "      <td>81.0</td>\n",
       "      <td>$30,000,000</td>\n",
       "      <td>toy|rivalry|cowboy|cgi animation</td>\n",
       "      <td>791</td>\n",
       "      <td>Owned</td>\n",
       "      <td>1515175493</td>\n",
       "    </tr>\n",
       "    <tr>\n",
       "      <th>1</th>\n",
       "      <td>1</td>\n",
       "      <td>Tom Hanks|Tim Allen|Don Rickles|Jim Varney|Wal...</td>\n",
       "      <td>John Lasseter</td>\n",
       "      <td>81.0</td>\n",
       "      <td>$30,000,000</td>\n",
       "      <td>toy|rivalry|cowboy|cgi animation</td>\n",
       "      <td>1048</td>\n",
       "      <td>imdb top 250</td>\n",
       "      <td>1172144394</td>\n",
       "    </tr>\n",
       "    <tr>\n",
       "      <th>2</th>\n",
       "      <td>1</td>\n",
       "      <td>Tom Hanks|Tim Allen|Don Rickles|Jim Varney|Wal...</td>\n",
       "      <td>John Lasseter</td>\n",
       "      <td>81.0</td>\n",
       "      <td>$30,000,000</td>\n",
       "      <td>toy|rivalry|cowboy|cgi animation</td>\n",
       "      <td>1361</td>\n",
       "      <td>Pixar</td>\n",
       "      <td>1216146311</td>\n",
       "    </tr>\n",
       "    <tr>\n",
       "      <th>3</th>\n",
       "      <td>1</td>\n",
       "      <td>Tom Hanks|Tim Allen|Don Rickles|Jim Varney|Wal...</td>\n",
       "      <td>John Lasseter</td>\n",
       "      <td>81.0</td>\n",
       "      <td>$30,000,000</td>\n",
       "      <td>toy|rivalry|cowboy|cgi animation</td>\n",
       "      <td>3164</td>\n",
       "      <td>Pixar</td>\n",
       "      <td>1223304727</td>\n",
       "    </tr>\n",
       "    <tr>\n",
       "      <th>4</th>\n",
       "      <td>1</td>\n",
       "      <td>Tom Hanks|Tim Allen|Don Rickles|Jim Varney|Wal...</td>\n",
       "      <td>John Lasseter</td>\n",
       "      <td>81.0</td>\n",
       "      <td>$30,000,000</td>\n",
       "      <td>toy|rivalry|cowboy|cgi animation</td>\n",
       "      <td>3164</td>\n",
       "      <td>time travel</td>\n",
       "      <td>1223304729</td>\n",
       "    </tr>\n",
       "    <tr>\n",
       "      <th>...</th>\n",
       "      <td>...</td>\n",
       "      <td>...</td>\n",
       "      <td>...</td>\n",
       "      <td>...</td>\n",
       "      <td>...</td>\n",
       "      <td>...</td>\n",
       "      <td>...</td>\n",
       "      <td>...</td>\n",
       "      <td>...</td>\n",
       "    </tr>\n",
       "    <tr>\n",
       "      <th>903062</th>\n",
       "      <td>131262</td>\n",
       "      <td>Sophie Lane Curtis|Kelly Reilly|Graham Phillip...</td>\n",
       "      <td>Hilary Brougher</td>\n",
       "      <td>96.0</td>\n",
       "      <td>NaN</td>\n",
       "      <td>hex|witch|virgin|blood</td>\n",
       "      <td>6550</td>\n",
       "      <td>car accident</td>\n",
       "      <td>1527214719</td>\n",
       "    </tr>\n",
       "    <tr>\n",
       "      <th>903063</th>\n",
       "      <td>131262</td>\n",
       "      <td>Sophie Lane Curtis|Kelly Reilly|Graham Phillip...</td>\n",
       "      <td>Hilary Brougher</td>\n",
       "      <td>96.0</td>\n",
       "      <td>NaN</td>\n",
       "      <td>hex|witch|virgin|blood</td>\n",
       "      <td>6550</td>\n",
       "      <td>high school</td>\n",
       "      <td>1527214719</td>\n",
       "    </tr>\n",
       "    <tr>\n",
       "      <th>903064</th>\n",
       "      <td>131262</td>\n",
       "      <td>Sophie Lane Curtis|Kelly Reilly|Graham Phillip...</td>\n",
       "      <td>Hilary Brougher</td>\n",
       "      <td>96.0</td>\n",
       "      <td>NaN</td>\n",
       "      <td>hex|witch|virgin|blood</td>\n",
       "      <td>6550</td>\n",
       "      <td>woman director</td>\n",
       "      <td>1527214719</td>\n",
       "    </tr>\n",
       "    <tr>\n",
       "      <th>903065</th>\n",
       "      <td>131262</td>\n",
       "      <td>Sophie Lane Curtis|Kelly Reilly|Graham Phillip...</td>\n",
       "      <td>Hilary Brougher</td>\n",
       "      <td>96.0</td>\n",
       "      <td>NaN</td>\n",
       "      <td>hex|witch|virgin|blood</td>\n",
       "      <td>33844</td>\n",
       "      <td>Vampire</td>\n",
       "      <td>1436145769</td>\n",
       "    </tr>\n",
       "    <tr>\n",
       "      <th>903066</th>\n",
       "      <td>131262</td>\n",
       "      <td>Sophie Lane Curtis|Kelly Reilly|Graham Phillip...</td>\n",
       "      <td>Hilary Brougher</td>\n",
       "      <td>96.0</td>\n",
       "      <td>NaN</td>\n",
       "      <td>hex|witch|virgin|blood</td>\n",
       "      <td>33844</td>\n",
       "      <td>Virgin blood</td>\n",
       "      <td>1436146067</td>\n",
       "    </tr>\n",
       "  </tbody>\n",
       "</table>\n",
       "<p>903067 rows × 9 columns</p>\n",
       "</div>"
      ],
      "text/plain": [
       "        movieId                                         title_cast  \\\n",
       "0             1  Tom Hanks|Tim Allen|Don Rickles|Jim Varney|Wal...   \n",
       "1             1  Tom Hanks|Tim Allen|Don Rickles|Jim Varney|Wal...   \n",
       "2             1  Tom Hanks|Tim Allen|Don Rickles|Jim Varney|Wal...   \n",
       "3             1  Tom Hanks|Tim Allen|Don Rickles|Jim Varney|Wal...   \n",
       "4             1  Tom Hanks|Tim Allen|Don Rickles|Jim Varney|Wal...   \n",
       "...         ...                                                ...   \n",
       "903062   131262  Sophie Lane Curtis|Kelly Reilly|Graham Phillip...   \n",
       "903063   131262  Sophie Lane Curtis|Kelly Reilly|Graham Phillip...   \n",
       "903064   131262  Sophie Lane Curtis|Kelly Reilly|Graham Phillip...   \n",
       "903065   131262  Sophie Lane Curtis|Kelly Reilly|Graham Phillip...   \n",
       "903066   131262  Sophie Lane Curtis|Kelly Reilly|Graham Phillip...   \n",
       "\n",
       "               director  runtime       budget  \\\n",
       "0         John Lasseter     81.0  $30,000,000   \n",
       "1         John Lasseter     81.0  $30,000,000   \n",
       "2         John Lasseter     81.0  $30,000,000   \n",
       "3         John Lasseter     81.0  $30,000,000   \n",
       "4         John Lasseter     81.0  $30,000,000   \n",
       "...                 ...      ...          ...   \n",
       "903062  Hilary Brougher     96.0          NaN   \n",
       "903063  Hilary Brougher     96.0          NaN   \n",
       "903064  Hilary Brougher     96.0          NaN   \n",
       "903065  Hilary Brougher     96.0          NaN   \n",
       "903066  Hilary Brougher     96.0          NaN   \n",
       "\n",
       "                           plot_keywords  userId             tag   timestamp  \n",
       "0       toy|rivalry|cowboy|cgi animation     791           Owned  1515175493  \n",
       "1       toy|rivalry|cowboy|cgi animation    1048    imdb top 250  1172144394  \n",
       "2       toy|rivalry|cowboy|cgi animation    1361           Pixar  1216146311  \n",
       "3       toy|rivalry|cowboy|cgi animation    3164           Pixar  1223304727  \n",
       "4       toy|rivalry|cowboy|cgi animation    3164     time travel  1223304729  \n",
       "...                                  ...     ...             ...         ...  \n",
       "903062            hex|witch|virgin|blood    6550    car accident  1527214719  \n",
       "903063            hex|witch|virgin|blood    6550     high school  1527214719  \n",
       "903064            hex|witch|virgin|blood    6550  woman director  1527214719  \n",
       "903065            hex|witch|virgin|blood   33844         Vampire  1436145769  \n",
       "903066            hex|witch|virgin|blood   33844    Virgin blood  1436146067  \n",
       "\n",
       "[903067 rows x 9 columns]"
      ]
     },
     "execution_count": 12,
     "metadata": {},
     "output_type": "execute_result"
    }
   ],
   "source": [
    "data"
   ]
  },
  {
   "cell_type": "code",
   "execution_count": 14,
   "metadata": {},
   "outputs": [],
   "source": [
    "movies = {\n",
    "  \"movie_id\": data['movieId'],\n",
    "  \"title\": data['title_cast'],\n",
    "  \"tags\": data['tag']\n",
    "}"
   ]
  },
  {
   "cell_type": "code",
   "execution_count": 16,
   "metadata": {},
   "outputs": [
    {
     "data": {
      "text/plain": [
       "['movie_id', 'title', 'tags']"
      ]
     },
     "execution_count": 16,
     "metadata": {},
     "output_type": "execute_result"
    }
   ],
   "source": [
    "list(movies)"
   ]
  },
  {
   "cell_type": "code",
   "execution_count": 18,
   "metadata": {},
   "outputs": [],
   "source": [
    "with open('movie.pkl', 'wb') as handle:\n",
    "    pickle.dump(movies, handle, protocol=pickle.HIGHEST_PROTOCOL)"
   ]
  },
  {
   "cell_type": "code",
   "execution_count": 9,
   "metadata": {
    "id": "UUp9GxBAawjx",
    "outputId": "f5e38efd-3527-4663-843f-ed188f9bb25b",
    "scrolled": true
   },
   "outputs": [
    {
     "data": {
      "text/html": [
       "<div>\n",
       "<style scoped>\n",
       "    .dataframe tbody tr th:only-of-type {\n",
       "        vertical-align: middle;\n",
       "    }\n",
       "\n",
       "    .dataframe tbody tr th {\n",
       "        vertical-align: top;\n",
       "    }\n",
       "\n",
       "    .dataframe thead th {\n",
       "        text-align: right;\n",
       "    }\n",
       "</style>\n",
       "<table border=\"1\" class=\"dataframe\">\n",
       "  <thead>\n",
       "    <tr style=\"text-align: right;\">\n",
       "      <th></th>\n",
       "      <th>movieId</th>\n",
       "      <th>title_cast</th>\n",
       "      <th>director</th>\n",
       "      <th>runtime</th>\n",
       "      <th>budget</th>\n",
       "      <th>plot_keywords</th>\n",
       "      <th>title</th>\n",
       "      <th>genres</th>\n",
       "    </tr>\n",
       "  </thead>\n",
       "  <tbody>\n",
       "    <tr>\n",
       "      <th>0</th>\n",
       "      <td>1</td>\n",
       "      <td>Tom Hanks|Tim Allen|Don Rickles|Jim Varney|Wal...</td>\n",
       "      <td>John Lasseter</td>\n",
       "      <td>81.0</td>\n",
       "      <td>$30,000,000</td>\n",
       "      <td>toy|rivalry|cowboy|cgi animation</td>\n",
       "      <td>Toy Story (1995)</td>\n",
       "      <td>Adventure|Animation|Children|Comedy|Fantasy</td>\n",
       "    </tr>\n",
       "    <tr>\n",
       "      <th>1</th>\n",
       "      <td>2</td>\n",
       "      <td>Robin Williams|Jonathan Hyde|Kirsten Dunst|Bra...</td>\n",
       "      <td>Jonathan Hensleigh</td>\n",
       "      <td>104.0</td>\n",
       "      <td>$65,000,000</td>\n",
       "      <td>board game|adventurer|fight|game</td>\n",
       "      <td>Jumanji (1995)</td>\n",
       "      <td>Adventure|Children|Fantasy</td>\n",
       "    </tr>\n",
       "    <tr>\n",
       "      <th>2</th>\n",
       "      <td>3</td>\n",
       "      <td>Walter Matthau|Jack Lemmon|Sophia Loren|Ann-Ma...</td>\n",
       "      <td>Mark Steven Johnson</td>\n",
       "      <td>101.0</td>\n",
       "      <td>$25,000,000</td>\n",
       "      <td>boat|lake|neighbor|rivalry</td>\n",
       "      <td>Grumpier Old Men (1995)</td>\n",
       "      <td>Comedy|Romance</td>\n",
       "    </tr>\n",
       "    <tr>\n",
       "      <th>3</th>\n",
       "      <td>4</td>\n",
       "      <td>Whitney Houston|Angela Bassett|Loretta Devine|...</td>\n",
       "      <td>Terry McMillan</td>\n",
       "      <td>124.0</td>\n",
       "      <td>$16,000,000</td>\n",
       "      <td>black american|husband wife relationship|betra...</td>\n",
       "      <td>Waiting to Exhale (1995)</td>\n",
       "      <td>Comedy|Drama|Romance</td>\n",
       "    </tr>\n",
       "    <tr>\n",
       "      <th>4</th>\n",
       "      <td>5</td>\n",
       "      <td>Steve Martin|Diane Keaton|Martin Short|Kimberl...</td>\n",
       "      <td>Albert Hackett</td>\n",
       "      <td>106.0</td>\n",
       "      <td>$30,000,000</td>\n",
       "      <td>fatherhood|doberman|dog|mansion</td>\n",
       "      <td>Father of the Bride Part II (1995)</td>\n",
       "      <td>Comedy</td>\n",
       "    </tr>\n",
       "  </tbody>\n",
       "</table>\n",
       "</div>"
      ],
      "text/plain": [
       "   movieId                                         title_cast  \\\n",
       "0        1  Tom Hanks|Tim Allen|Don Rickles|Jim Varney|Wal...   \n",
       "1        2  Robin Williams|Jonathan Hyde|Kirsten Dunst|Bra...   \n",
       "2        3  Walter Matthau|Jack Lemmon|Sophia Loren|Ann-Ma...   \n",
       "3        4  Whitney Houston|Angela Bassett|Loretta Devine|...   \n",
       "4        5  Steve Martin|Diane Keaton|Martin Short|Kimberl...   \n",
       "\n",
       "              director  runtime       budget  \\\n",
       "0        John Lasseter     81.0  $30,000,000   \n",
       "1   Jonathan Hensleigh    104.0  $65,000,000   \n",
       "2  Mark Steven Johnson    101.0  $25,000,000   \n",
       "3       Terry McMillan    124.0  $16,000,000   \n",
       "4       Albert Hackett    106.0  $30,000,000   \n",
       "\n",
       "                                       plot_keywords  \\\n",
       "0                   toy|rivalry|cowboy|cgi animation   \n",
       "1                   board game|adventurer|fight|game   \n",
       "2                         boat|lake|neighbor|rivalry   \n",
       "3  black american|husband wife relationship|betra...   \n",
       "4                    fatherhood|doberman|dog|mansion   \n",
       "\n",
       "                                title  \\\n",
       "0                    Toy Story (1995)   \n",
       "1                      Jumanji (1995)   \n",
       "2             Grumpier Old Men (1995)   \n",
       "3            Waiting to Exhale (1995)   \n",
       "4  Father of the Bride Part II (1995)   \n",
       "\n",
       "                                        genres  \n",
       "0  Adventure|Animation|Children|Comedy|Fantasy  \n",
       "1                   Adventure|Children|Fantasy  \n",
       "2                               Comedy|Romance  \n",
       "3                         Comedy|Drama|Romance  \n",
       "4                                       Comedy  "
      ]
     },
     "execution_count": 9,
     "metadata": {},
     "output_type": "execute_result"
    }
   ],
   "source": [
    "dataset1.head()"
   ]
  },
  {
   "cell_type": "code",
   "execution_count": null,
   "metadata": {},
   "outputs": [],
   "source": []
  },
  {
   "cell_type": "markdown",
   "metadata": {
    "id": "EBDWTMy8awjy"
   },
   "source": [
    "# 4. DATA PREPROCESSING\n",
    "---"
   ]
  },
  {
   "cell_type": "markdown",
   "metadata": {
    "id": "Gh1KSEjFawjy"
   },
   "source": [
    "Firstly, we check if our data has any null values, missing values and blank spaces."
   ]
  },
  {
   "cell_type": "code",
   "execution_count": null,
   "metadata": {
    "id": "OdWe5rdMawjy",
    "outputId": "35051e01-1c27-4a0c-e747-4b42c34d4f68"
   },
   "outputs": [],
   "source": [
    "train.isnull().sum()"
   ]
  },
  {
   "cell_type": "code",
   "execution_count": null,
   "metadata": {
    "id": "9g7sCvaAawjz",
    "outputId": "3e18b8ef-8aa8-4169-c3c8-f9db6d580719"
   },
   "outputs": [],
   "source": [
    "test.isnull().sum()"
   ]
  },
  {
   "cell_type": "code",
   "execution_count": null,
   "metadata": {
    "id": "X0oCvqqnawjz",
    "outputId": "c1ed709f-c3c6-4c5e-fa2b-676d174ce310"
   },
   "outputs": [],
   "source": [
    "movies.isnull().sum()"
   ]
  },
  {
   "cell_type": "code",
   "execution_count": null,
   "metadata": {
    "id": "osUG6WSoawjz",
    "outputId": "6011da90-5bf1-4e76-dfe5-900c79bc487e"
   },
   "outputs": [],
   "source": [
    "imdb.isnull().sum()"
   ]
  },
  {
   "cell_type": "code",
   "execution_count": null,
   "metadata": {
    "id": "OTzAQgbUawj0",
    "outputId": "6e8d1f9e-f913-4dca-e2c2-70c2b0a5f3e7"
   },
   "outputs": [],
   "source": [
    "genome_scores.isnull().sum()"
   ]
  },
  {
   "cell_type": "code",
   "execution_count": null,
   "metadata": {
    "id": "ZDG7XL--awj0",
    "outputId": "7748330e-2ea1-41a7-d0dd-185ab6a82480"
   },
   "outputs": [],
   "source": [
    "genome_tags.isnull().sum()"
   ]
  },
  {
   "cell_type": "code",
   "execution_count": null,
   "metadata": {
    "id": "KVIbyiY5awj1",
    "outputId": "c99e13b8-8972-4cdc-bc92-760a8aa0291a"
   },
   "outputs": [],
   "source": [
    "tags.isnull().sum()"
   ]
  },
  {
   "cell_type": "code",
   "execution_count": null,
   "metadata": {
    "id": "1K7YN2_fawj1",
    "outputId": "91e6cae0-bf69-4aec-8c9a-b153a3bf5625"
   },
   "outputs": [],
   "source": [
    "links.isnull().sum()"
   ]
  },
  {
   "cell_type": "code",
   "execution_count": null,
   "metadata": {
    "id": "sNDkMIFcawj2",
    "outputId": "02f1b90f-5f82-409c-9004-28c7bf368231"
   },
   "outputs": [],
   "source": [
    "blanks = []  \n",
    "\n",
    "for ms in movies.itertuples():  \n",
    "    if type(ms)==str:            \n",
    "        if ms.isspace():         \n",
    "            blanks.append(i)     \n",
    "        \n",
    "print(len(blanks), 'blanks: ', blanks)"
   ]
  },
  {
   "cell_type": "code",
   "execution_count": null,
   "metadata": {
    "id": "9Svbb7MIawj2",
    "outputId": "05f4b40c-4d4f-4e43-8616-38e9067192a9"
   },
   "outputs": [],
   "source": [
    "blanks = []  \n",
    "\n",
    "for ms in imdb.itertuples():  \n",
    "    if type(ms)==str:            \n",
    "        if ms.isspace():         \n",
    "            blanks.append(i)     \n",
    "        \n",
    "print(len(blanks), 'blanks: ', blanks)"
   ]
  },
  {
   "cell_type": "code",
   "execution_count": null,
   "metadata": {
    "id": "JRCGJ4qdawj3",
    "outputId": "c16550d0-10a9-4a9b-b410-ef44af90fbf5"
   },
   "outputs": [],
   "source": [
    "blanks = []  \n",
    "\n",
    "for ms in genome_scores.itertuples():  \n",
    "    if type(ms)==str:            \n",
    "        if ms.isspace():         \n",
    "            blanks.append(i)     \n",
    "        \n",
    "print(len(blanks), 'blanks: ', blanks)"
   ]
  },
  {
   "cell_type": "code",
   "execution_count": null,
   "metadata": {
    "id": "GaiIh9Pyawj3",
    "outputId": "b5f83b6c-b40c-46b9-e6de-bb3fa8009dfa"
   },
   "outputs": [],
   "source": [
    "blanks = []  \n",
    "\n",
    "for ms in tags.itertuples():  \n",
    "    if type(ms)==str:            \n",
    "        if ms.isspace():         \n",
    "            blanks.append(i)     \n",
    "        \n",
    "print(len(blanks), 'blanks: ', blanks)"
   ]
  },
  {
   "cell_type": "code",
   "execution_count": null,
   "metadata": {
    "id": "rwYPAilLawj4",
    "outputId": "e21e0798-6a7d-4ccb-ab09-d6ae3741ba83"
   },
   "outputs": [],
   "source": [
    "blanks = []  \n",
    "\n",
    "for ms in links.itertuples():  \n",
    "    if type(ms)==str:            \n",
    "        if ms.isspace():         \n",
    "            blanks.append(i)     \n",
    "        \n",
    "print(len(blanks), 'blanks: ', blanks)"
   ]
  },
  {
   "cell_type": "markdown",
   "metadata": {
    "id": "T0Mth2CZawj5"
   },
   "source": [
    "# 5. EXPLORATORY DATA ANALYSIS\n",
    "---\n",
    "\n",
    "Now let us begin the process of exploring our data. This process will be referred to as Exploratory Data Analysis or EDA. The reason we explore the data is to gain insight on the data and how it behaves. Exploratory data analysis (EDA) is a term for certain kinds of initial analysis and findings done with data sets, usually early on in an analytical process. Some experts describe it as “taking a peek” at the data to understand more about what it represents and how to apply it."
   ]
  },
  {
   "cell_type": "markdown",
   "metadata": {
    "id": "D9yU0Lt0awj6"
   },
   "source": [
    "### Most common genres"
   ]
  },
  {
   "cell_type": "code",
   "execution_count": null,
   "metadata": {
    "id": "4podU0kzawj6",
    "outputId": "90b79d5c-584d-41a7-95b9-16794f1bcf31"
   },
   "outputs": [],
   "source": [
    "# Create dataframe containing only the movieId and genres\n",
    "movies_genres = pd.DataFrame(movies[['movieId', 'genres']],\n",
    "                             columns=['movieId', 'genres'])\n",
    "\n",
    "# Split genres seperated by \"|\" and create a list containing the genres allocated to each movie\n",
    "movies_genres.genres = movies_genres.genres.apply(lambda x: x.split('|'))\n",
    "\n",
    "# Create expanded dataframe where each movie-genre combination is in a seperate row\n",
    "movies_genres = pd.DataFrame([(tup.movieId, d) for tup in movies_genres.itertuples() for d in tup.genres],\n",
    "                             columns=['movieId', 'genres'])\n",
    "\n",
    "movies_genres.head()"
   ]
  },
  {
   "cell_type": "code",
   "execution_count": null,
   "metadata": {
    "id": "xtA5zGJFawj7",
    "outputId": "a23dbb99-453d-4fbb-b336-bdd2abec1c2b"
   },
   "outputs": [],
   "source": [
    "# Plot the genres from most common to least common\n",
    "plot = plt.figure(figsize=(15, 10))\n",
    "plt.title('Most common genres\\n', fontsize=20)\n",
    "sns.countplot(y=\"genres\", data=movies_genres,\n",
    "              order=movies_genres['genres'].value_counts(ascending=False).index,\n",
    "              palette='Reds_r')\n",
    "plt.show()"
   ]
  },
  {
   "cell_type": "markdown",
   "metadata": {
    "id": "KX3Hnor6awj7"
   },
   "source": [
    "##### Observation:\n",
    "The graph above shows that the most common genres are drama, comedy, thriller, etc. People love drama movies more than any other genre therefore more of those should always form part of a user's recommendation. Children and animation genres are equally common and this could be attributed to the fact that most children's movies are animated."
   ]
  },
  {
   "cell_type": "markdown",
   "metadata": {
    "id": "ETh_vJxRawj7"
   },
   "source": [
    "### Ratings per user"
   ]
  },
  {
   "cell_type": "code",
   "execution_count": null,
   "metadata": {
    "execution": {
     "iopub.execute_input": "2021-07-05T12:35:20.038670Z",
     "iopub.status.busy": "2021-07-05T12:35:20.038250Z",
     "iopub.status.idle": "2021-07-05T12:35:20.290415Z",
     "shell.execute_reply": "2021-07-05T12:35:20.289140Z",
     "shell.execute_reply.started": "2021-07-05T12:35:20.038626Z"
    },
    "id": "WmsqF3T2awj7"
   },
   "outputs": [],
   "source": [
    "train1 = train.copy()\n",
    "train1.drop('timestamp', axis = 1, inplace = True)"
   ]
  },
  {
   "cell_type": "code",
   "execution_count": null,
   "metadata": {
    "execution": {
     "iopub.execute_input": "2021-07-05T12:35:20.292404Z",
     "iopub.status.busy": "2021-07-05T12:35:20.292062Z",
     "iopub.status.idle": "2021-07-05T12:35:20.789875Z",
     "shell.execute_reply": "2021-07-05T12:35:20.788640Z",
     "shell.execute_reply.started": "2021-07-05T12:35:20.292367Z"
    },
    "id": "tGjDJ0cYawj8",
    "outputId": "ac666472-8579-4048-dff8-e25e39ac2ff1"
   },
   "outputs": [],
   "source": [
    "ratings_per_user = train1.groupby('userId')['rating'].count().reset_index().sort_values('rating', ascending=False)\n",
    "ratings_per_user"
   ]
  },
  {
   "cell_type": "code",
   "execution_count": null,
   "metadata": {
    "id": "hW0OnQQXawj8",
    "outputId": "9e6952f7-2640-461d-bf24-eb1cae0fa432"
   },
   "outputs": [],
   "source": [
    "#create a list of the ratings in order to create a bar graph from the list \n",
    "ratings_list = ratings_per_user['rating'].tolist()\n",
    "out = pd.cut(ratings_list, bins=[1,10,100,1000,10000,11000], include_lowest = True)\n",
    "ax = out.value_counts().plot.bar(rot=0, color=\"#bb3d23\", figsize=(15,10))\n",
    "ax.set_xticklabels(ax.get_xticklabels())\n",
    "plt.title('Ratings per user')\n",
    "plt.show()"
   ]
  },
  {
   "cell_type": "markdown",
   "metadata": {
    "id": "nCziXrPYawj9"
   },
   "source": [
    "##### Observation: \n",
    "The bar graph above shows the number of times users have made ratings. About 20 000 users have only rated movies less than \n",
    "10 times while more than 100 000 have rated more than 10 times. There are super rators, such as userID 72315 that have made more than 10 000 ratings.\n",
    "Insight drawn from this graph is that a lot of people do rate movies therefore a recommender system is worth the investment. "
   ]
  },
  {
   "cell_type": "markdown",
   "metadata": {
    "id": "BfsuHlSbawj9"
   },
   "source": [
    "### Distribution of ratings"
   ]
  },
  {
   "cell_type": "code",
   "execution_count": null,
   "metadata": {
    "id": "EKnwmnSaawj9",
    "outputId": "ba916ae0-37a7-4567-de09-030b8f88c4a2"
   },
   "outputs": [],
   "source": [
    "sub_df= train['rating'].value_counts().sort_index().reset_index()\n",
    "fig, ax = plt.subplots(figsize=(15,10))\n",
    "sns.barplot(data=sub_df, x='index', y='rating', palette=\"Reds_r\", edgecolor=\"black\", ax=ax)\n",
    "ax.set_xlabel(\"Rating\")\n",
    "ax.set_ylabel('Number of Users')\n",
    "ax.set_yticklabels(['{:,}'.format(int(x)) for x in ax.get_yticks().tolist()])\n",
    "total = float(sub_df['rating'].sum())\n",
    "for p in ax.patches:\n",
    "    height = p.get_height()\n",
    "    ax.text(p.get_x()+p.get_width()/2., height+350,\n",
    "            '{0:.2%}'.format(height/total), fontsize=11, ha=\"center\", va='bottom')\n",
    "plt.title('Percentage of Users Per Rating', fontsize=14)\n",
    "plt.show()"
   ]
  },
  {
   "cell_type": "code",
   "execution_count": null,
   "metadata": {
    "id": "XIDj00rmawj-",
    "outputId": "00856af2-5c41-4932-a5e4-57999b8af67a"
   },
   "outputs": [],
   "source": [
    "# Create the colour palette\n",
    "labels = '0.5 star','1 star','1.5 stars','2 stars','2.5 stars','3 stars','3.5 stars','4 stars','4.5 stars','5 stars'\n",
    "sizes = (train['rating'].value_counts().sort_index()).tolist()\n",
    "theme = plt.get_cmap('Reds')\n",
    "ax.set_prop_cycle(\"color\", [theme(1. * i / len(labels))\n",
    "                                 for i in range(len(labels))])\n",
    "sns.set(font_scale=1.25)\n",
    "\n",
    "\n",
    "fig1, ax1 = plt.subplots(figsize=(8,12))\n",
    "pie = ax1.pie(sizes, labels=labels,autopct='%1.1f%%')\n",
    "ax1.axis('equal') \n",
    "#plt.title('Ratings Distribution')\n",
    "\n",
    "# Turn the pie chart into a donut chart\n",
    "centre_circle = plt.Circle((0,0),0.70,fc='white')\n",
    "fig = plt.gcf()\n",
    "fig.gca().add_artist(centre_circle)\n",
    "\n",
    "# Display the donut chart with a legend\n",
    "plt.title('Ratings Distribution')\n",
    "#ax.set_title('Rating distribution', fontsize=15)\n",
    "plt.legend(pie[0], labels, loc=\"center\")\n",
    "plt.tight_layout()\n",
    "plt.show()\n",
    "\n"
   ]
  },
  {
   "cell_type": "markdown",
   "metadata": {
    "id": "BSidDEwxawj-"
   },
   "source": [
    "##### Observation:\n",
    "The train distribution shows that there are relatively fewer movies that are lower rated. This can be because most of the users who didn't like the movie, didn't care enough to rate the movie. You should note this, it can be useful later. As you wouldn't want to recommend movies with relatively low number of ratings as users probably didn't like them.\n",
    "\n",
    "4 Star ratings make up the largest portion of ratings in the MovieLens dataset, accounting for 26.5% of the overall ratings.\n",
    "5 star ratings make up 14.5% of the overall ratings (3rd largest portion).\n",
    "0.5 star ratings account for the smallest portion of the ratings at a mere 1.6%.\n",
    "Ratings between 2 and 0.5 stars account for 12.9%"
   ]
  },
  {
   "cell_type": "code",
   "execution_count": null,
   "metadata": {
    "id": "yqnWs5OYiV6s"
   },
   "outputs": [],
   "source": []
  },
  {
   "cell_type": "markdown",
   "metadata": {
    "id": "TV_5p8bXawkA"
   },
   "source": [
    "### Most appearing director"
   ]
  },
  {
   "cell_type": "code",
   "execution_count": null,
   "metadata": {
    "id": "BCA7LkOhawkB",
    "outputId": "99f990e0-7c7a-43d6-c3c3-a4c84c918da6"
   },
   "outputs": [],
   "source": [
    "imdb['director'].nunique()"
   ]
  },
  {
   "cell_type": "code",
   "execution_count": null,
   "metadata": {
    "id": "YcqWAbP3awkB"
   },
   "outputs": [],
   "source": [
    "def count_directors(df, count = 10):\n",
    "    directors = pd.DataFrame(df['director'].value_counts()).reset_index()\n",
    "    directors.columns = ['director', 'count']\n",
    "    # Lets only take directors who have made 10 or more movies otherwise we will have to analyze 11000 directors\n",
    "    directors = directors[directors['count']>=count]\n",
    "    return directors.sort_values('count', ascending = False)"
   ]
  },
  {
   "cell_type": "code",
   "execution_count": null,
   "metadata": {
    "id": "cLKEQbZFawkB"
   },
   "outputs": [],
   "source": [
    "def feature_count(df, column):\n",
    "    plt.figure(figsize=(14,7))\n",
    "    ax = sns.barplot(x = df[f'{column}'], y= df['count'], palette='Reds_r')\n",
    "    for p in ax.patches:\n",
    "        ax.text(p.get_x() + p.get_width()/2., p.get_height(), '%d' % int(p.get_height()), fontsize=11, ha='center', va='bottom')\n",
    "    plt.title(f'Number of Movies Per {column}', fontsize=14)\n",
    "    plt.xlabel(f'{column}')\n",
    "    plt.ylabel('Count')\n",
    "    plt.xticks(rotation=90)\n",
    "    plt.show()"
   ]
  },
  {
   "cell_type": "code",
   "execution_count": null,
   "metadata": {
    "id": "haYXBjXuawkC",
    "outputId": "89e3573b-8199-47e9-c14d-00712e801b31"
   },
   "outputs": [],
   "source": [
    "directors = count_directors(imdb)\n",
    "feature_count(directors.head(15), 'director')"
   ]
  },
  {
   "cell_type": "code",
   "execution_count": null,
   "metadata": {
    "id": "3Zx33nkTawkC"
   },
   "outputs": [],
   "source": [
    "dataset2 = dataset1.head(500)"
   ]
  },
  {
   "cell_type": "code",
   "execution_count": null,
   "metadata": {
    "id": "ki1QFH_PawkD",
    "outputId": "eca11b2b-7610-4baf-919c-cb6379c03946"
   },
   "outputs": [],
   "source": [
    "dataset2.isna().sum()"
   ]
  },
  {
   "cell_type": "code",
   "execution_count": null,
   "metadata": {
    "id": "BxIwM2fCawkD",
    "outputId": "1b128af6-8533-4a28-b92a-fb30f989937f"
   },
   "outputs": [],
   "source": [
    "popular_directors = pd.DataFrame(dataset2['director'].value_counts())\n",
    "popular_directors = popular_directors.head(10)\n",
    "\n",
    "# Wordcloud of TAGS\n",
    "directors = dataset2['director'] = dataset2['director'].astype('str')\n",
    "directors_wordcloud = ' '.join(directors)\n",
    "direct_wordcloud = WordCloud(stopwords = STOPWORDS,\n",
    "                            background_color = 'Black',\n",
    "                            height = 1200,\n",
    "                            width = 1900,\n",
    "                           colormap='Reds').generate(directors_wordcloud)\n",
    "plt.figure(figsize = (14,7), facecolor=None)\n",
    "plt.imshow(direct_wordcloud)\n",
    "plt.axis('off')\n",
    "plt.title('Distribution of directors')\n",
    "plt.tight_layout(pad=0)\n",
    "plt.show()"
   ]
  },
  {
   "cell_type": "markdown",
   "metadata": {
    "id": "Mzlos_bxawkD"
   },
   "source": [
    "##### Observation:\n",
    "From above we can see that some directors have directed movies a lot more than others. We have Luc Besson with the most directs at 26 movies and some directors at only 12 movies. The number of times directors have worked on a movie helps better understand their directing style and how they are likely to be rated. With this information, we should be able to make better recommendations based on the popularity of the director and their track record."
   ]
  },
  {
   "cell_type": "markdown",
   "metadata": {
    "id": "MeT00650awkE"
   },
   "source": [
    "### Total movies released per year"
   ]
  },
  {
   "cell_type": "code",
   "execution_count": null,
   "metadata": {
    "id": "m2d5m_fqawkE",
    "outputId": "b0fc5c96-3497-49a8-8107-50531be58f09"
   },
   "outputs": [],
   "source": [
    "movies['release_year']=movies['title'].str[-5:-1] #extracting released year\n",
    "movies['genres']=movies['genres'].str.split('|') #spliting the genres into a list\n",
    "movies=pd.concat([movies,train['rating']],axis=1).dropna() #concatinate ratings with movies dataframe\n",
    "movies.head()"
   ]
  },
  {
   "cell_type": "code",
   "execution_count": null,
   "metadata": {
    "id": "oKC7AilhawkE",
    "outputId": "69519358-5ac5-4bcb-a794-20f89d4e640e"
   },
   "outputs": [],
   "source": [
    "imdb['title_cast']=imdb['title_cast'].str.split('|') #spliting the title cast into a list\n",
    "imdb['plot_keywords']=imdb['plot_keywords'].str.split('|') #spliting the Key words into a list\n",
    "imdb.head()"
   ]
  },
  {
   "cell_type": "code",
   "execution_count": null,
   "metadata": {
    "id": "wrb2igNvawkF",
    "outputId": "80b0ac85-c2e4-4a43-b724-05266632d408"
   },
   "outputs": [],
   "source": [
    "#Plotting total amount of movies released in each year using a count plot.\n",
    "figure= plt.subplots(figsize=(15, 5))\n",
    "axes=sns.countplot(x=movies['release_year'], order = movies['release_year'].value_counts()[0:50].index,color='#bb3d23')\n",
    "axes.set_title('Total movies released per year',fontsize=19)\n",
    "plt.xticks(rotation=90)\n",
    "plt.show()"
   ]
  },
  {
   "cell_type": "markdown",
   "metadata": {
    "id": "mntU9SEJawkF"
   },
   "source": [
    "##### Observation:\n",
    "Above, we observe that the years 2015 and 2016 are the years where the highest number of movies were released.What the diagram above communicates to us is that as the years progress, the amount of movies being released have significantly increased.\n",
    "This can be largely attributed to the fact that technology has changed a lot of industries and entry into these industry allows for fair competition and variety. "
   ]
  },
  {
   "cell_type": "code",
   "execution_count": null,
   "metadata": {
    "id": "MkpwKJe2awkG",
    "outputId": "930e44ad-db7f-488e-a07f-6282b5e192d7"
   },
   "outputs": [],
   "source": [
    "#Plotting popular cast using a count-plot\n",
    "plt.figure(figsize = (15,5))\n",
    "title_cast=imdb['title_cast'].explode()\n",
    "ax=sns.countplot(x=title_cast, order = title_cast.value_counts().index[:20],color='#bb3d23')\n",
    "ax.set_title('Top 20 Popular Actors',fontsize=15)\n",
    "plt.xticks(rotation=90)\n",
    "plt.show()"
   ]
  },
  {
   "cell_type": "markdown",
   "metadata": {
    "id": "0nI8f73lawkG"
   },
   "source": [
    "##### Observation:\n",
    "Actors and actresses are artists that have a following and a fanbase. Some actors are contracted more than others. The graph above shows that Samuel L Jackson has been in more than 80 movies. Other famous actors as well have been featured a large number of times. People are likely to watch a movie that has their favourite actor in the movie and these artists wouldn't have been featured so many times if they weren't good. "
   ]
  },
  {
   "cell_type": "code",
   "execution_count": null,
   "metadata": {
    "id": "NYrmVhgFawkH",
    "outputId": "fd8bd151-de1a-4985-ba07-62ee62b8a545"
   },
   "outputs": [],
   "source": [
    "# Wordcloud of movie titles\n",
    "movies_word = movies['title'] = movies['title'].astype('str')\n",
    "movies_wordcloud = ' '.join(movies_word)\n",
    "title_wordcloud = WordCloud(stopwords = STOPWORDS,\n",
    "                            background_color = 'Black',\n",
    "                            height = 1200,\n",
    "                            width = 1900,\n",
    "                           colormap='Reds').generate(movies_wordcloud)\n",
    "plt.figure(figsize = (14,7), facecolor=None)\n",
    "plt.imshow(title_wordcloud)\n",
    "plt.axis('off')\n",
    "plt.title('Distribution of words from movie titles')\n",
    "plt.tight_layout(pad=0)\n",
    "plt.show()"
   ]
  },
  {
   "cell_type": "markdown",
   "metadata": {
    "id": "CFngSOpBawkH"
   },
   "source": [
    "##### Observation:\n",
    "The visual above shows which words are commonly used when movies are titled. The bigger the word, the more it is being used. As can be seen, the word \"love\", \"Man\", and \"Girl\" appears the most."
   ]
  },
  {
   "cell_type": "code",
   "execution_count": null,
   "metadata": {
    "id": "ThuhJczTawkI",
    "outputId": "1f1f037a-ae9b-42c1-d5a3-8b06f055fbf9"
   },
   "outputs": [],
   "source": [
    "#check number of repeating titles. \n",
    "repeating_movies = pd.DataFrame(movies['title'].value_counts())\n",
    "repeating_movies['title'].value_counts()"
   ]
  },
  {
   "cell_type": "code",
   "execution_count": null,
   "metadata": {
    "id": "VTWs-jQuawkI",
    "outputId": "68f370fb-3006-4e99-99bf-2251448d16ca"
   },
   "outputs": [],
   "source": [
    "#create parameters for the graph\n",
    "repeat_df = pd.DataFrame(repeating_movies['title'].value_counts())\n",
    "repeat_df\n",
    "\n",
    "label = 'New titles','Repeating titles'\n",
    "size = repeating_movies['title'].value_counts()\n",
    "\n",
    "fig1, ax1 = plt.subplots(figsize=(8,12))\n",
    "ax1.pie(size, labels=label)\n",
    "ax1.axis('equal') \n",
    "plt.title('Repeating and New movie titles')\n",
    "plt.show()"
   ]
  },
  {
   "cell_type": "markdown",
   "metadata": {
    "id": "wpoqDqK6awkI"
   },
   "source": [
    "##### Observation:\n",
    "From the graph it looks insignificant but most movies titles have only been used once but about 98 movie titles have been used twice. This may cause some confusion for the customers therefore producers are encouraged to avoid using cliche or already used titles that way the movies are not skipped when they come up recommendations (user might assume they have already seen it)"
   ]
  },
  {
   "cell_type": "markdown",
   "metadata": {
    "id": "ZprKuli_awkK"
   },
   "source": [
    "# 6. MODELLING\n",
    "---"
   ]
  },
  {
   "cell_type": "markdown",
   "metadata": {
    "id": "46nvz6UWawkK"
   },
   "source": [
    "\n",
    "# Building the reccomender system\n",
    "Recommender systems function with two kinds of information:\n",
    "\n",
    "- Characteristic information: This is information about items (keywords, categories, etc.) and users (preferences, profiles, etc.).\n",
    "\n",
    "- User-item interactions: This is information such as ratings, number of purchases, likes, etc.\n",
    "\n",
    "Based on this, we can distinguish between three algorithms used in recommender systems"
   ]
  },
  {
   "cell_type": "markdown",
   "metadata": {
    "id": "Mpt6jZQ-awkK"
   },
   "source": [
    "# CONTENT BASED FILTERING\n",
    "Idea: If you like an item then you will also like a “similar” item\n",
    "\n",
    "\n",
    "\n",
    "\n"
   ]
  },
  {
   "cell_type": "markdown",
   "metadata": {
    "id": "QZCB2nGTawkL"
   },
   "source": []
  },
  {
   "cell_type": "code",
   "execution_count": null,
   "metadata": {
    "id": "HSsGLaglawkL"
   },
   "outputs": [],
   "source": [
    "# Convert data types to strings for string handling\n",
    "dataset1['title_cast'] = dataset1.title_cast.astype(str)\n",
    "dataset1['plot_keywords'] = dataset1.plot_keywords.astype(str)\n",
    "dataset1['genres'] = dataset1.genres.astype(str)\n",
    "dataset1['director'] = dataset1.director.astype(str)"
   ]
  },
  {
   "cell_type": "code",
   "execution_count": null,
   "metadata": {
    "id": "N1Kxao_pawkM",
    "outputId": "9fa72d22-8345-4aa9-d0c8-7ef134b31515"
   },
   "outputs": [],
   "source": [
    "# Creating an empty column and list to store the corpus for each movie\n",
    "dataset1['corpus'] = ''\n",
    "corpus = []\n",
    "\n",
    "# List of the columns we want to use to create our corpus \n",
    "columns = ['title_cast', 'director', 'plot_keywords', 'genres']\n",
    "\n",
    "# For each movie, combine the contents of the selected columns to form it's unique corpus \n",
    "for i in range(0, len(dataset1['movieId'])):\n",
    "    words = ''\n",
    "    for col in columns:\n",
    "        words = words + dataset1.iloc[i][col] + \" \"        \n",
    "    corpus.append(words)\n",
    "    # Add the corpus information for each movie to the dataframe \n",
    "dataset1['corpus'] = corpus\n",
    "dataset1.set_index('movieId', inplace=True)\n",
    "\n",
    "# Drop the columns we don't need anymore to preserve memory\n",
    "dataset1.drop(columns=['title_cast', 'director', 'plot_keywords', 'genres'], inplace=True)\n",
    "\n",
    "dataset1.head()"
   ]
  },
  {
   "cell_type": "code",
   "execution_count": null,
   "metadata": {
    "id": "Q97TwTYbawkM"
   },
   "outputs": [],
   "source": [
    "from sklearn.feature_extraction.text import CountVectorizer as CountVectorizer\n",
    "cv = CountVectorizer()\n",
    "count_matrix = cv.fit_transform(dataset1['corpus'])\n"
   ]
  },
  {
   "cell_type": "markdown",
   "metadata": {
    "id": "jpnfeCCeawkN"
   },
   "source": [
    "Similarity is calculated as the cosine of the angle between the 2 vectors of the item vectors of A and B. The closer the vectors, the smaller the angle and larger the cosine similarity."
   ]
  },
  {
   "cell_type": "code",
   "execution_count": null,
   "metadata": {
    "id": "MWlioEkEawkO",
    "outputId": "82378bb1-0615-4c8c-e8f1-a8cbc9127132"
   },
   "outputs": [],
   "source": [
    "cos_sim = cosine_similarity(count_matrix, count_matrix)\n",
    "print(cos_sim.shape)\n",
    "cos_sim"
   ]
  },
  {
   "cell_type": "code",
   "execution_count": null,
   "metadata": {
    "id": "RYP8OjUcawkQ",
    "outputId": "6b466da2-8d4a-471a-c3bf-abc9a6947fa8"
   },
   "outputs": [],
   "source": [
    "def get_topN_recommendations(title, n=10):\n",
    "    \"\"\"\n",
    "    This function gets the top n recomended movies based on the \n",
    "    title of the movie input by the user \n",
    "    \n",
    "    Input: title\n",
    "           Datatype: str\n",
    "           \n",
    "           n (default = 10)\n",
    "           Datatype: int\n",
    "    \"\"\" \n",
    "    # Create a a copy of the input dataframe where the index has been reset\n",
    "    df1 = dataset1.reset_index()\n",
    "    \n",
    "    # Extract the movie titles\n",
    "    titles = df1['title']\n",
    "    indices = pd.Series(df1.index, index=dataset1['title'])\n",
    "    idx = indices[title]\n",
    "    \n",
    "    # Get the similarity scores of the top n movies most similar to the user input\n",
    "    sim_scores = list(enumerate(cos_sim[idx]))\n",
    "    sim_scores = sorted(sim_scores, key=lambda x: x[1], reverse=True)\n",
    "    sim_scores = sim_scores[1:n]\n",
    "    \n",
    "    # Exctract the titles of the top n most similar movies  \n",
    "    movie_indices = [i[0] for i in sim_scores]\n",
    "    \n",
    "    return titles.iloc[movie_indices]\n",
    "\n",
    "get_topN_recommendations('Ice Age (2002)').head(10)"
   ]
  },
  {
   "cell_type": "markdown",
   "metadata": {
    "id": "GmASDb2BawkR"
   },
   "source": [
    "# COLLABORATIVE FILTERING"
   ]
  },
  {
   "cell_type": "markdown",
   "metadata": {
    "id": "RLZyEq6DawkR"
   },
   "source": [
    "# Feature Engineering"
   ]
  },
  {
   "cell_type": "code",
   "execution_count": null,
   "metadata": {
    "execution": {
     "iopub.execute_input": "2021-07-05T12:35:23.668024Z",
     "iopub.status.busy": "2021-07-05T12:35:23.667647Z",
     "iopub.status.idle": "2021-07-05T12:35:37.613463Z",
     "shell.execute_reply": "2021-07-05T12:35:37.612389Z",
     "shell.execute_reply.started": "2021-07-05T12:35:23.667991Z"
    },
    "id": "s_klVF6eawkT"
   },
   "outputs": [],
   "source": [
    "# Load reader and data \n",
    "reader = Reader(rating_scale=(0.5, 5))\n",
    "train2 = Dataset.load_from_df(train1[['userId', 'movieId', 'rating']], reader)"
   ]
  },
  {
   "cell_type": "markdown",
   "metadata": {
    "id": "WXZbfKm4awkT"
   },
   "source": [
    "\n",
    "The models we are going to train are:\n",
    "- Baseline Only model\n",
    "- SVD model\n"
   ]
  },
  {
   "cell_type": "markdown",
   "metadata": {
    "id": "5e9L7wxOawkb"
   },
   "source": [
    "# Hyperparameter tunning of best model"
   ]
  },
  {
   "cell_type": "code",
   "execution_count": null,
   "metadata": {
    "execution": {
     "iopub.execute_input": "2021-07-05T12:56:50.855433Z",
     "iopub.status.busy": "2021-07-05T12:56:50.855127Z",
     "iopub.status.idle": "2021-07-05T13:23:30.207040Z",
     "shell.execute_reply": "2021-07-05T13:23:30.205738Z",
     "shell.execute_reply.started": "2021-07-05T12:56:50.855405Z"
    },
    "id": "S7AZChmbawkc",
    "outputId": "0110c897-6471-49f4-d2ce-3a8c070c5d18"
   },
   "outputs": [],
   "source": [
    "rating_scale = Reader(rating_scale=(0.5, 5))\n",
    "train = Dataset.load_from_df(train.drop('timestamp', axis=1), rating_scale)\n",
    "\n",
    "# Training and validation set split for hypertuning\n",
    "train_set, val_set = train_test_split(train,\n",
    "                                      test_size=0.008,\n",
    "                                      random_state=42)\n",
    "\n",
    "# Modelling of the SVD hypertuning\n",
    "svd_algo_hyper = SVD(n_factors=160, \n",
    "                     lr_all=0.0085,\n",
    "                     reg_all=0.02,\n",
    "                     n_epochs=20,\n",
    "                     init_std_dev=0.01)\n",
    "svd_algo_hyper.fit(train_set)\n",
    "\n",
    "# Predicting on the validation set\n",
    "svd_hyper_predictions = svd_algo_hyper.test(val_set)\n",
    "\n",
    "# Convert the predictions to dataframe\n",
    "#test = pd.DataFrame(predictions)\n",
    "accuracy.rmse(svd_hyper_predictions)\n",
    "\n",
    "# Dictionary for the data to log for the SVD tuned model\n",
    "params = {'model_name': 'SVD_Tuned'}\n",
    "metrics = {'RMSE': accuracy.rmse(svd_hyper_predictions)}"
   ]
  },
  {
   "cell_type": "markdown",
   "metadata": {
    "id": "KMe3Iceoawkd"
   },
   "source": [
    "Hyperparameter tuning makes the process of determining the best hyperparameter settings easier and less tedious. The model that has been tuned is the SVD model and the performance increased. "
   ]
  },
  {
   "cell_type": "code",
   "execution_count": null,
   "metadata": {
    "id": "XmxSBRgTawke",
    "outputId": "702d21e1-7fa8-455b-94ce-ef35cefd14ad"
   },
   "outputs": [],
   "source": [
    "mydict = {f'SVD Hyper': 0.7889,\n",
    "          f'SVD': 0.8263,\n",
    "          f'Baseline Only': 0.8652,\n",
    "          f'NMF': 0.8810\n",
    "         }\n",
    "\n",
    "i = pd.DataFrame(mydict.items(), columns=['Model', 'RSME'])\n",
    "i"
   ]
  },
  {
   "cell_type": "markdown",
   "metadata": {
    "id": "Y_0TkbQ2awkf"
   },
   "source": [
    "#### Making predictions"
   ]
  },
  {
   "cell_type": "code",
   "execution_count": null,
   "metadata": {
    "execution": {
     "iopub.execute_input": "2021-07-05T13:23:30.208782Z",
     "iopub.status.busy": "2021-07-05T13:23:30.208440Z",
     "iopub.status.idle": "2021-07-05T13:33:01.652582Z",
     "shell.execute_reply": "2021-07-05T13:33:01.650922Z",
     "shell.execute_reply.started": "2021-07-05T13:23:30.208747Z"
    },
    "id": "Y4q8kzRPawkf"
   },
   "outputs": [],
   "source": [
    "pred_svd_hyper = [svd_algo_hyper.predict(row.userId,\n",
    "                                         row.movieId) for idx,row in test.iterrows()]\n",
    "\n",
    "# Converting the predictions to a dataframe\n",
    "test_pred_svd_hyper = pd.DataFrame(pred_svd_hyper)"
   ]
  },
  {
   "cell_type": "markdown",
   "metadata": {
    "id": "0h1wo4A4awkg"
   },
   "source": [
    "#### Displaying predictions"
   ]
  },
  {
   "cell_type": "code",
   "execution_count": null,
   "metadata": {
    "execution": {
     "iopub.execute_input": "2021-07-05T13:33:01.657465Z",
     "iopub.status.busy": "2021-07-05T13:33:01.656961Z",
     "iopub.status.idle": "2021-07-05T13:33:01.839488Z",
     "shell.execute_reply": "2021-07-05T13:33:01.838454Z",
     "shell.execute_reply.started": "2021-07-05T13:33:01.657409Z"
    },
    "id": "tASjDXtNawkh",
    "outputId": "dace2d5d-8560-4e5f-c449-e40ff061b964"
   },
   "outputs": [],
   "source": [
    "#renaming the fields of the prediction dataframe\n",
    "test_pred_svd_hyper.drop(['r_ui', 'details'], axis=1, inplace=True)\n",
    "test_pred_svd_hyper = test_pred_svd_hyper.rename(columns={'uid':'userId',\n",
    "                                                          'iid':'movieId',\n",
    "                                                          'est':'rating'})\n",
    "test_pred_svd_hyper.head()"
   ]
  },
  {
   "cell_type": "code",
   "execution_count": null,
   "metadata": {
    "execution": {
     "iopub.execute_input": "2021-07-05T13:33:01.841488Z",
     "iopub.status.busy": "2021-07-05T13:33:01.841170Z",
     "iopub.status.idle": "2021-07-05T13:33:22.882088Z",
     "shell.execute_reply": "2021-07-05T13:33:22.873704Z",
     "shell.execute_reply.started": "2021-07-05T13:33:01.841457Z"
    },
    "id": "SEzuKoABawkh"
   },
   "outputs": [],
   "source": [
    "# Concatenating each userId and movieId to a single Id column for submission\n",
    "test_pred_svd_hyper['Id'] =  test_pred_svd_hyper['userId'].astype(str).str.zfill(1) + '_' + test_pred_svd_hyper['movieId'].astype(str).str.zfill(1)"
   ]
  },
  {
   "cell_type": "code",
   "execution_count": null,
   "metadata": {
    "execution": {
     "iopub.execute_input": "2021-07-05T13:33:22.891489Z",
     "iopub.status.busy": "2021-07-05T13:33:22.891061Z",
     "iopub.status.idle": "2021-07-05T13:33:23.113555Z",
     "shell.execute_reply": "2021-07-05T13:33:23.112375Z",
     "shell.execute_reply.started": "2021-07-05T13:33:22.891451Z"
    },
    "id": "jmkisMc_awki",
    "outputId": "294716f9-948a-4218-85b5-3644305e6895"
   },
   "outputs": [],
   "source": [
    "svd_hyper_predictions = test_pred_svd_hyper[['Id','rating']]\n",
    "svd_hyper_predictions.head()"
   ]
  },
  {
   "cell_type": "code",
   "execution_count": null,
   "metadata": {
    "execution": {
     "iopub.execute_input": "2021-07-05T13:48:31.038195Z",
     "iopub.status.busy": "2021-07-05T13:48:31.037761Z",
     "iopub.status.idle": "2021-07-05T13:48:50.399593Z",
     "shell.execute_reply": "2021-07-05T13:48:50.398337Z",
     "shell.execute_reply.started": "2021-07-05T13:48:31.038160Z"
    },
    "id": "g8_XxuHwawkk"
   },
   "outputs": [],
   "source": [
    "svd_hyper_predictions[['Id','rating']].to_csv('MM2_submission.csv', index=False)"
   ]
  },
  {
   "cell_type": "code",
   "execution_count": null,
   "metadata": {
    "execution": {
     "iopub.execute_input": "2021-07-05T13:53:31.850427Z",
     "iopub.status.busy": "2021-07-05T13:53:31.849977Z",
     "iopub.status.idle": "2021-07-05T13:53:31.865903Z",
     "shell.execute_reply": "2021-07-05T13:53:31.864909Z",
     "shell.execute_reply.started": "2021-07-05T13:53:31.850395Z"
    },
    "id": "LXBTzeZRawkl",
    "outputId": "62bd3b86-8d16-4f5a-8e66-416f7dc2720d"
   },
   "outputs": [],
   "source": [
    "svd_hyper_predictions"
   ]
  },
  {
   "cell_type": "code",
   "execution_count": null,
   "metadata": {
    "id": "c7Qp7gNwawkm"
   },
   "outputs": [],
   "source": [
    "model_save_path = \"svd.pkl\"\n",
    "with open(model_save_path, 'wb') as file:\n",
    "    pickle.dump(svd_algo_hyper, file)"
   ]
  },
  {
   "cell_type": "code",
   "execution_count": null,
   "metadata": {
    "id": "pArt5OH8awkn"
   },
   "outputs": [],
   "source": [
    "model_save_path = \"nmf.pkl\"\n",
    "with open(model_save_path, 'wb') as file:\n",
    "    pickle.dump(algo_nmf, file)"
   ]
  },
  {
   "cell_type": "code",
   "execution_count": null,
   "metadata": {
    "id": "WTg_MWscawkn"
   },
   "outputs": [],
   "source": [
    "model_save_path = \"b.pkl\"\n",
    "with open(model_save_path, 'wb') as file:\n",
    "    pickle.dump(algo_b, file)"
   ]
  },
  {
   "cell_type": "code",
   "execution_count": null,
   "metadata": {},
   "outputs": [],
   "source": [
    "# Store data (serialize)\n",
    "with open('movies.pickle', 'wb') as handle:\n",
    "    pickle.dump(your_data, handle, protocol=pickle.HIGHEST_PROTOCOL)"
   ]
  },
  {
   "cell_type": "markdown",
   "metadata": {
    "id": "T7Mc_W0Cawkp"
   },
   "source": [
    "#### Ending comet experiment"
   ]
  },
  {
   "cell_type": "code",
   "execution_count": null,
   "metadata": {
    "id": "QWSN1Jhyawkp"
   },
   "outputs": [],
   "source": [
    "params={\"random_state\":7,\n",
    "        'model_name': 'SVD_Tuned',\n",
    "        \"stratify\":True\n",
    "}\n",
    "\n",
    "metrics = {'RMSE': accuracy.rmse(svd_hyper_predictions)}\n",
    "\n",
    "\n",
    "experiment.log_parameters(params)\n",
    "experiment.log_metrics(metrics)\n"
   ]
  },
  {
   "cell_type": "code",
   "execution_count": null,
   "metadata": {
    "id": "GWCQOlGAawkq",
    "outputId": "5bf2ca7f-f8c3-41ea-c3bc-a40477cf3ec0"
   },
   "outputs": [],
   "source": [
    "experiment.end()"
   ]
  },
  {
   "cell_type": "code",
   "execution_count": null,
   "metadata": {
    "id": "QgBEdX9CfcuQ"
   },
   "outputs": [],
   "source": []
  },
  {
   "cell_type": "markdown",
   "metadata": {
    "id": "TxU6YQvryNOv"
   },
   "source": [
    "<a id=\"section-six\"></a>\n",
    "# Submission"
   ]
  },
  {
   "cell_type": "code",
   "execution_count": null,
   "metadata": {
    "id": "n4HSyIqayNOw"
   },
   "outputs": [],
   "source": [
    "# Train the model on the entire dataset \n",
    "reader = Reader(rating_scale=(0.5, 5))\n",
    "data = Dataset.load_from_df(train[['userId','movieId','rating']], reader)\n",
    "trainingSet = data.build_full_trainset()\n",
    "svd.fit(trainingSet)\n",
    "\n",
    "# Make predictions using the trained model\n",
    "pred = [svd.predict(test.userId[i],test.movieId[i]).est for i in test.index]\n",
    "test['rating'] = pred"
   ]
  },
  {
   "cell_type": "code",
   "execution_count": null,
   "metadata": {
    "id": "hMqF2X4jyNOz"
   },
   "outputs": [],
   "source": [
    "# Create the csv file for submission\n",
    "test['Id'] = test['userId'].astype(str)+'_'+test['movieId'].astype(str)\n",
    "test = test[['Id','rating']]\n",
    "test.to_csv('svd_submission.csv', index=False)"
   ]
  },
  {
   "cell_type": "code",
   "execution_count": null,
   "metadata": {
    "id": "fss7kEOOyNO2"
   },
   "outputs": [],
   "source": [
    "test.head()"
   ]
  },
  {
   "cell_type": "markdown",
   "metadata": {
    "id": "iFqNDACuawkr"
   },
   "source": [
    "# CONCLUSION \n",
    "---\n"
   ]
  }
 ],
 "metadata": {
  "colab": {
   "name": "Team_MM2_Unsupervised _final.ipynb",
   "provenance": []
  },
  "kernelspec": {
   "display_name": "Python 3",
   "language": "python",
   "name": "python3"
  },
  "language_info": {
   "codemirror_mode": {
    "name": "ipython",
    "version": 3
   },
   "file_extension": ".py",
   "mimetype": "text/x-python",
   "name": "python",
   "nbconvert_exporter": "python",
   "pygments_lexer": "ipython3",
   "version": "3.8.8"
  }
 },
 "nbformat": 4,
 "nbformat_minor": 1
}
