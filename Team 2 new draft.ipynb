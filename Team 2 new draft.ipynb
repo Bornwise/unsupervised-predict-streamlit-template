{
  "cells": [
    {
      "cell_type": "markdown",
      "metadata": {
        "id": "86FU97yC383b"
      },
      "source": [
        "# TEAM 2 MOVIE RECOMMENDER SYSTEM\n",
        "\n",
        "![image.png](https://manofmany.com/wp-content/uploads/2020/04/Veboli-new-2.jpg)"
      ]
    },
    {
      "cell_type": "markdown",
      "metadata": {
        "id": "egpLr2lD383f"
      },
      "source": [
        "# Team members\n",
        "### Sithomile Mbuyazi\n",
        "### Kgotso Phela\n",
        "### Lehlogonolo Jessica Teffo\n",
        "### Bornwise Mahlaule\n",
        "### Sebaka Mogano"
      ]
    },
    {
      "cell_type": "markdown",
      "metadata": {
        "id": "qJCsIQMa383f"
      },
      "source": [
        "# Table of Content\n",
        "### [1. Introduction](#introduction)\n",
        "### [2. Loading Data, Libraries and Comet](#data)\n",
        "### [3. Exploratory Data Analysis](#EDA)\n",
        "### [4. Model Building](#modeling)\n",
        "### [5. Submission](#submission)\n",
        "### [6. Conclusion](#conclusion)\n"
      ]
    },
    {
      "cell_type": "markdown",
      "metadata": {
        "id": "rvCrTZvU383g"
      },
      "source": [
        "<a id=\"introduction\"></a>\n",
        "# **1. Introduction**"
      ]
    },
    {
      "cell_type": "markdown",
      "metadata": {
        "id": "COsQ_Tlw383g"
      },
      "source": [
        "\n",
        "\n",
        "In today’s technology driven world, recommender systems are socially and economically critical to ensure that individuals can make optimised choices surrounding the content they engage with on a daily basis. One application where this is especially true is movie recommendations; where intelligent algorithms can help viewers find great titles from tens of thousands of options.\n",
        "\n",
        "With this context, EDSA is challenging you to construct a recommendation algorithm based on content or collaborative filtering, capable of accurately predicting how a user will rate a movie they have not yet viewed, based on their historical preferences.\n",
        "\n",
        "Providing an accurate and robust solution to this challenge has immense economic potential, with users of the system being personalised recommendations - generating platform affinity for the streaming services which best facilitates their audience's viewing.\n",
        "\n",
        "![Image of Movie Recommender systems](https://research.aimultiple.com/wp-content/uploads/2017/08/recommendation-system.png)"
      ]
    },
    {
      "cell_type": "markdown",
      "metadata": {
        "id": "jAyOOeyZ383h"
      },
      "source": [
        "<a id=\"data\"></a>\n",
        "###  **2. Loading Data, Libraries and Comet**"
      ]
    },
    {
      "cell_type": "markdown",
      "metadata": {
        "id": "TEdTbOiP383i"
      },
      "source": [
        "\n",
        "---\n",
        "\n",
        "\n",
        "### 2.1 Comet Experiement\n",
        "Comet will be used for version control"
      ]
    },
    {
      "cell_type": "code",
      "execution_count": null,
      "metadata": {
        "id": "kThQGiL_383j",
        "outputId": "14b1700b-4499-4d1d-c0f0-3362b71348b3"
      },
      "outputs": [
        {
          "name": "stderr",
          "output_type": "stream",
          "text": [
            "COMET WARNING: As you are running in a Jupyter environment, you will need to call `experiment.end()` when finished to ensure all metrics and code are logged before exiting.\n",
            "ERROR:root:Internal Python error in the inspect module.\n",
            "Below is the traceback from this internal error.\n",
            "\n",
            "ERROR:root:Internal Python error in the inspect module.\n",
            "Below is the traceback from this internal error.\n",
            "\n"
          ]
        },
        {
          "name": "stdout",
          "output_type": "stream",
          "text": [
            "Traceback (most recent call last):\n",
            "  File \"C:\\ProgramData\\Anaconda3\\lib\\site-packages\\urllib3\\connection.py\", line 169, in _new_conn\n",
            "    conn = connection.create_connection(\n",
            "  File \"C:\\ProgramData\\Anaconda3\\lib\\site-packages\\urllib3\\util\\connection.py\", line 73, in create_connection\n",
            "    for res in socket.getaddrinfo(host, port, family, socket.SOCK_STREAM):\n",
            "  File \"C:\\ProgramData\\Anaconda3\\lib\\socket.py\", line 918, in getaddrinfo\n",
            "    for res in _socket.getaddrinfo(host, port, family, type, proto, flags):\n",
            "socket.gaierror: [Errno 11001] getaddrinfo failed\n",
            "\n",
            "During handling of the above exception, another exception occurred:\n",
            "\n",
            "Traceback (most recent call last):\n",
            "  File \"C:\\ProgramData\\Anaconda3\\lib\\site-packages\\urllib3\\connectionpool.py\", line 699, in urlopen\n",
            "    httplib_response = self._make_request(\n",
            "  File \"C:\\ProgramData\\Anaconda3\\lib\\site-packages\\urllib3\\connectionpool.py\", line 382, in _make_request\n",
            "    self._validate_conn(conn)\n",
            "  File \"C:\\ProgramData\\Anaconda3\\lib\\site-packages\\urllib3\\connectionpool.py\", line 1010, in _validate_conn\n",
            "    conn.connect()\n",
            "  File \"C:\\ProgramData\\Anaconda3\\lib\\site-packages\\urllib3\\connection.py\", line 353, in connect\n",
            "    conn = self._new_conn()\n",
            "  File \"C:\\ProgramData\\Anaconda3\\lib\\site-packages\\urllib3\\connection.py\", line 181, in _new_conn\n",
            "    raise NewConnectionError(\n",
            "urllib3.exceptions.NewConnectionError: <urllib3.connection.HTTPSConnection object at 0x000001DE14E97FA0>: Failed to establish a new connection: [Errno 11001] getaddrinfo failed\n",
            "\n",
            "During handling of the above exception, another exception occurred:\n",
            "\n",
            "Traceback (most recent call last):\n",
            "  File \"C:\\ProgramData\\Anaconda3\\lib\\site-packages\\IPython\\core\\interactiveshell.py\", line 3437, in run_code\n",
            "    exec(code_obj, self.user_global_ns, self.user_ns)\n",
            "  File \"<ipython-input-1-67ec9f5a0bb9>\", line 6, in <module>\n",
            "    experiment = Experiment(\n",
            "  File \"C:\\ProgramData\\Anaconda3\\lib\\site-packages\\comet_ml\\__init__.py\", line 306, in __init__\n",
            "    self._start()\n",
            "  File \"C:\\ProgramData\\Anaconda3\\lib\\site-packages\\comet_ml\\experiment.py\", line 820, in _start\n",
            "    self.alive = self._setup_streamer()\n",
            "  File \"C:\\ProgramData\\Anaconda3\\lib\\site-packages\\comet_ml\\__init__.py\", line 343, in _setup_streamer\n",
            "    self.rest_api_client = get_rest_api_client(\n",
            "  File \"C:\\ProgramData\\Anaconda3\\lib\\site-packages\\comet_ml\\connection.py\", line 1548, in get_rest_api_client\n",
            "    return RestApiClient(\n",
            "  File \"C:\\ProgramData\\Anaconda3\\lib\\site-packages\\comet_ml\\connection.py\", line 1679, in __init__\n",
            "    self._check_version()\n",
            "  File \"C:\\ProgramData\\Anaconda3\\lib\\site-packages\\comet_ml\\connection.py\", line 1697, in _check_version\n",
            "    self._check_api_backend_version(minimal_backend_version)\n",
            "  File \"C:\\ProgramData\\Anaconda3\\lib\\site-packages\\comet_ml\\connection.py\", line 3471, in _check_api_backend_version\n",
            "    response = self.low_level_api_client.get(\n",
            "  File \"C:\\ProgramData\\Anaconda3\\lib\\site-packages\\comet_ml\\connection.py\", line 355, in get\n",
            "    response = session.get(\n",
            "  File \"C:\\ProgramData\\Anaconda3\\lib\\site-packages\\requests\\sessions.py\", line 555, in get\n",
            "    return self.request('GET', url, **kwargs)\n",
            "  File \"C:\\ProgramData\\Anaconda3\\lib\\site-packages\\requests\\sessions.py\", line 542, in request\n",
            "    resp = self.send(prep, **send_kwargs)\n",
            "  File \"C:\\ProgramData\\Anaconda3\\lib\\site-packages\\requests\\sessions.py\", line 655, in send\n",
            "    r = adapter.send(request, **kwargs)\n",
            "  File \"C:\\ProgramData\\Anaconda3\\lib\\site-packages\\requests\\adapters.py\", line 439, in send\n",
            "    resp = conn.urlopen(\n",
            "  File \"C:\\ProgramData\\Anaconda3\\lib\\site-packages\\urllib3\\connectionpool.py\", line 783, in urlopen\n",
            "    return self.urlopen(\n",
            "  File \"C:\\ProgramData\\Anaconda3\\lib\\site-packages\\urllib3\\connectionpool.py\", line 783, in urlopen\n",
            "    return self.urlopen(\n",
            "  File \"C:\\ProgramData\\Anaconda3\\lib\\site-packages\\urllib3\\connectionpool.py\", line 758, in urlopen\n",
            "    retries.sleep()\n",
            "  File \"C:\\ProgramData\\Anaconda3\\lib\\site-packages\\urllib3\\util\\retry.py\", line 414, in sleep\n",
            "    self._sleep_backoff()\n",
            "  File \"C:\\ProgramData\\Anaconda3\\lib\\site-packages\\urllib3\\util\\retry.py\", line 398, in _sleep_backoff\n",
            "    time.sleep(backoff)\n",
            "KeyboardInterrupt\n",
            "\n",
            "During handling of the above exception, another exception occurred:\n",
            "\n",
            "Traceback (most recent call last):\n",
            "  File \"C:\\ProgramData\\Anaconda3\\lib\\site-packages\\IPython\\core\\interactiveshell.py\", line 2061, in showtraceback\n",
            "    stb = value._render_traceback_()\n",
            "AttributeError: 'KeyboardInterrupt' object has no attribute '_render_traceback_'\n",
            "\n",
            "During handling of the above exception, another exception occurred:\n",
            "\n",
            "Traceback (most recent call last):\n",
            "  File \"C:\\ProgramData\\Anaconda3\\lib\\site-packages\\IPython\\core\\ultratb.py\", line 1101, in get_records\n",
            "    return _fixed_getinnerframes(etb, number_of_lines_of_context, tb_offset)\n",
            "  File \"C:\\ProgramData\\Anaconda3\\lib\\site-packages\\IPython\\core\\ultratb.py\", line 248, in wrapped\n",
            "    return f(*args, **kwargs)\n",
            "  File \"C:\\ProgramData\\Anaconda3\\lib\\site-packages\\IPython\\core\\ultratb.py\", line 281, in _fixed_getinnerframes\n",
            "    records = fix_frame_records_filenames(inspect.getinnerframes(etb, context))\n",
            "  File \"C:\\ProgramData\\Anaconda3\\lib\\inspect.py\", line 1515, in getinnerframes\n",
            "    frameinfo = (tb.tb_frame,) + getframeinfo(tb, context)\n",
            "  File \"C:\\ProgramData\\Anaconda3\\lib\\inspect.py\", line 1473, in getframeinfo\n",
            "    filename = getsourcefile(frame) or getfile(frame)\n",
            "  File \"C:\\ProgramData\\Anaconda3\\lib\\inspect.py\", line 708, in getsourcefile\n",
            "    if getattr(getmodule(object, filename), '__loader__', None) is not None:\n",
            "  File \"C:\\ProgramData\\Anaconda3\\lib\\inspect.py\", line 754, in getmodule\n",
            "    os.path.realpath(f)] = module.__name__\n",
            "  File \"C:\\ProgramData\\Anaconda3\\lib\\ntpath.py\", line 647, in realpath\n",
            "    path = _getfinalpathname(path)\n",
            "KeyboardInterrupt\n",
            "Traceback (most recent call last):\n",
            "  File \"C:\\ProgramData\\Anaconda3\\lib\\site-packages\\urllib3\\connection.py\", line 169, in _new_conn\n",
            "    conn = connection.create_connection(\n",
            "  File \"C:\\ProgramData\\Anaconda3\\lib\\site-packages\\urllib3\\util\\connection.py\", line 73, in create_connection\n",
            "    for res in socket.getaddrinfo(host, port, family, socket.SOCK_STREAM):\n",
            "  File \"C:\\ProgramData\\Anaconda3\\lib\\socket.py\", line 918, in getaddrinfo\n",
            "    for res in _socket.getaddrinfo(host, port, family, type, proto, flags):\n",
            "socket.gaierror: [Errno 11001] getaddrinfo failed\n",
            "\n",
            "During handling of the above exception, another exception occurred:\n",
            "\n",
            "Traceback (most recent call last):\n",
            "  File \"C:\\ProgramData\\Anaconda3\\lib\\site-packages\\urllib3\\connectionpool.py\", line 699, in urlopen\n",
            "    httplib_response = self._make_request(\n",
            "  File \"C:\\ProgramData\\Anaconda3\\lib\\site-packages\\urllib3\\connectionpool.py\", line 382, in _make_request\n",
            "    self._validate_conn(conn)\n",
            "  File \"C:\\ProgramData\\Anaconda3\\lib\\site-packages\\urllib3\\connectionpool.py\", line 1010, in _validate_conn\n",
            "    conn.connect()\n",
            "  File \"C:\\ProgramData\\Anaconda3\\lib\\site-packages\\urllib3\\connection.py\", line 353, in connect\n",
            "    conn = self._new_conn()\n",
            "  File \"C:\\ProgramData\\Anaconda3\\lib\\site-packages\\urllib3\\connection.py\", line 181, in _new_conn\n",
            "    raise NewConnectionError(\n",
            "urllib3.exceptions.NewConnectionError: <urllib3.connection.HTTPSConnection object at 0x000001DE14E97FA0>: Failed to establish a new connection: [Errno 11001] getaddrinfo failed\n",
            "\n",
            "During handling of the above exception, another exception occurred:\n",
            "\n",
            "Traceback (most recent call last):\n",
            "  File \"C:\\ProgramData\\Anaconda3\\lib\\site-packages\\IPython\\core\\interactiveshell.py\", line 3437, in run_code\n",
            "    exec(code_obj, self.user_global_ns, self.user_ns)\n",
            "  File \"<ipython-input-1-67ec9f5a0bb9>\", line 6, in <module>\n",
            "    experiment = Experiment(\n",
            "  File \"C:\\ProgramData\\Anaconda3\\lib\\site-packages\\comet_ml\\__init__.py\", line 306, in __init__\n",
            "    self._start()\n",
            "  File \"C:\\ProgramData\\Anaconda3\\lib\\site-packages\\comet_ml\\experiment.py\", line 820, in _start\n",
            "    self.alive = self._setup_streamer()\n",
            "  File \"C:\\ProgramData\\Anaconda3\\lib\\site-packages\\comet_ml\\__init__.py\", line 343, in _setup_streamer\n",
            "    self.rest_api_client = get_rest_api_client(\n",
            "  File \"C:\\ProgramData\\Anaconda3\\lib\\site-packages\\comet_ml\\connection.py\", line 1548, in get_rest_api_client\n",
            "    return RestApiClient(\n",
            "  File \"C:\\ProgramData\\Anaconda3\\lib\\site-packages\\comet_ml\\connection.py\", line 1679, in __init__\n",
            "    self._check_version()\n",
            "  File \"C:\\ProgramData\\Anaconda3\\lib\\site-packages\\comet_ml\\connection.py\", line 1697, in _check_version\n",
            "    self._check_api_backend_version(minimal_backend_version)\n",
            "  File \"C:\\ProgramData\\Anaconda3\\lib\\site-packages\\comet_ml\\connection.py\", line 3471, in _check_api_backend_version\n",
            "    response = self.low_level_api_client.get(\n",
            "  File \"C:\\ProgramData\\Anaconda3\\lib\\site-packages\\comet_ml\\connection.py\", line 355, in get\n",
            "    response = session.get(\n",
            "  File \"C:\\ProgramData\\Anaconda3\\lib\\site-packages\\requests\\sessions.py\", line 555, in get\n",
            "    return self.request('GET', url, **kwargs)\n",
            "  File \"C:\\ProgramData\\Anaconda3\\lib\\site-packages\\requests\\sessions.py\", line 542, in request\n",
            "    resp = self.send(prep, **send_kwargs)\n",
            "  File \"C:\\ProgramData\\Anaconda3\\lib\\site-packages\\requests\\sessions.py\", line 655, in send\n",
            "    r = adapter.send(request, **kwargs)\n",
            "  File \"C:\\ProgramData\\Anaconda3\\lib\\site-packages\\requests\\adapters.py\", line 439, in send\n",
            "    resp = conn.urlopen(\n",
            "  File \"C:\\ProgramData\\Anaconda3\\lib\\site-packages\\urllib3\\connectionpool.py\", line 783, in urlopen\n",
            "    return self.urlopen(\n",
            "  File \"C:\\ProgramData\\Anaconda3\\lib\\site-packages\\urllib3\\connectionpool.py\", line 783, in urlopen\n",
            "    return self.urlopen(\n",
            "  File \"C:\\ProgramData\\Anaconda3\\lib\\site-packages\\urllib3\\connectionpool.py\", line 758, in urlopen\n",
            "    retries.sleep()\n",
            "  File \"C:\\ProgramData\\Anaconda3\\lib\\site-packages\\urllib3\\util\\retry.py\", line 414, in sleep\n",
            "    self._sleep_backoff()\n",
            "  File \"C:\\ProgramData\\Anaconda3\\lib\\site-packages\\urllib3\\util\\retry.py\", line 398, in _sleep_backoff\n",
            "    time.sleep(backoff)\n",
            "KeyboardInterrupt\n",
            "\n",
            "During handling of the above exception, another exception occurred:\n",
            "\n",
            "Traceback (most recent call last):\n",
            "  File \"C:\\ProgramData\\Anaconda3\\lib\\site-packages\\IPython\\core\\interactiveshell.py\", line 2061, in showtraceback\n",
            "    stb = value._render_traceback_()\n",
            "AttributeError: 'KeyboardInterrupt' object has no attribute '_render_traceback_'\n",
            "\n",
            "During handling of the above exception, another exception occurred:\n",
            "\n",
            "Traceback (most recent call last):\n",
            "  File \"C:\\ProgramData\\Anaconda3\\lib\\site-packages\\IPython\\core\\interactiveshell.py\", line 3357, in run_ast_nodes\n",
            "    if (await self.run_code(code, result,  async_=asy)):\n",
            "  File \"C:\\ProgramData\\Anaconda3\\lib\\site-packages\\IPython\\core\\interactiveshell.py\", line 3454, in run_code\n",
            "    self.showtraceback(running_compiled_code=True)\n",
            "  File \"C:\\ProgramData\\Anaconda3\\lib\\site-packages\\IPython\\core\\interactiveshell.py\", line 2063, in showtraceback\n",
            "    stb = self.InteractiveTB.structured_traceback(etype,\n",
            "  File \"C:\\ProgramData\\Anaconda3\\lib\\site-packages\\IPython\\core\\ultratb.py\", line 1367, in structured_traceback\n",
            "    return FormattedTB.structured_traceback(\n",
            "  File \"C:\\ProgramData\\Anaconda3\\lib\\site-packages\\IPython\\core\\ultratb.py\", line 1267, in structured_traceback\n",
            "    return VerboseTB.structured_traceback(\n",
            "  File \"C:\\ProgramData\\Anaconda3\\lib\\site-packages\\IPython\\core\\ultratb.py\", line 1124, in structured_traceback\n",
            "    formatted_exception = self.format_exception_as_a_whole(etype, evalue, etb, number_of_lines_of_context,\n",
            "  File \"C:\\ProgramData\\Anaconda3\\lib\\site-packages\\IPython\\core\\ultratb.py\", line 1082, in format_exception_as_a_whole\n",
            "    last_unique, recursion_repeat = find_recursion(orig_etype, evalue, records)\n",
            "  File \"C:\\ProgramData\\Anaconda3\\lib\\site-packages\\IPython\\core\\ultratb.py\", line 382, in find_recursion\n",
            "    return len(records), 0\n",
            "TypeError: object of type 'NoneType' has no len()\n",
            "\n",
            "During handling of the above exception, another exception occurred:\n",
            "\n",
            "Traceback (most recent call last):\n",
            "  File \"C:\\ProgramData\\Anaconda3\\lib\\site-packages\\IPython\\core\\interactiveshell.py\", line 2061, in showtraceback\n",
            "    stb = value._render_traceback_()\n",
            "AttributeError: 'TypeError' object has no attribute '_render_traceback_'\n",
            "\n",
            "During handling of the above exception, another exception occurred:\n",
            "\n",
            "Traceback (most recent call last):\n",
            "  File \"C:\\ProgramData\\Anaconda3\\lib\\site-packages\\IPython\\core\\ultratb.py\", line 1101, in get_records\n",
            "    return _fixed_getinnerframes(etb, number_of_lines_of_context, tb_offset)\n",
            "  File \"C:\\ProgramData\\Anaconda3\\lib\\site-packages\\IPython\\core\\ultratb.py\", line 248, in wrapped\n",
            "    return f(*args, **kwargs)\n",
            "  File \"C:\\ProgramData\\Anaconda3\\lib\\site-packages\\IPython\\core\\ultratb.py\", line 281, in _fixed_getinnerframes\n",
            "    records = fix_frame_records_filenames(inspect.getinnerframes(etb, context))\n",
            "  File \"C:\\ProgramData\\Anaconda3\\lib\\inspect.py\", line 1515, in getinnerframes\n",
            "    frameinfo = (tb.tb_frame,) + getframeinfo(tb, context)\n",
            "  File \"C:\\ProgramData\\Anaconda3\\lib\\inspect.py\", line 1473, in getframeinfo\n",
            "    filename = getsourcefile(frame) or getfile(frame)\n",
            "  File \"C:\\ProgramData\\Anaconda3\\lib\\inspect.py\", line 708, in getsourcefile\n",
            "    if getattr(getmodule(object, filename), '__loader__', None) is not None:\n",
            "  File \"C:\\ProgramData\\Anaconda3\\lib\\inspect.py\", line 754, in getmodule\n",
            "    os.path.realpath(f)] = module.__name__\n",
            "  File \"C:\\ProgramData\\Anaconda3\\lib\\ntpath.py\", line 664, in realpath\n",
            "    if _getfinalpathname(spath) == path:\n",
            "KeyboardInterrupt\n"
          ]
        },
        {
          "name": "stderr",
          "output_type": "stream",
          "text": [
            "ERROR:root:Internal Python error in the inspect module.\n",
            "Below is the traceback from this internal error.\n",
            "\n"
          ]
        },
        {
          "name": "stdout",
          "output_type": "stream",
          "text": [
            "Traceback (most recent call last):\n",
            "  File \"C:\\ProgramData\\Anaconda3\\lib\\site-packages\\urllib3\\connection.py\", line 169, in _new_conn\n",
            "    conn = connection.create_connection(\n",
            "  File \"C:\\ProgramData\\Anaconda3\\lib\\site-packages\\urllib3\\util\\connection.py\", line 73, in create_connection\n",
            "    for res in socket.getaddrinfo(host, port, family, socket.SOCK_STREAM):\n",
            "  File \"C:\\ProgramData\\Anaconda3\\lib\\socket.py\", line 918, in getaddrinfo\n",
            "    for res in _socket.getaddrinfo(host, port, family, type, proto, flags):\n",
            "socket.gaierror: [Errno 11001] getaddrinfo failed\n",
            "\n",
            "During handling of the above exception, another exception occurred:\n",
            "\n",
            "Traceback (most recent call last):\n",
            "  File \"C:\\ProgramData\\Anaconda3\\lib\\site-packages\\urllib3\\connectionpool.py\", line 699, in urlopen\n",
            "    httplib_response = self._make_request(\n",
            "  File \"C:\\ProgramData\\Anaconda3\\lib\\site-packages\\urllib3\\connectionpool.py\", line 382, in _make_request\n",
            "    self._validate_conn(conn)\n",
            "  File \"C:\\ProgramData\\Anaconda3\\lib\\site-packages\\urllib3\\connectionpool.py\", line 1010, in _validate_conn\n",
            "    conn.connect()\n",
            "  File \"C:\\ProgramData\\Anaconda3\\lib\\site-packages\\urllib3\\connection.py\", line 353, in connect\n",
            "    conn = self._new_conn()\n",
            "  File \"C:\\ProgramData\\Anaconda3\\lib\\site-packages\\urllib3\\connection.py\", line 181, in _new_conn\n",
            "    raise NewConnectionError(\n",
            "urllib3.exceptions.NewConnectionError: <urllib3.connection.HTTPSConnection object at 0x000001DE14E97FA0>: Failed to establish a new connection: [Errno 11001] getaddrinfo failed\n",
            "\n",
            "During handling of the above exception, another exception occurred:\n",
            "\n",
            "Traceback (most recent call last):\n",
            "  File \"C:\\ProgramData\\Anaconda3\\lib\\site-packages\\IPython\\core\\interactiveshell.py\", line 3437, in run_code\n",
            "    exec(code_obj, self.user_global_ns, self.user_ns)\n",
            "  File \"<ipython-input-1-67ec9f5a0bb9>\", line 6, in <module>\n",
            "    experiment = Experiment(\n",
            "  File \"C:\\ProgramData\\Anaconda3\\lib\\site-packages\\comet_ml\\__init__.py\", line 306, in __init__\n",
            "    self._start()\n",
            "  File \"C:\\ProgramData\\Anaconda3\\lib\\site-packages\\comet_ml\\experiment.py\", line 820, in _start\n",
            "    self.alive = self._setup_streamer()\n",
            "  File \"C:\\ProgramData\\Anaconda3\\lib\\site-packages\\comet_ml\\__init__.py\", line 343, in _setup_streamer\n",
            "    self.rest_api_client = get_rest_api_client(\n",
            "  File \"C:\\ProgramData\\Anaconda3\\lib\\site-packages\\comet_ml\\connection.py\", line 1548, in get_rest_api_client\n",
            "    return RestApiClient(\n",
            "  File \"C:\\ProgramData\\Anaconda3\\lib\\site-packages\\comet_ml\\connection.py\", line 1679, in __init__\n",
            "    self._check_version()\n",
            "  File \"C:\\ProgramData\\Anaconda3\\lib\\site-packages\\comet_ml\\connection.py\", line 1697, in _check_version\n",
            "    self._check_api_backend_version(minimal_backend_version)\n",
            "  File \"C:\\ProgramData\\Anaconda3\\lib\\site-packages\\comet_ml\\connection.py\", line 3471, in _check_api_backend_version\n",
            "    response = self.low_level_api_client.get(\n",
            "  File \"C:\\ProgramData\\Anaconda3\\lib\\site-packages\\comet_ml\\connection.py\", line 355, in get\n",
            "    response = session.get(\n",
            "  File \"C:\\ProgramData\\Anaconda3\\lib\\site-packages\\requests\\sessions.py\", line 555, in get\n",
            "    return self.request('GET', url, **kwargs)\n",
            "  File \"C:\\ProgramData\\Anaconda3\\lib\\site-packages\\requests\\sessions.py\", line 542, in request\n",
            "    resp = self.send(prep, **send_kwargs)\n",
            "  File \"C:\\ProgramData\\Anaconda3\\lib\\site-packages\\requests\\sessions.py\", line 655, in send\n",
            "    r = adapter.send(request, **kwargs)\n",
            "  File \"C:\\ProgramData\\Anaconda3\\lib\\site-packages\\requests\\adapters.py\", line 439, in send\n",
            "    resp = conn.urlopen(\n",
            "  File \"C:\\ProgramData\\Anaconda3\\lib\\site-packages\\urllib3\\connectionpool.py\", line 783, in urlopen\n",
            "    return self.urlopen(\n",
            "  File \"C:\\ProgramData\\Anaconda3\\lib\\site-packages\\urllib3\\connectionpool.py\", line 783, in urlopen\n",
            "    return self.urlopen(\n",
            "  File \"C:\\ProgramData\\Anaconda3\\lib\\site-packages\\urllib3\\connectionpool.py\", line 758, in urlopen\n",
            "    retries.sleep()\n",
            "  File \"C:\\ProgramData\\Anaconda3\\lib\\site-packages\\urllib3\\util\\retry.py\", line 414, in sleep\n",
            "    self._sleep_backoff()\n",
            "  File \"C:\\ProgramData\\Anaconda3\\lib\\site-packages\\urllib3\\util\\retry.py\", line 398, in _sleep_backoff\n",
            "    time.sleep(backoff)\n",
            "KeyboardInterrupt\n",
            "\n",
            "During handling of the above exception, another exception occurred:\n",
            "\n",
            "Traceback (most recent call last):\n",
            "  File \"C:\\ProgramData\\Anaconda3\\lib\\site-packages\\IPython\\core\\interactiveshell.py\", line 2061, in showtraceback\n",
            "    stb = value._render_traceback_()\n",
            "AttributeError: 'KeyboardInterrupt' object has no attribute '_render_traceback_'\n",
            "\n",
            "During handling of the above exception, another exception occurred:\n",
            "\n",
            "Traceback (most recent call last):\n",
            "  File \"C:\\ProgramData\\Anaconda3\\lib\\site-packages\\IPython\\core\\interactiveshell.py\", line 3357, in run_ast_nodes\n",
            "    if (await self.run_code(code, result,  async_=asy)):\n",
            "  File \"C:\\ProgramData\\Anaconda3\\lib\\site-packages\\IPython\\core\\interactiveshell.py\", line 3454, in run_code\n",
            "    self.showtraceback(running_compiled_code=True)\n",
            "  File \"C:\\ProgramData\\Anaconda3\\lib\\site-packages\\IPython\\core\\interactiveshell.py\", line 2063, in showtraceback\n",
            "    stb = self.InteractiveTB.structured_traceback(etype,\n",
            "  File \"C:\\ProgramData\\Anaconda3\\lib\\site-packages\\IPython\\core\\ultratb.py\", line 1367, in structured_traceback\n",
            "    return FormattedTB.structured_traceback(\n",
            "  File \"C:\\ProgramData\\Anaconda3\\lib\\site-packages\\IPython\\core\\ultratb.py\", line 1267, in structured_traceback\n",
            "    return VerboseTB.structured_traceback(\n",
            "  File \"C:\\ProgramData\\Anaconda3\\lib\\site-packages\\IPython\\core\\ultratb.py\", line 1124, in structured_traceback\n",
            "    formatted_exception = self.format_exception_as_a_whole(etype, evalue, etb, number_of_lines_of_context,\n",
            "  File \"C:\\ProgramData\\Anaconda3\\lib\\site-packages\\IPython\\core\\ultratb.py\", line 1082, in format_exception_as_a_whole\n",
            "    last_unique, recursion_repeat = find_recursion(orig_etype, evalue, records)\n",
            "  File \"C:\\ProgramData\\Anaconda3\\lib\\site-packages\\IPython\\core\\ultratb.py\", line 382, in find_recursion\n",
            "    return len(records), 0\n",
            "TypeError: object of type 'NoneType' has no len()\n",
            "\n",
            "During handling of the above exception, another exception occurred:\n",
            "\n",
            "Traceback (most recent call last):\n",
            "  File \"C:\\ProgramData\\Anaconda3\\lib\\site-packages\\IPython\\core\\interactiveshell.py\", line 2061, in showtraceback\n",
            "    stb = value._render_traceback_()\n",
            "AttributeError: 'TypeError' object has no attribute '_render_traceback_'\n",
            "\n",
            "During handling of the above exception, another exception occurred:\n",
            "\n",
            "Traceback (most recent call last):\n",
            "  File \"C:\\ProgramData\\Anaconda3\\lib\\site-packages\\IPython\\core\\interactiveshell.py\", line 2940, in _run_cell\n",
            "    return runner(coro)\n",
            "  File \"C:\\ProgramData\\Anaconda3\\lib\\site-packages\\IPython\\core\\async_helpers.py\", line 68, in _pseudo_sync_runner\n",
            "    coro.send(None)\n",
            "  File \"C:\\ProgramData\\Anaconda3\\lib\\site-packages\\IPython\\core\\interactiveshell.py\", line 3165, in run_cell_async\n",
            "    has_raised = await self.run_ast_nodes(code_ast.body, cell_name,\n",
            "  File \"C:\\ProgramData\\Anaconda3\\lib\\site-packages\\IPython\\core\\interactiveshell.py\", line 3376, in run_ast_nodes\n",
            "    self.showtraceback()\n",
            "  File \"C:\\ProgramData\\Anaconda3\\lib\\site-packages\\IPython\\core\\interactiveshell.py\", line 2063, in showtraceback\n",
            "    stb = self.InteractiveTB.structured_traceback(etype,\n",
            "  File \"C:\\ProgramData\\Anaconda3\\lib\\site-packages\\IPython\\core\\ultratb.py\", line 1367, in structured_traceback\n",
            "    return FormattedTB.structured_traceback(\n",
            "  File \"C:\\ProgramData\\Anaconda3\\lib\\site-packages\\IPython\\core\\ultratb.py\", line 1267, in structured_traceback\n",
            "    return VerboseTB.structured_traceback(\n",
            "  File \"C:\\ProgramData\\Anaconda3\\lib\\site-packages\\IPython\\core\\ultratb.py\", line 1142, in structured_traceback\n",
            "    formatted_exceptions += self.format_exception_as_a_whole(etype, evalue, etb, lines_of_context,\n",
            "  File \"C:\\ProgramData\\Anaconda3\\lib\\site-packages\\IPython\\core\\ultratb.py\", line 1082, in format_exception_as_a_whole\n",
            "    last_unique, recursion_repeat = find_recursion(orig_etype, evalue, records)\n",
            "  File \"C:\\ProgramData\\Anaconda3\\lib\\site-packages\\IPython\\core\\ultratb.py\", line 382, in find_recursion\n",
            "    return len(records), 0\n",
            "TypeError: object of type 'NoneType' has no len()\n",
            "\n",
            "During handling of the above exception, another exception occurred:\n",
            "\n",
            "Traceback (most recent call last):\n",
            "  File \"C:\\ProgramData\\Anaconda3\\lib\\site-packages\\IPython\\core\\interactiveshell.py\", line 2061, in showtraceback\n",
            "    stb = value._render_traceback_()\n",
            "AttributeError: 'TypeError' object has no attribute '_render_traceback_'\n",
            "\n",
            "During handling of the above exception, another exception occurred:\n",
            "\n",
            "Traceback (most recent call last):\n",
            "  File \"C:\\ProgramData\\Anaconda3\\lib\\site-packages\\IPython\\core\\ultratb.py\", line 1101, in get_records\n",
            "    return _fixed_getinnerframes(etb, number_of_lines_of_context, tb_offset)\n",
            "  File \"C:\\ProgramData\\Anaconda3\\lib\\site-packages\\IPython\\core\\ultratb.py\", line 248, in wrapped\n",
            "    return f(*args, **kwargs)\n",
            "  File \"C:\\ProgramData\\Anaconda3\\lib\\site-packages\\IPython\\core\\ultratb.py\", line 281, in _fixed_getinnerframes\n",
            "    records = fix_frame_records_filenames(inspect.getinnerframes(etb, context))\n",
            "  File \"C:\\ProgramData\\Anaconda3\\lib\\inspect.py\", line 1515, in getinnerframes\n",
            "    frameinfo = (tb.tb_frame,) + getframeinfo(tb, context)\n",
            "  File \"C:\\ProgramData\\Anaconda3\\lib\\inspect.py\", line 1473, in getframeinfo\n",
            "    filename = getsourcefile(frame) or getfile(frame)\n",
            "  File \"C:\\ProgramData\\Anaconda3\\lib\\inspect.py\", line 705, in getsourcefile\n",
            "    if os.path.exists(filename):\n",
            "  File \"C:\\ProgramData\\Anaconda3\\lib\\genericpath.py\", line 19, in exists\n",
            "    os.stat(path)\n",
            "KeyboardInterrupt\n"
          ]
        }
      ],
      "source": [
        "# import comet_ml at the top of your file\n",
        "import comet_ml\n",
        "from comet_ml import Experiment\n",
        "\n",
        "# Create an experiment with your api key\n",
        "experiment = Experiment(\n",
        "    api_key=\"uIA4LnUcw5MgXtaoZFKhjA8kp\",\n",
        "    project_name=\"team-2-unsupervised\",\n",
        "    workspace=\"bravo\",\n",
        ")"
      ]
    },
    {
      "cell_type": "markdown",
      "metadata": {
        "id": "fUxQH9bgawjm"
      },
      "source": [
        "### 2.2. Import all neccessary libraries and packages"
      ]
    },
    {
      "cell_type": "code",
      "execution_count": null,
      "metadata": {
        "id": "UjXdmloKawjn"
      },
      "outputs": [],
      "source": [
        "\n",
        "import numpy as np\n",
        "import pandas as pd\n",
        "import datetime\n",
        "from sklearn import preprocessing\n",
        "from sklearn.datasets import make_blobs\n",
        "from sklearn.preprocessing import StandardScaler\n",
        "from sklearn.feature_extraction.text import TfidfVectorizer\n",
        "from sklearn.metrics.pairwise import cosine_similarity\n",
        "import re\n",
        "from scipy.sparse import csr_matrix\n",
        "import scipy as sp\n",
        "\n",
        "\n",
        "# Packages for visualization\n",
        "import matplotlib.pyplot as plt\n",
        "import seaborn as sns\n",
        "%matplotlib inline\n",
        "from wordcloud import WordCloud \n",
        "from wordcloud import WordCloud, STOPWORDS\n",
        "import time\n",
        "\n",
        "\n",
        "\n",
        "# Packages for modeling\n",
        "from surprise import Reader\n",
        "from surprise import Dataset\n",
        "from surprise import KNNWithMeans\n",
        "from surprise import KNNBasic\n",
        "from surprise.model_selection import cross_validate\n",
        "from surprise.model_selection import GridSearchCV\n",
        "from surprise import SVD\n",
        "from surprise import SVDpp\n",
        "from surprise import NMF\n",
        "from sklearn.cluster import KMeans\n",
        "from surprise import SlopeOne\n",
        "from surprise import CoClustering\n",
        "from surprise import accuracy\n",
        "from surprise.model_selection import train_test_split\n",
        "from surprise import SVD, BaselineOnly, CoClustering, NMF\n",
        "from sklearn.feature_extraction.text import CountVectorizer as CountVectorizer\n",
        "\n",
        "# Packages for model evaluation\n",
        "from sklearn.metrics import mean_squared_error\n",
        "from sklearn.metrics import mean_absolute_error\n",
        "from time import time\n",
        "\n",
        "# Package to suppress warnings\n",
        "import warnings\n",
        "warnings.filterwarnings(\"ignore\")\n",
        "\n",
        "# Packages for saving models\n",
        "import pickle"
      ]
    },
    {
      "cell_type": "code",
      "execution_count": null,
      "metadata": {
        "id": "ESjOacsu383n",
        "outputId": "e9449dfe-b03f-4d31-897f-df4fab7683fe"
      },
      "outputs": [
        {
          "name": "stdout",
          "output_type": "stream",
          "text": [
            "\n",
            "Note: you may need to restart the kernel to use updated packages.\n"
          ]
        },
        {
          "name": "stderr",
          "output_type": "stream",
          "text": [
            "usage: conda-script.py [-h] [-V] command ...\n",
            "conda-script.py: error: unrecognized arguments: wordcloud\n"
          ]
        }
      ],
      "source": [
        "conda install -c conda-forge wordcloud\n"
      ]
    },
    {
      "cell_type": "markdown",
      "metadata": {
        "id": "7-ZdMPMKawjo"
      },
      "source": [
        "### 2.3. Import data"
      ]
    },
    {
      "cell_type": "code",
      "execution_count": null,
      "metadata": {
        "execution": {
          "iopub.execute_input": "2021-07-05T12:34:40.544264Z",
          "iopub.status.busy": "2021-07-05T12:34:40.543842Z",
          "iopub.status.idle": "2021-07-05T12:35:04.987282Z",
          "shell.execute_reply": "2021-07-05T12:35:04.986325Z",
          "shell.execute_reply.started": "2021-07-05T12:34:40.544233Z"
        },
        "id": "MND7rBQqawjo",
        "outputId": "9dcacca0-f838-4b93-94f0-aa1d93c4556b",
        "colab": {
          "base_uri": "https://localhost:8080/"
        }
      },
      "outputs": [
        {
          "output_type": "stream",
          "name": "stdout",
          "text": [
            "Drive already mounted at /content/drive; to attempt to forcibly remount, call drive.mount(\"/content/drive\", force_remount=True).\n"
          ]
        }
      ],
      "source": [
        "# Mount content drive (That contains the CSV files)\n",
        "from google.colab import drive\n",
        "drive.mount('/content/drive')\n"
      ]
    },
    {
      "cell_type": "code",
      "source": [
        "# Import the data using the paths to the CSV files from google drive\n",
        "sample_submission = pd.read_csv('/content/drive/MyDrive/Data/sample_submission.csv')\n",
        "movies = pd.read_csv('/content/drive/MyDrive/Data/movies.csv')\n",
        "imdb = pd.read_csv('/content/drive/MyDrive/Data/imdb_data.csv')\n",
        "genome_scores = pd.read_csv('/content/drive/MyDrive/Data/genome_scores.csv')\n",
        "genome_tags = pd.read_csv('/content/drive/MyDrive/Data/genome_tags.csv')\n",
        "train = pd.read_csv('/content/drive/MyDrive/Data/train.csv')\n",
        "test = pd.read_csv('/content/drive/MyDrive/Data/test.csv')\n",
        "tags = pd.read_csv('/content/drive/MyDrive/Data/tags.csv')\n",
        "links = pd.read_csv('/content/drive/MyDrive/Data/links.csv')"
      ],
      "metadata": {
        "id": "sjVtRUqI5sde"
      },
      "execution_count": null,
      "outputs": []
    },
    {
      "cell_type": "code",
      "source": [
        "# Store data (serialize)\n",
        "with open('movies.pickle', 'wb') as handle:\n",
        "    pickle.dump(imdb, handle, protocol=pickle.HIGHEST_PROTOCOL)"
      ],
      "metadata": {
        "id": "k_HENiez4Cmg"
      },
      "execution_count": null,
      "outputs": []
    },
    {
      "cell_type": "markdown",
      "metadata": {
        "id": "Zs75G0AQawjp"
      },
      "source": [
        "## DATA VIEWING\n",
        "---\n",
        "\n",
        "Following the necessary imports is for viewing the data to see what information we can get from it."
      ]
    },
    {
      "cell_type": "code",
      "execution_count": null,
      "metadata": {
        "id": "icGQGORvawjq",
        "outputId": "05f92f77-ed72-41ab-e3c3-035a9fa32eee",
        "colab": {
          "base_uri": "https://localhost:8080/",
          "height": 206
        }
      },
      "outputs": [
        {
          "output_type": "execute_result",
          "data": {
            "text/html": [
              "\n",
              "  <div id=\"df-33db4a81-2837-4789-b591-bfd8ab59d225\">\n",
              "    <div class=\"colab-df-container\">\n",
              "      <div>\n",
              "<style scoped>\n",
              "    .dataframe tbody tr th:only-of-type {\n",
              "        vertical-align: middle;\n",
              "    }\n",
              "\n",
              "    .dataframe tbody tr th {\n",
              "        vertical-align: top;\n",
              "    }\n",
              "\n",
              "    .dataframe thead th {\n",
              "        text-align: right;\n",
              "    }\n",
              "</style>\n",
              "<table border=\"1\" class=\"dataframe\">\n",
              "  <thead>\n",
              "    <tr style=\"text-align: right;\">\n",
              "      <th></th>\n",
              "      <th>movieId</th>\n",
              "      <th>title</th>\n",
              "      <th>genres</th>\n",
              "    </tr>\n",
              "  </thead>\n",
              "  <tbody>\n",
              "    <tr>\n",
              "      <th>0</th>\n",
              "      <td>1</td>\n",
              "      <td>Toy Story (1995)</td>\n",
              "      <td>Adventure|Animation|Children|Comedy|Fantasy</td>\n",
              "    </tr>\n",
              "    <tr>\n",
              "      <th>1</th>\n",
              "      <td>2</td>\n",
              "      <td>Jumanji (1995)</td>\n",
              "      <td>Adventure|Children|Fantasy</td>\n",
              "    </tr>\n",
              "    <tr>\n",
              "      <th>2</th>\n",
              "      <td>3</td>\n",
              "      <td>Grumpier Old Men (1995)</td>\n",
              "      <td>Comedy|Romance</td>\n",
              "    </tr>\n",
              "    <tr>\n",
              "      <th>3</th>\n",
              "      <td>4</td>\n",
              "      <td>Waiting to Exhale (1995)</td>\n",
              "      <td>Comedy|Drama|Romance</td>\n",
              "    </tr>\n",
              "    <tr>\n",
              "      <th>4</th>\n",
              "      <td>5</td>\n",
              "      <td>Father of the Bride Part II (1995)</td>\n",
              "      <td>Comedy</td>\n",
              "    </tr>\n",
              "  </tbody>\n",
              "</table>\n",
              "</div>\n",
              "      <button class=\"colab-df-convert\" onclick=\"convertToInteractive('df-33db4a81-2837-4789-b591-bfd8ab59d225')\"\n",
              "              title=\"Convert this dataframe to an interactive table.\"\n",
              "              style=\"display:none;\">\n",
              "        \n",
              "  <svg xmlns=\"http://www.w3.org/2000/svg\" height=\"24px\"viewBox=\"0 0 24 24\"\n",
              "       width=\"24px\">\n",
              "    <path d=\"M0 0h24v24H0V0z\" fill=\"none\"/>\n",
              "    <path d=\"M18.56 5.44l.94 2.06.94-2.06 2.06-.94-2.06-.94-.94-2.06-.94 2.06-2.06.94zm-11 1L8.5 8.5l.94-2.06 2.06-.94-2.06-.94L8.5 2.5l-.94 2.06-2.06.94zm10 10l.94 2.06.94-2.06 2.06-.94-2.06-.94-.94-2.06-.94 2.06-2.06.94z\"/><path d=\"M17.41 7.96l-1.37-1.37c-.4-.4-.92-.59-1.43-.59-.52 0-1.04.2-1.43.59L10.3 9.45l-7.72 7.72c-.78.78-.78 2.05 0 2.83L4 21.41c.39.39.9.59 1.41.59.51 0 1.02-.2 1.41-.59l7.78-7.78 2.81-2.81c.8-.78.8-2.07 0-2.86zM5.41 20L4 18.59l7.72-7.72 1.47 1.35L5.41 20z\"/>\n",
              "  </svg>\n",
              "      </button>\n",
              "      \n",
              "  <style>\n",
              "    .colab-df-container {\n",
              "      display:flex;\n",
              "      flex-wrap:wrap;\n",
              "      gap: 12px;\n",
              "    }\n",
              "\n",
              "    .colab-df-convert {\n",
              "      background-color: #E8F0FE;\n",
              "      border: none;\n",
              "      border-radius: 50%;\n",
              "      cursor: pointer;\n",
              "      display: none;\n",
              "      fill: #1967D2;\n",
              "      height: 32px;\n",
              "      padding: 0 0 0 0;\n",
              "      width: 32px;\n",
              "    }\n",
              "\n",
              "    .colab-df-convert:hover {\n",
              "      background-color: #E2EBFA;\n",
              "      box-shadow: 0px 1px 2px rgba(60, 64, 67, 0.3), 0px 1px 3px 1px rgba(60, 64, 67, 0.15);\n",
              "      fill: #174EA6;\n",
              "    }\n",
              "\n",
              "    [theme=dark] .colab-df-convert {\n",
              "      background-color: #3B4455;\n",
              "      fill: #D2E3FC;\n",
              "    }\n",
              "\n",
              "    [theme=dark] .colab-df-convert:hover {\n",
              "      background-color: #434B5C;\n",
              "      box-shadow: 0px 1px 3px 1px rgba(0, 0, 0, 0.15);\n",
              "      filter: drop-shadow(0px 1px 2px rgba(0, 0, 0, 0.3));\n",
              "      fill: #FFFFFF;\n",
              "    }\n",
              "  </style>\n",
              "\n",
              "      <script>\n",
              "        const buttonEl =\n",
              "          document.querySelector('#df-33db4a81-2837-4789-b591-bfd8ab59d225 button.colab-df-convert');\n",
              "        buttonEl.style.display =\n",
              "          google.colab.kernel.accessAllowed ? 'block' : 'none';\n",
              "\n",
              "        async function convertToInteractive(key) {\n",
              "          const element = document.querySelector('#df-33db4a81-2837-4789-b591-bfd8ab59d225');\n",
              "          const dataTable =\n",
              "            await google.colab.kernel.invokeFunction('convertToInteractive',\n",
              "                                                     [key], {});\n",
              "          if (!dataTable) return;\n",
              "\n",
              "          const docLinkHtml = 'Like what you see? Visit the ' +\n",
              "            '<a target=\"_blank\" href=https://colab.research.google.com/notebooks/data_table.ipynb>data table notebook</a>'\n",
              "            + ' to learn more about interactive tables.';\n",
              "          element.innerHTML = '';\n",
              "          dataTable['output_type'] = 'display_data';\n",
              "          await google.colab.output.renderOutput(dataTable, element);\n",
              "          const docLink = document.createElement('div');\n",
              "          docLink.innerHTML = docLinkHtml;\n",
              "          element.appendChild(docLink);\n",
              "        }\n",
              "      </script>\n",
              "    </div>\n",
              "  </div>\n",
              "  "
            ],
            "text/plain": [
              "   movieId  ...                                       genres\n",
              "0        1  ...  Adventure|Animation|Children|Comedy|Fantasy\n",
              "1        2  ...                   Adventure|Children|Fantasy\n",
              "2        3  ...                               Comedy|Romance\n",
              "3        4  ...                         Comedy|Drama|Romance\n",
              "4        5  ...                                       Comedy\n",
              "\n",
              "[5 rows x 3 columns]"
            ]
          },
          "metadata": {},
          "execution_count": 9
        }
      ],
      "source": [
        "movies.head()"
      ]
    },
    {
      "cell_type": "code",
      "execution_count": null,
      "metadata": {
        "id": "OHJKJHkEawjq",
        "outputId": "dddb56f6-1f0b-454e-f168-8cdebe997252",
        "colab": {
          "base_uri": "https://localhost:8080/",
          "height": 206
        }
      },
      "outputs": [
        {
          "output_type": "execute_result",
          "data": {
            "text/html": [
              "\n",
              "  <div id=\"df-f69893d9-b90e-4a8c-bffd-e609a60a39a3\">\n",
              "    <div class=\"colab-df-container\">\n",
              "      <div>\n",
              "<style scoped>\n",
              "    .dataframe tbody tr th:only-of-type {\n",
              "        vertical-align: middle;\n",
              "    }\n",
              "\n",
              "    .dataframe tbody tr th {\n",
              "        vertical-align: top;\n",
              "    }\n",
              "\n",
              "    .dataframe thead th {\n",
              "        text-align: right;\n",
              "    }\n",
              "</style>\n",
              "<table border=\"1\" class=\"dataframe\">\n",
              "  <thead>\n",
              "    <tr style=\"text-align: right;\">\n",
              "      <th></th>\n",
              "      <th>movieId</th>\n",
              "      <th>title_cast</th>\n",
              "      <th>director</th>\n",
              "      <th>runtime</th>\n",
              "      <th>budget</th>\n",
              "      <th>plot_keywords</th>\n",
              "    </tr>\n",
              "  </thead>\n",
              "  <tbody>\n",
              "    <tr>\n",
              "      <th>0</th>\n",
              "      <td>1</td>\n",
              "      <td>Tom Hanks|Tim Allen|Don Rickles|Jim Varney|Wal...</td>\n",
              "      <td>John Lasseter</td>\n",
              "      <td>81.0</td>\n",
              "      <td>$30,000,000</td>\n",
              "      <td>toy|rivalry|cowboy|cgi animation</td>\n",
              "    </tr>\n",
              "    <tr>\n",
              "      <th>1</th>\n",
              "      <td>2</td>\n",
              "      <td>Robin Williams|Jonathan Hyde|Kirsten Dunst|Bra...</td>\n",
              "      <td>Jonathan Hensleigh</td>\n",
              "      <td>104.0</td>\n",
              "      <td>$65,000,000</td>\n",
              "      <td>board game|adventurer|fight|game</td>\n",
              "    </tr>\n",
              "    <tr>\n",
              "      <th>2</th>\n",
              "      <td>3</td>\n",
              "      <td>Walter Matthau|Jack Lemmon|Sophia Loren|Ann-Ma...</td>\n",
              "      <td>Mark Steven Johnson</td>\n",
              "      <td>101.0</td>\n",
              "      <td>$25,000,000</td>\n",
              "      <td>boat|lake|neighbor|rivalry</td>\n",
              "    </tr>\n",
              "    <tr>\n",
              "      <th>3</th>\n",
              "      <td>4</td>\n",
              "      <td>Whitney Houston|Angela Bassett|Loretta Devine|...</td>\n",
              "      <td>Terry McMillan</td>\n",
              "      <td>124.0</td>\n",
              "      <td>$16,000,000</td>\n",
              "      <td>black american|husband wife relationship|betra...</td>\n",
              "    </tr>\n",
              "    <tr>\n",
              "      <th>4</th>\n",
              "      <td>5</td>\n",
              "      <td>Steve Martin|Diane Keaton|Martin Short|Kimberl...</td>\n",
              "      <td>Albert Hackett</td>\n",
              "      <td>106.0</td>\n",
              "      <td>$30,000,000</td>\n",
              "      <td>fatherhood|doberman|dog|mansion</td>\n",
              "    </tr>\n",
              "  </tbody>\n",
              "</table>\n",
              "</div>\n",
              "      <button class=\"colab-df-convert\" onclick=\"convertToInteractive('df-f69893d9-b90e-4a8c-bffd-e609a60a39a3')\"\n",
              "              title=\"Convert this dataframe to an interactive table.\"\n",
              "              style=\"display:none;\">\n",
              "        \n",
              "  <svg xmlns=\"http://www.w3.org/2000/svg\" height=\"24px\"viewBox=\"0 0 24 24\"\n",
              "       width=\"24px\">\n",
              "    <path d=\"M0 0h24v24H0V0z\" fill=\"none\"/>\n",
              "    <path d=\"M18.56 5.44l.94 2.06.94-2.06 2.06-.94-2.06-.94-.94-2.06-.94 2.06-2.06.94zm-11 1L8.5 8.5l.94-2.06 2.06-.94-2.06-.94L8.5 2.5l-.94 2.06-2.06.94zm10 10l.94 2.06.94-2.06 2.06-.94-2.06-.94-.94-2.06-.94 2.06-2.06.94z\"/><path d=\"M17.41 7.96l-1.37-1.37c-.4-.4-.92-.59-1.43-.59-.52 0-1.04.2-1.43.59L10.3 9.45l-7.72 7.72c-.78.78-.78 2.05 0 2.83L4 21.41c.39.39.9.59 1.41.59.51 0 1.02-.2 1.41-.59l7.78-7.78 2.81-2.81c.8-.78.8-2.07 0-2.86zM5.41 20L4 18.59l7.72-7.72 1.47 1.35L5.41 20z\"/>\n",
              "  </svg>\n",
              "      </button>\n",
              "      \n",
              "  <style>\n",
              "    .colab-df-container {\n",
              "      display:flex;\n",
              "      flex-wrap:wrap;\n",
              "      gap: 12px;\n",
              "    }\n",
              "\n",
              "    .colab-df-convert {\n",
              "      background-color: #E8F0FE;\n",
              "      border: none;\n",
              "      border-radius: 50%;\n",
              "      cursor: pointer;\n",
              "      display: none;\n",
              "      fill: #1967D2;\n",
              "      height: 32px;\n",
              "      padding: 0 0 0 0;\n",
              "      width: 32px;\n",
              "    }\n",
              "\n",
              "    .colab-df-convert:hover {\n",
              "      background-color: #E2EBFA;\n",
              "      box-shadow: 0px 1px 2px rgba(60, 64, 67, 0.3), 0px 1px 3px 1px rgba(60, 64, 67, 0.15);\n",
              "      fill: #174EA6;\n",
              "    }\n",
              "\n",
              "    [theme=dark] .colab-df-convert {\n",
              "      background-color: #3B4455;\n",
              "      fill: #D2E3FC;\n",
              "    }\n",
              "\n",
              "    [theme=dark] .colab-df-convert:hover {\n",
              "      background-color: #434B5C;\n",
              "      box-shadow: 0px 1px 3px 1px rgba(0, 0, 0, 0.15);\n",
              "      filter: drop-shadow(0px 1px 2px rgba(0, 0, 0, 0.3));\n",
              "      fill: #FFFFFF;\n",
              "    }\n",
              "  </style>\n",
              "\n",
              "      <script>\n",
              "        const buttonEl =\n",
              "          document.querySelector('#df-f69893d9-b90e-4a8c-bffd-e609a60a39a3 button.colab-df-convert');\n",
              "        buttonEl.style.display =\n",
              "          google.colab.kernel.accessAllowed ? 'block' : 'none';\n",
              "\n",
              "        async function convertToInteractive(key) {\n",
              "          const element = document.querySelector('#df-f69893d9-b90e-4a8c-bffd-e609a60a39a3');\n",
              "          const dataTable =\n",
              "            await google.colab.kernel.invokeFunction('convertToInteractive',\n",
              "                                                     [key], {});\n",
              "          if (!dataTable) return;\n",
              "\n",
              "          const docLinkHtml = 'Like what you see? Visit the ' +\n",
              "            '<a target=\"_blank\" href=https://colab.research.google.com/notebooks/data_table.ipynb>data table notebook</a>'\n",
              "            + ' to learn more about interactive tables.';\n",
              "          element.innerHTML = '';\n",
              "          dataTable['output_type'] = 'display_data';\n",
              "          await google.colab.output.renderOutput(dataTable, element);\n",
              "          const docLink = document.createElement('div');\n",
              "          docLink.innerHTML = docLinkHtml;\n",
              "          element.appendChild(docLink);\n",
              "        }\n",
              "      </script>\n",
              "    </div>\n",
              "  </div>\n",
              "  "
            ],
            "text/plain": [
              "   movieId  ...                                      plot_keywords\n",
              "0        1  ...                   toy|rivalry|cowboy|cgi animation\n",
              "1        2  ...                   board game|adventurer|fight|game\n",
              "2        3  ...                         boat|lake|neighbor|rivalry\n",
              "3        4  ...  black american|husband wife relationship|betra...\n",
              "4        5  ...                    fatherhood|doberman|dog|mansion\n",
              "\n",
              "[5 rows x 6 columns]"
            ]
          },
          "metadata": {},
          "execution_count": 10
        }
      ],
      "source": [
        "imdb.head()"
      ]
    },
    {
      "cell_type": "code",
      "execution_count": null,
      "metadata": {
        "id": "7TAZ2X8Zawjr",
        "outputId": "53dc1d1c-6e33-46c9-9c35-4736744e298b",
        "colab": {
          "base_uri": "https://localhost:8080/",
          "height": 206
        }
      },
      "outputs": [
        {
          "output_type": "execute_result",
          "data": {
            "text/html": [
              "\n",
              "  <div id=\"df-cae52a2a-009b-4a99-91b8-304cbe13898e\">\n",
              "    <div class=\"colab-df-container\">\n",
              "      <div>\n",
              "<style scoped>\n",
              "    .dataframe tbody tr th:only-of-type {\n",
              "        vertical-align: middle;\n",
              "    }\n",
              "\n",
              "    .dataframe tbody tr th {\n",
              "        vertical-align: top;\n",
              "    }\n",
              "\n",
              "    .dataframe thead th {\n",
              "        text-align: right;\n",
              "    }\n",
              "</style>\n",
              "<table border=\"1\" class=\"dataframe\">\n",
              "  <thead>\n",
              "    <tr style=\"text-align: right;\">\n",
              "      <th></th>\n",
              "      <th>movieId</th>\n",
              "      <th>tagId</th>\n",
              "      <th>relevance</th>\n",
              "    </tr>\n",
              "  </thead>\n",
              "  <tbody>\n",
              "    <tr>\n",
              "      <th>0</th>\n",
              "      <td>1</td>\n",
              "      <td>1</td>\n",
              "      <td>0.02875</td>\n",
              "    </tr>\n",
              "    <tr>\n",
              "      <th>1</th>\n",
              "      <td>1</td>\n",
              "      <td>2</td>\n",
              "      <td>0.02375</td>\n",
              "    </tr>\n",
              "    <tr>\n",
              "      <th>2</th>\n",
              "      <td>1</td>\n",
              "      <td>3</td>\n",
              "      <td>0.06250</td>\n",
              "    </tr>\n",
              "    <tr>\n",
              "      <th>3</th>\n",
              "      <td>1</td>\n",
              "      <td>4</td>\n",
              "      <td>0.07575</td>\n",
              "    </tr>\n",
              "    <tr>\n",
              "      <th>4</th>\n",
              "      <td>1</td>\n",
              "      <td>5</td>\n",
              "      <td>0.14075</td>\n",
              "    </tr>\n",
              "  </tbody>\n",
              "</table>\n",
              "</div>\n",
              "      <button class=\"colab-df-convert\" onclick=\"convertToInteractive('df-cae52a2a-009b-4a99-91b8-304cbe13898e')\"\n",
              "              title=\"Convert this dataframe to an interactive table.\"\n",
              "              style=\"display:none;\">\n",
              "        \n",
              "  <svg xmlns=\"http://www.w3.org/2000/svg\" height=\"24px\"viewBox=\"0 0 24 24\"\n",
              "       width=\"24px\">\n",
              "    <path d=\"M0 0h24v24H0V0z\" fill=\"none\"/>\n",
              "    <path d=\"M18.56 5.44l.94 2.06.94-2.06 2.06-.94-2.06-.94-.94-2.06-.94 2.06-2.06.94zm-11 1L8.5 8.5l.94-2.06 2.06-.94-2.06-.94L8.5 2.5l-.94 2.06-2.06.94zm10 10l.94 2.06.94-2.06 2.06-.94-2.06-.94-.94-2.06-.94 2.06-2.06.94z\"/><path d=\"M17.41 7.96l-1.37-1.37c-.4-.4-.92-.59-1.43-.59-.52 0-1.04.2-1.43.59L10.3 9.45l-7.72 7.72c-.78.78-.78 2.05 0 2.83L4 21.41c.39.39.9.59 1.41.59.51 0 1.02-.2 1.41-.59l7.78-7.78 2.81-2.81c.8-.78.8-2.07 0-2.86zM5.41 20L4 18.59l7.72-7.72 1.47 1.35L5.41 20z\"/>\n",
              "  </svg>\n",
              "      </button>\n",
              "      \n",
              "  <style>\n",
              "    .colab-df-container {\n",
              "      display:flex;\n",
              "      flex-wrap:wrap;\n",
              "      gap: 12px;\n",
              "    }\n",
              "\n",
              "    .colab-df-convert {\n",
              "      background-color: #E8F0FE;\n",
              "      border: none;\n",
              "      border-radius: 50%;\n",
              "      cursor: pointer;\n",
              "      display: none;\n",
              "      fill: #1967D2;\n",
              "      height: 32px;\n",
              "      padding: 0 0 0 0;\n",
              "      width: 32px;\n",
              "    }\n",
              "\n",
              "    .colab-df-convert:hover {\n",
              "      background-color: #E2EBFA;\n",
              "      box-shadow: 0px 1px 2px rgba(60, 64, 67, 0.3), 0px 1px 3px 1px rgba(60, 64, 67, 0.15);\n",
              "      fill: #174EA6;\n",
              "    }\n",
              "\n",
              "    [theme=dark] .colab-df-convert {\n",
              "      background-color: #3B4455;\n",
              "      fill: #D2E3FC;\n",
              "    }\n",
              "\n",
              "    [theme=dark] .colab-df-convert:hover {\n",
              "      background-color: #434B5C;\n",
              "      box-shadow: 0px 1px 3px 1px rgba(0, 0, 0, 0.15);\n",
              "      filter: drop-shadow(0px 1px 2px rgba(0, 0, 0, 0.3));\n",
              "      fill: #FFFFFF;\n",
              "    }\n",
              "  </style>\n",
              "\n",
              "      <script>\n",
              "        const buttonEl =\n",
              "          document.querySelector('#df-cae52a2a-009b-4a99-91b8-304cbe13898e button.colab-df-convert');\n",
              "        buttonEl.style.display =\n",
              "          google.colab.kernel.accessAllowed ? 'block' : 'none';\n",
              "\n",
              "        async function convertToInteractive(key) {\n",
              "          const element = document.querySelector('#df-cae52a2a-009b-4a99-91b8-304cbe13898e');\n",
              "          const dataTable =\n",
              "            await google.colab.kernel.invokeFunction('convertToInteractive',\n",
              "                                                     [key], {});\n",
              "          if (!dataTable) return;\n",
              "\n",
              "          const docLinkHtml = 'Like what you see? Visit the ' +\n",
              "            '<a target=\"_blank\" href=https://colab.research.google.com/notebooks/data_table.ipynb>data table notebook</a>'\n",
              "            + ' to learn more about interactive tables.';\n",
              "          element.innerHTML = '';\n",
              "          dataTable['output_type'] = 'display_data';\n",
              "          await google.colab.output.renderOutput(dataTable, element);\n",
              "          const docLink = document.createElement('div');\n",
              "          docLink.innerHTML = docLinkHtml;\n",
              "          element.appendChild(docLink);\n",
              "        }\n",
              "      </script>\n",
              "    </div>\n",
              "  </div>\n",
              "  "
            ],
            "text/plain": [
              "   movieId  tagId  relevance\n",
              "0        1      1    0.02875\n",
              "1        1      2    0.02375\n",
              "2        1      3    0.06250\n",
              "3        1      4    0.07575\n",
              "4        1      5    0.14075"
            ]
          },
          "metadata": {},
          "execution_count": 11
        }
      ],
      "source": [
        "genome_scores.head()"
      ]
    },
    {
      "cell_type": "code",
      "execution_count": null,
      "metadata": {
        "id": "tl-yxFkgawjr",
        "outputId": "122064a3-866a-42c8-ad66-5269f68394e3",
        "colab": {
          "base_uri": "https://localhost:8080/",
          "height": 206
        }
      },
      "outputs": [
        {
          "output_type": "execute_result",
          "data": {
            "text/html": [
              "\n",
              "  <div id=\"df-d0479dcf-52fb-4c18-ab3c-9107d078ec9f\">\n",
              "    <div class=\"colab-df-container\">\n",
              "      <div>\n",
              "<style scoped>\n",
              "    .dataframe tbody tr th:only-of-type {\n",
              "        vertical-align: middle;\n",
              "    }\n",
              "\n",
              "    .dataframe tbody tr th {\n",
              "        vertical-align: top;\n",
              "    }\n",
              "\n",
              "    .dataframe thead th {\n",
              "        text-align: right;\n",
              "    }\n",
              "</style>\n",
              "<table border=\"1\" class=\"dataframe\">\n",
              "  <thead>\n",
              "    <tr style=\"text-align: right;\">\n",
              "      <th></th>\n",
              "      <th>tagId</th>\n",
              "      <th>tag</th>\n",
              "    </tr>\n",
              "  </thead>\n",
              "  <tbody>\n",
              "    <tr>\n",
              "      <th>0</th>\n",
              "      <td>1</td>\n",
              "      <td>007</td>\n",
              "    </tr>\n",
              "    <tr>\n",
              "      <th>1</th>\n",
              "      <td>2</td>\n",
              "      <td>007 (series)</td>\n",
              "    </tr>\n",
              "    <tr>\n",
              "      <th>2</th>\n",
              "      <td>3</td>\n",
              "      <td>18th century</td>\n",
              "    </tr>\n",
              "    <tr>\n",
              "      <th>3</th>\n",
              "      <td>4</td>\n",
              "      <td>1920s</td>\n",
              "    </tr>\n",
              "    <tr>\n",
              "      <th>4</th>\n",
              "      <td>5</td>\n",
              "      <td>1930s</td>\n",
              "    </tr>\n",
              "  </tbody>\n",
              "</table>\n",
              "</div>\n",
              "      <button class=\"colab-df-convert\" onclick=\"convertToInteractive('df-d0479dcf-52fb-4c18-ab3c-9107d078ec9f')\"\n",
              "              title=\"Convert this dataframe to an interactive table.\"\n",
              "              style=\"display:none;\">\n",
              "        \n",
              "  <svg xmlns=\"http://www.w3.org/2000/svg\" height=\"24px\"viewBox=\"0 0 24 24\"\n",
              "       width=\"24px\">\n",
              "    <path d=\"M0 0h24v24H0V0z\" fill=\"none\"/>\n",
              "    <path d=\"M18.56 5.44l.94 2.06.94-2.06 2.06-.94-2.06-.94-.94-2.06-.94 2.06-2.06.94zm-11 1L8.5 8.5l.94-2.06 2.06-.94-2.06-.94L8.5 2.5l-.94 2.06-2.06.94zm10 10l.94 2.06.94-2.06 2.06-.94-2.06-.94-.94-2.06-.94 2.06-2.06.94z\"/><path d=\"M17.41 7.96l-1.37-1.37c-.4-.4-.92-.59-1.43-.59-.52 0-1.04.2-1.43.59L10.3 9.45l-7.72 7.72c-.78.78-.78 2.05 0 2.83L4 21.41c.39.39.9.59 1.41.59.51 0 1.02-.2 1.41-.59l7.78-7.78 2.81-2.81c.8-.78.8-2.07 0-2.86zM5.41 20L4 18.59l7.72-7.72 1.47 1.35L5.41 20z\"/>\n",
              "  </svg>\n",
              "      </button>\n",
              "      \n",
              "  <style>\n",
              "    .colab-df-container {\n",
              "      display:flex;\n",
              "      flex-wrap:wrap;\n",
              "      gap: 12px;\n",
              "    }\n",
              "\n",
              "    .colab-df-convert {\n",
              "      background-color: #E8F0FE;\n",
              "      border: none;\n",
              "      border-radius: 50%;\n",
              "      cursor: pointer;\n",
              "      display: none;\n",
              "      fill: #1967D2;\n",
              "      height: 32px;\n",
              "      padding: 0 0 0 0;\n",
              "      width: 32px;\n",
              "    }\n",
              "\n",
              "    .colab-df-convert:hover {\n",
              "      background-color: #E2EBFA;\n",
              "      box-shadow: 0px 1px 2px rgba(60, 64, 67, 0.3), 0px 1px 3px 1px rgba(60, 64, 67, 0.15);\n",
              "      fill: #174EA6;\n",
              "    }\n",
              "\n",
              "    [theme=dark] .colab-df-convert {\n",
              "      background-color: #3B4455;\n",
              "      fill: #D2E3FC;\n",
              "    }\n",
              "\n",
              "    [theme=dark] .colab-df-convert:hover {\n",
              "      background-color: #434B5C;\n",
              "      box-shadow: 0px 1px 3px 1px rgba(0, 0, 0, 0.15);\n",
              "      filter: drop-shadow(0px 1px 2px rgba(0, 0, 0, 0.3));\n",
              "      fill: #FFFFFF;\n",
              "    }\n",
              "  </style>\n",
              "\n",
              "      <script>\n",
              "        const buttonEl =\n",
              "          document.querySelector('#df-d0479dcf-52fb-4c18-ab3c-9107d078ec9f button.colab-df-convert');\n",
              "        buttonEl.style.display =\n",
              "          google.colab.kernel.accessAllowed ? 'block' : 'none';\n",
              "\n",
              "        async function convertToInteractive(key) {\n",
              "          const element = document.querySelector('#df-d0479dcf-52fb-4c18-ab3c-9107d078ec9f');\n",
              "          const dataTable =\n",
              "            await google.colab.kernel.invokeFunction('convertToInteractive',\n",
              "                                                     [key], {});\n",
              "          if (!dataTable) return;\n",
              "\n",
              "          const docLinkHtml = 'Like what you see? Visit the ' +\n",
              "            '<a target=\"_blank\" href=https://colab.research.google.com/notebooks/data_table.ipynb>data table notebook</a>'\n",
              "            + ' to learn more about interactive tables.';\n",
              "          element.innerHTML = '';\n",
              "          dataTable['output_type'] = 'display_data';\n",
              "          await google.colab.output.renderOutput(dataTable, element);\n",
              "          const docLink = document.createElement('div');\n",
              "          docLink.innerHTML = docLinkHtml;\n",
              "          element.appendChild(docLink);\n",
              "        }\n",
              "      </script>\n",
              "    </div>\n",
              "  </div>\n",
              "  "
            ],
            "text/plain": [
              "   tagId           tag\n",
              "0      1           007\n",
              "1      2  007 (series)\n",
              "2      3  18th century\n",
              "3      4         1920s\n",
              "4      5         1930s"
            ]
          },
          "metadata": {},
          "execution_count": 12
        }
      ],
      "source": [
        "genome_tags.head()"
      ]
    },
    {
      "cell_type": "code",
      "execution_count": null,
      "metadata": {
        "id": "zSkbKChdawjs",
        "outputId": "29dabfd6-be50-42e3-ed72-d34a28b38170",
        "colab": {
          "base_uri": "https://localhost:8080/",
          "height": 206
        }
      },
      "outputs": [
        {
          "output_type": "execute_result",
          "data": {
            "text/html": [
              "\n",
              "  <div id=\"df-87c0cf99-fb55-4489-807b-f0c72aecff29\">\n",
              "    <div class=\"colab-df-container\">\n",
              "      <div>\n",
              "<style scoped>\n",
              "    .dataframe tbody tr th:only-of-type {\n",
              "        vertical-align: middle;\n",
              "    }\n",
              "\n",
              "    .dataframe tbody tr th {\n",
              "        vertical-align: top;\n",
              "    }\n",
              "\n",
              "    .dataframe thead th {\n",
              "        text-align: right;\n",
              "    }\n",
              "</style>\n",
              "<table border=\"1\" class=\"dataframe\">\n",
              "  <thead>\n",
              "    <tr style=\"text-align: right;\">\n",
              "      <th></th>\n",
              "      <th>userId</th>\n",
              "      <th>movieId</th>\n",
              "      <th>tag</th>\n",
              "      <th>timestamp</th>\n",
              "    </tr>\n",
              "  </thead>\n",
              "  <tbody>\n",
              "    <tr>\n",
              "      <th>0</th>\n",
              "      <td>3</td>\n",
              "      <td>260</td>\n",
              "      <td>classic</td>\n",
              "      <td>1439472355</td>\n",
              "    </tr>\n",
              "    <tr>\n",
              "      <th>1</th>\n",
              "      <td>3</td>\n",
              "      <td>260</td>\n",
              "      <td>sci-fi</td>\n",
              "      <td>1439472256</td>\n",
              "    </tr>\n",
              "    <tr>\n",
              "      <th>2</th>\n",
              "      <td>4</td>\n",
              "      <td>1732</td>\n",
              "      <td>dark comedy</td>\n",
              "      <td>1573943598</td>\n",
              "    </tr>\n",
              "    <tr>\n",
              "      <th>3</th>\n",
              "      <td>4</td>\n",
              "      <td>1732</td>\n",
              "      <td>great dialogue</td>\n",
              "      <td>1573943604</td>\n",
              "    </tr>\n",
              "    <tr>\n",
              "      <th>4</th>\n",
              "      <td>4</td>\n",
              "      <td>7569</td>\n",
              "      <td>so bad it's good</td>\n",
              "      <td>1573943455</td>\n",
              "    </tr>\n",
              "  </tbody>\n",
              "</table>\n",
              "</div>\n",
              "      <button class=\"colab-df-convert\" onclick=\"convertToInteractive('df-87c0cf99-fb55-4489-807b-f0c72aecff29')\"\n",
              "              title=\"Convert this dataframe to an interactive table.\"\n",
              "              style=\"display:none;\">\n",
              "        \n",
              "  <svg xmlns=\"http://www.w3.org/2000/svg\" height=\"24px\"viewBox=\"0 0 24 24\"\n",
              "       width=\"24px\">\n",
              "    <path d=\"M0 0h24v24H0V0z\" fill=\"none\"/>\n",
              "    <path d=\"M18.56 5.44l.94 2.06.94-2.06 2.06-.94-2.06-.94-.94-2.06-.94 2.06-2.06.94zm-11 1L8.5 8.5l.94-2.06 2.06-.94-2.06-.94L8.5 2.5l-.94 2.06-2.06.94zm10 10l.94 2.06.94-2.06 2.06-.94-2.06-.94-.94-2.06-.94 2.06-2.06.94z\"/><path d=\"M17.41 7.96l-1.37-1.37c-.4-.4-.92-.59-1.43-.59-.52 0-1.04.2-1.43.59L10.3 9.45l-7.72 7.72c-.78.78-.78 2.05 0 2.83L4 21.41c.39.39.9.59 1.41.59.51 0 1.02-.2 1.41-.59l7.78-7.78 2.81-2.81c.8-.78.8-2.07 0-2.86zM5.41 20L4 18.59l7.72-7.72 1.47 1.35L5.41 20z\"/>\n",
              "  </svg>\n",
              "      </button>\n",
              "      \n",
              "  <style>\n",
              "    .colab-df-container {\n",
              "      display:flex;\n",
              "      flex-wrap:wrap;\n",
              "      gap: 12px;\n",
              "    }\n",
              "\n",
              "    .colab-df-convert {\n",
              "      background-color: #E8F0FE;\n",
              "      border: none;\n",
              "      border-radius: 50%;\n",
              "      cursor: pointer;\n",
              "      display: none;\n",
              "      fill: #1967D2;\n",
              "      height: 32px;\n",
              "      padding: 0 0 0 0;\n",
              "      width: 32px;\n",
              "    }\n",
              "\n",
              "    .colab-df-convert:hover {\n",
              "      background-color: #E2EBFA;\n",
              "      box-shadow: 0px 1px 2px rgba(60, 64, 67, 0.3), 0px 1px 3px 1px rgba(60, 64, 67, 0.15);\n",
              "      fill: #174EA6;\n",
              "    }\n",
              "\n",
              "    [theme=dark] .colab-df-convert {\n",
              "      background-color: #3B4455;\n",
              "      fill: #D2E3FC;\n",
              "    }\n",
              "\n",
              "    [theme=dark] .colab-df-convert:hover {\n",
              "      background-color: #434B5C;\n",
              "      box-shadow: 0px 1px 3px 1px rgba(0, 0, 0, 0.15);\n",
              "      filter: drop-shadow(0px 1px 2px rgba(0, 0, 0, 0.3));\n",
              "      fill: #FFFFFF;\n",
              "    }\n",
              "  </style>\n",
              "\n",
              "      <script>\n",
              "        const buttonEl =\n",
              "          document.querySelector('#df-87c0cf99-fb55-4489-807b-f0c72aecff29 button.colab-df-convert');\n",
              "        buttonEl.style.display =\n",
              "          google.colab.kernel.accessAllowed ? 'block' : 'none';\n",
              "\n",
              "        async function convertToInteractive(key) {\n",
              "          const element = document.querySelector('#df-87c0cf99-fb55-4489-807b-f0c72aecff29');\n",
              "          const dataTable =\n",
              "            await google.colab.kernel.invokeFunction('convertToInteractive',\n",
              "                                                     [key], {});\n",
              "          if (!dataTable) return;\n",
              "\n",
              "          const docLinkHtml = 'Like what you see? Visit the ' +\n",
              "            '<a target=\"_blank\" href=https://colab.research.google.com/notebooks/data_table.ipynb>data table notebook</a>'\n",
              "            + ' to learn more about interactive tables.';\n",
              "          element.innerHTML = '';\n",
              "          dataTable['output_type'] = 'display_data';\n",
              "          await google.colab.output.renderOutput(dataTable, element);\n",
              "          const docLink = document.createElement('div');\n",
              "          docLink.innerHTML = docLinkHtml;\n",
              "          element.appendChild(docLink);\n",
              "        }\n",
              "      </script>\n",
              "    </div>\n",
              "  </div>\n",
              "  "
            ],
            "text/plain": [
              "   userId  movieId               tag   timestamp\n",
              "0       3      260           classic  1439472355\n",
              "1       3      260            sci-fi  1439472256\n",
              "2       4     1732       dark comedy  1573943598\n",
              "3       4     1732    great dialogue  1573943604\n",
              "4       4     7569  so bad it's good  1573943455"
            ]
          },
          "metadata": {},
          "execution_count": 13
        }
      ],
      "source": [
        "tags.head()"
      ]
    },
    {
      "cell_type": "code",
      "execution_count": null,
      "metadata": {
        "id": "EXPhrb2_awjt",
        "outputId": "af15dd23-4c44-4071-952f-b5c5c193ae91",
        "colab": {
          "base_uri": "https://localhost:8080/",
          "height": 206
        }
      },
      "outputs": [
        {
          "output_type": "execute_result",
          "data": {
            "text/html": [
              "\n",
              "  <div id=\"df-d2487045-7ff1-4770-a0f9-50ed66d61679\">\n",
              "    <div class=\"colab-df-container\">\n",
              "      <div>\n",
              "<style scoped>\n",
              "    .dataframe tbody tr th:only-of-type {\n",
              "        vertical-align: middle;\n",
              "    }\n",
              "\n",
              "    .dataframe tbody tr th {\n",
              "        vertical-align: top;\n",
              "    }\n",
              "\n",
              "    .dataframe thead th {\n",
              "        text-align: right;\n",
              "    }\n",
              "</style>\n",
              "<table border=\"1\" class=\"dataframe\">\n",
              "  <thead>\n",
              "    <tr style=\"text-align: right;\">\n",
              "      <th></th>\n",
              "      <th>movieId</th>\n",
              "      <th>imdbId</th>\n",
              "      <th>tmdbId</th>\n",
              "    </tr>\n",
              "  </thead>\n",
              "  <tbody>\n",
              "    <tr>\n",
              "      <th>0</th>\n",
              "      <td>1</td>\n",
              "      <td>114709</td>\n",
              "      <td>862.0</td>\n",
              "    </tr>\n",
              "    <tr>\n",
              "      <th>1</th>\n",
              "      <td>2</td>\n",
              "      <td>113497</td>\n",
              "      <td>8844.0</td>\n",
              "    </tr>\n",
              "    <tr>\n",
              "      <th>2</th>\n",
              "      <td>3</td>\n",
              "      <td>113228</td>\n",
              "      <td>15602.0</td>\n",
              "    </tr>\n",
              "    <tr>\n",
              "      <th>3</th>\n",
              "      <td>4</td>\n",
              "      <td>114885</td>\n",
              "      <td>31357.0</td>\n",
              "    </tr>\n",
              "    <tr>\n",
              "      <th>4</th>\n",
              "      <td>5</td>\n",
              "      <td>113041</td>\n",
              "      <td>11862.0</td>\n",
              "    </tr>\n",
              "  </tbody>\n",
              "</table>\n",
              "</div>\n",
              "      <button class=\"colab-df-convert\" onclick=\"convertToInteractive('df-d2487045-7ff1-4770-a0f9-50ed66d61679')\"\n",
              "              title=\"Convert this dataframe to an interactive table.\"\n",
              "              style=\"display:none;\">\n",
              "        \n",
              "  <svg xmlns=\"http://www.w3.org/2000/svg\" height=\"24px\"viewBox=\"0 0 24 24\"\n",
              "       width=\"24px\">\n",
              "    <path d=\"M0 0h24v24H0V0z\" fill=\"none\"/>\n",
              "    <path d=\"M18.56 5.44l.94 2.06.94-2.06 2.06-.94-2.06-.94-.94-2.06-.94 2.06-2.06.94zm-11 1L8.5 8.5l.94-2.06 2.06-.94-2.06-.94L8.5 2.5l-.94 2.06-2.06.94zm10 10l.94 2.06.94-2.06 2.06-.94-2.06-.94-.94-2.06-.94 2.06-2.06.94z\"/><path d=\"M17.41 7.96l-1.37-1.37c-.4-.4-.92-.59-1.43-.59-.52 0-1.04.2-1.43.59L10.3 9.45l-7.72 7.72c-.78.78-.78 2.05 0 2.83L4 21.41c.39.39.9.59 1.41.59.51 0 1.02-.2 1.41-.59l7.78-7.78 2.81-2.81c.8-.78.8-2.07 0-2.86zM5.41 20L4 18.59l7.72-7.72 1.47 1.35L5.41 20z\"/>\n",
              "  </svg>\n",
              "      </button>\n",
              "      \n",
              "  <style>\n",
              "    .colab-df-container {\n",
              "      display:flex;\n",
              "      flex-wrap:wrap;\n",
              "      gap: 12px;\n",
              "    }\n",
              "\n",
              "    .colab-df-convert {\n",
              "      background-color: #E8F0FE;\n",
              "      border: none;\n",
              "      border-radius: 50%;\n",
              "      cursor: pointer;\n",
              "      display: none;\n",
              "      fill: #1967D2;\n",
              "      height: 32px;\n",
              "      padding: 0 0 0 0;\n",
              "      width: 32px;\n",
              "    }\n",
              "\n",
              "    .colab-df-convert:hover {\n",
              "      background-color: #E2EBFA;\n",
              "      box-shadow: 0px 1px 2px rgba(60, 64, 67, 0.3), 0px 1px 3px 1px rgba(60, 64, 67, 0.15);\n",
              "      fill: #174EA6;\n",
              "    }\n",
              "\n",
              "    [theme=dark] .colab-df-convert {\n",
              "      background-color: #3B4455;\n",
              "      fill: #D2E3FC;\n",
              "    }\n",
              "\n",
              "    [theme=dark] .colab-df-convert:hover {\n",
              "      background-color: #434B5C;\n",
              "      box-shadow: 0px 1px 3px 1px rgba(0, 0, 0, 0.15);\n",
              "      filter: drop-shadow(0px 1px 2px rgba(0, 0, 0, 0.3));\n",
              "      fill: #FFFFFF;\n",
              "    }\n",
              "  </style>\n",
              "\n",
              "      <script>\n",
              "        const buttonEl =\n",
              "          document.querySelector('#df-d2487045-7ff1-4770-a0f9-50ed66d61679 button.colab-df-convert');\n",
              "        buttonEl.style.display =\n",
              "          google.colab.kernel.accessAllowed ? 'block' : 'none';\n",
              "\n",
              "        async function convertToInteractive(key) {\n",
              "          const element = document.querySelector('#df-d2487045-7ff1-4770-a0f9-50ed66d61679');\n",
              "          const dataTable =\n",
              "            await google.colab.kernel.invokeFunction('convertToInteractive',\n",
              "                                                     [key], {});\n",
              "          if (!dataTable) return;\n",
              "\n",
              "          const docLinkHtml = 'Like what you see? Visit the ' +\n",
              "            '<a target=\"_blank\" href=https://colab.research.google.com/notebooks/data_table.ipynb>data table notebook</a>'\n",
              "            + ' to learn more about interactive tables.';\n",
              "          element.innerHTML = '';\n",
              "          dataTable['output_type'] = 'display_data';\n",
              "          await google.colab.output.renderOutput(dataTable, element);\n",
              "          const docLink = document.createElement('div');\n",
              "          docLink.innerHTML = docLinkHtml;\n",
              "          element.appendChild(docLink);\n",
              "        }\n",
              "      </script>\n",
              "    </div>\n",
              "  </div>\n",
              "  "
            ],
            "text/plain": [
              "   movieId  imdbId   tmdbId\n",
              "0        1  114709    862.0\n",
              "1        2  113497   8844.0\n",
              "2        3  113228  15602.0\n",
              "3        4  114885  31357.0\n",
              "4        5  113041  11862.0"
            ]
          },
          "metadata": {},
          "execution_count": 14
        }
      ],
      "source": [
        "links.head()"
      ]
    },
    {
      "cell_type": "code",
      "execution_count": null,
      "metadata": {
        "id": "EuDhtIZUawjt",
        "outputId": "96b1b04f-500a-4830-817f-908766e88d58",
        "colab": {
          "base_uri": "https://localhost:8080/",
          "height": 206
        }
      },
      "outputs": [
        {
          "output_type": "execute_result",
          "data": {
            "text/html": [
              "\n",
              "  <div id=\"df-4c2aea54-3343-48cd-84d0-ecd23c768bed\">\n",
              "    <div class=\"colab-df-container\">\n",
              "      <div>\n",
              "<style scoped>\n",
              "    .dataframe tbody tr th:only-of-type {\n",
              "        vertical-align: middle;\n",
              "    }\n",
              "\n",
              "    .dataframe tbody tr th {\n",
              "        vertical-align: top;\n",
              "    }\n",
              "\n",
              "    .dataframe thead th {\n",
              "        text-align: right;\n",
              "    }\n",
              "</style>\n",
              "<table border=\"1\" class=\"dataframe\">\n",
              "  <thead>\n",
              "    <tr style=\"text-align: right;\">\n",
              "      <th></th>\n",
              "      <th>userId</th>\n",
              "      <th>movieId</th>\n",
              "      <th>rating</th>\n",
              "      <th>timestamp</th>\n",
              "    </tr>\n",
              "  </thead>\n",
              "  <tbody>\n",
              "    <tr>\n",
              "      <th>0</th>\n",
              "      <td>5163</td>\n",
              "      <td>57669</td>\n",
              "      <td>4.0</td>\n",
              "      <td>1518349992</td>\n",
              "    </tr>\n",
              "    <tr>\n",
              "      <th>1</th>\n",
              "      <td>106343</td>\n",
              "      <td>5</td>\n",
              "      <td>4.5</td>\n",
              "      <td>1206238739</td>\n",
              "    </tr>\n",
              "    <tr>\n",
              "      <th>2</th>\n",
              "      <td>146790</td>\n",
              "      <td>5459</td>\n",
              "      <td>5.0</td>\n",
              "      <td>1076215539</td>\n",
              "    </tr>\n",
              "    <tr>\n",
              "      <th>3</th>\n",
              "      <td>106362</td>\n",
              "      <td>32296</td>\n",
              "      <td>2.0</td>\n",
              "      <td>1423042565</td>\n",
              "    </tr>\n",
              "    <tr>\n",
              "      <th>4</th>\n",
              "      <td>9041</td>\n",
              "      <td>366</td>\n",
              "      <td>3.0</td>\n",
              "      <td>833375837</td>\n",
              "    </tr>\n",
              "  </tbody>\n",
              "</table>\n",
              "</div>\n",
              "      <button class=\"colab-df-convert\" onclick=\"convertToInteractive('df-4c2aea54-3343-48cd-84d0-ecd23c768bed')\"\n",
              "              title=\"Convert this dataframe to an interactive table.\"\n",
              "              style=\"display:none;\">\n",
              "        \n",
              "  <svg xmlns=\"http://www.w3.org/2000/svg\" height=\"24px\"viewBox=\"0 0 24 24\"\n",
              "       width=\"24px\">\n",
              "    <path d=\"M0 0h24v24H0V0z\" fill=\"none\"/>\n",
              "    <path d=\"M18.56 5.44l.94 2.06.94-2.06 2.06-.94-2.06-.94-.94-2.06-.94 2.06-2.06.94zm-11 1L8.5 8.5l.94-2.06 2.06-.94-2.06-.94L8.5 2.5l-.94 2.06-2.06.94zm10 10l.94 2.06.94-2.06 2.06-.94-2.06-.94-.94-2.06-.94 2.06-2.06.94z\"/><path d=\"M17.41 7.96l-1.37-1.37c-.4-.4-.92-.59-1.43-.59-.52 0-1.04.2-1.43.59L10.3 9.45l-7.72 7.72c-.78.78-.78 2.05 0 2.83L4 21.41c.39.39.9.59 1.41.59.51 0 1.02-.2 1.41-.59l7.78-7.78 2.81-2.81c.8-.78.8-2.07 0-2.86zM5.41 20L4 18.59l7.72-7.72 1.47 1.35L5.41 20z\"/>\n",
              "  </svg>\n",
              "      </button>\n",
              "      \n",
              "  <style>\n",
              "    .colab-df-container {\n",
              "      display:flex;\n",
              "      flex-wrap:wrap;\n",
              "      gap: 12px;\n",
              "    }\n",
              "\n",
              "    .colab-df-convert {\n",
              "      background-color: #E8F0FE;\n",
              "      border: none;\n",
              "      border-radius: 50%;\n",
              "      cursor: pointer;\n",
              "      display: none;\n",
              "      fill: #1967D2;\n",
              "      height: 32px;\n",
              "      padding: 0 0 0 0;\n",
              "      width: 32px;\n",
              "    }\n",
              "\n",
              "    .colab-df-convert:hover {\n",
              "      background-color: #E2EBFA;\n",
              "      box-shadow: 0px 1px 2px rgba(60, 64, 67, 0.3), 0px 1px 3px 1px rgba(60, 64, 67, 0.15);\n",
              "      fill: #174EA6;\n",
              "    }\n",
              "\n",
              "    [theme=dark] .colab-df-convert {\n",
              "      background-color: #3B4455;\n",
              "      fill: #D2E3FC;\n",
              "    }\n",
              "\n",
              "    [theme=dark] .colab-df-convert:hover {\n",
              "      background-color: #434B5C;\n",
              "      box-shadow: 0px 1px 3px 1px rgba(0, 0, 0, 0.15);\n",
              "      filter: drop-shadow(0px 1px 2px rgba(0, 0, 0, 0.3));\n",
              "      fill: #FFFFFF;\n",
              "    }\n",
              "  </style>\n",
              "\n",
              "      <script>\n",
              "        const buttonEl =\n",
              "          document.querySelector('#df-4c2aea54-3343-48cd-84d0-ecd23c768bed button.colab-df-convert');\n",
              "        buttonEl.style.display =\n",
              "          google.colab.kernel.accessAllowed ? 'block' : 'none';\n",
              "\n",
              "        async function convertToInteractive(key) {\n",
              "          const element = document.querySelector('#df-4c2aea54-3343-48cd-84d0-ecd23c768bed');\n",
              "          const dataTable =\n",
              "            await google.colab.kernel.invokeFunction('convertToInteractive',\n",
              "                                                     [key], {});\n",
              "          if (!dataTable) return;\n",
              "\n",
              "          const docLinkHtml = 'Like what you see? Visit the ' +\n",
              "            '<a target=\"_blank\" href=https://colab.research.google.com/notebooks/data_table.ipynb>data table notebook</a>'\n",
              "            + ' to learn more about interactive tables.';\n",
              "          element.innerHTML = '';\n",
              "          dataTable['output_type'] = 'display_data';\n",
              "          await google.colab.output.renderOutput(dataTable, element);\n",
              "          const docLink = document.createElement('div');\n",
              "          docLink.innerHTML = docLinkHtml;\n",
              "          element.appendChild(docLink);\n",
              "        }\n",
              "      </script>\n",
              "    </div>\n",
              "  </div>\n",
              "  "
            ],
            "text/plain": [
              "   userId  movieId  rating   timestamp\n",
              "0    5163    57669     4.0  1518349992\n",
              "1  106343        5     4.5  1206238739\n",
              "2  146790     5459     5.0  1076215539\n",
              "3  106362    32296     2.0  1423042565\n",
              "4    9041      366     3.0   833375837"
            ]
          },
          "metadata": {},
          "execution_count": 15
        }
      ],
      "source": [
        "train.head()"
      ]
    },
    {
      "cell_type": "code",
      "execution_count": null,
      "metadata": {
        "id": "L-FXxpPpawju",
        "outputId": "cf592821-0708-40b5-aa0c-d41e0f7a3bca",
        "colab": {
          "base_uri": "https://localhost:8080/",
          "height": 206
        }
      },
      "outputs": [
        {
          "output_type": "execute_result",
          "data": {
            "text/html": [
              "\n",
              "  <div id=\"df-87292058-76da-47bf-8880-a0cac3dd8348\">\n",
              "    <div class=\"colab-df-container\">\n",
              "      <div>\n",
              "<style scoped>\n",
              "    .dataframe tbody tr th:only-of-type {\n",
              "        vertical-align: middle;\n",
              "    }\n",
              "\n",
              "    .dataframe tbody tr th {\n",
              "        vertical-align: top;\n",
              "    }\n",
              "\n",
              "    .dataframe thead th {\n",
              "        text-align: right;\n",
              "    }\n",
              "</style>\n",
              "<table border=\"1\" class=\"dataframe\">\n",
              "  <thead>\n",
              "    <tr style=\"text-align: right;\">\n",
              "      <th></th>\n",
              "      <th>userId</th>\n",
              "      <th>movieId</th>\n",
              "    </tr>\n",
              "  </thead>\n",
              "  <tbody>\n",
              "    <tr>\n",
              "      <th>0</th>\n",
              "      <td>1</td>\n",
              "      <td>2011</td>\n",
              "    </tr>\n",
              "    <tr>\n",
              "      <th>1</th>\n",
              "      <td>1</td>\n",
              "      <td>4144</td>\n",
              "    </tr>\n",
              "    <tr>\n",
              "      <th>2</th>\n",
              "      <td>1</td>\n",
              "      <td>5767</td>\n",
              "    </tr>\n",
              "    <tr>\n",
              "      <th>3</th>\n",
              "      <td>1</td>\n",
              "      <td>6711</td>\n",
              "    </tr>\n",
              "    <tr>\n",
              "      <th>4</th>\n",
              "      <td>1</td>\n",
              "      <td>7318</td>\n",
              "    </tr>\n",
              "  </tbody>\n",
              "</table>\n",
              "</div>\n",
              "      <button class=\"colab-df-convert\" onclick=\"convertToInteractive('df-87292058-76da-47bf-8880-a0cac3dd8348')\"\n",
              "              title=\"Convert this dataframe to an interactive table.\"\n",
              "              style=\"display:none;\">\n",
              "        \n",
              "  <svg xmlns=\"http://www.w3.org/2000/svg\" height=\"24px\"viewBox=\"0 0 24 24\"\n",
              "       width=\"24px\">\n",
              "    <path d=\"M0 0h24v24H0V0z\" fill=\"none\"/>\n",
              "    <path d=\"M18.56 5.44l.94 2.06.94-2.06 2.06-.94-2.06-.94-.94-2.06-.94 2.06-2.06.94zm-11 1L8.5 8.5l.94-2.06 2.06-.94-2.06-.94L8.5 2.5l-.94 2.06-2.06.94zm10 10l.94 2.06.94-2.06 2.06-.94-2.06-.94-.94-2.06-.94 2.06-2.06.94z\"/><path d=\"M17.41 7.96l-1.37-1.37c-.4-.4-.92-.59-1.43-.59-.52 0-1.04.2-1.43.59L10.3 9.45l-7.72 7.72c-.78.78-.78 2.05 0 2.83L4 21.41c.39.39.9.59 1.41.59.51 0 1.02-.2 1.41-.59l7.78-7.78 2.81-2.81c.8-.78.8-2.07 0-2.86zM5.41 20L4 18.59l7.72-7.72 1.47 1.35L5.41 20z\"/>\n",
              "  </svg>\n",
              "      </button>\n",
              "      \n",
              "  <style>\n",
              "    .colab-df-container {\n",
              "      display:flex;\n",
              "      flex-wrap:wrap;\n",
              "      gap: 12px;\n",
              "    }\n",
              "\n",
              "    .colab-df-convert {\n",
              "      background-color: #E8F0FE;\n",
              "      border: none;\n",
              "      border-radius: 50%;\n",
              "      cursor: pointer;\n",
              "      display: none;\n",
              "      fill: #1967D2;\n",
              "      height: 32px;\n",
              "      padding: 0 0 0 0;\n",
              "      width: 32px;\n",
              "    }\n",
              "\n",
              "    .colab-df-convert:hover {\n",
              "      background-color: #E2EBFA;\n",
              "      box-shadow: 0px 1px 2px rgba(60, 64, 67, 0.3), 0px 1px 3px 1px rgba(60, 64, 67, 0.15);\n",
              "      fill: #174EA6;\n",
              "    }\n",
              "\n",
              "    [theme=dark] .colab-df-convert {\n",
              "      background-color: #3B4455;\n",
              "      fill: #D2E3FC;\n",
              "    }\n",
              "\n",
              "    [theme=dark] .colab-df-convert:hover {\n",
              "      background-color: #434B5C;\n",
              "      box-shadow: 0px 1px 3px 1px rgba(0, 0, 0, 0.15);\n",
              "      filter: drop-shadow(0px 1px 2px rgba(0, 0, 0, 0.3));\n",
              "      fill: #FFFFFF;\n",
              "    }\n",
              "  </style>\n",
              "\n",
              "      <script>\n",
              "        const buttonEl =\n",
              "          document.querySelector('#df-87292058-76da-47bf-8880-a0cac3dd8348 button.colab-df-convert');\n",
              "        buttonEl.style.display =\n",
              "          google.colab.kernel.accessAllowed ? 'block' : 'none';\n",
              "\n",
              "        async function convertToInteractive(key) {\n",
              "          const element = document.querySelector('#df-87292058-76da-47bf-8880-a0cac3dd8348');\n",
              "          const dataTable =\n",
              "            await google.colab.kernel.invokeFunction('convertToInteractive',\n",
              "                                                     [key], {});\n",
              "          if (!dataTable) return;\n",
              "\n",
              "          const docLinkHtml = 'Like what you see? Visit the ' +\n",
              "            '<a target=\"_blank\" href=https://colab.research.google.com/notebooks/data_table.ipynb>data table notebook</a>'\n",
              "            + ' to learn more about interactive tables.';\n",
              "          element.innerHTML = '';\n",
              "          dataTable['output_type'] = 'display_data';\n",
              "          await google.colab.output.renderOutput(dataTable, element);\n",
              "          const docLink = document.createElement('div');\n",
              "          docLink.innerHTML = docLinkHtml;\n",
              "          element.appendChild(docLink);\n",
              "        }\n",
              "      </script>\n",
              "    </div>\n",
              "  </div>\n",
              "  "
            ],
            "text/plain": [
              "   userId  movieId\n",
              "0       1     2011\n",
              "1       1     4144\n",
              "2       1     5767\n",
              "3       1     6711\n",
              "4       1     7318"
            ]
          },
          "metadata": {},
          "execution_count": 16
        }
      ],
      "source": [
        "test.head()"
      ]
    },
    {
      "cell_type": "code",
      "execution_count": null,
      "metadata": {
        "execution": {
          "iopub.execute_input": "2021-07-05T12:35:04.989087Z",
          "iopub.status.busy": "2021-07-05T12:35:04.988798Z",
          "iopub.status.idle": "2021-07-05T12:35:05.017578Z",
          "shell.execute_reply": "2021-07-05T12:35:05.016634Z",
          "shell.execute_reply.started": "2021-07-05T12:35:04.989059Z"
        },
        "id": "-YJjdwoxawjv",
        "outputId": "24dba3dd-d719-48b7-ded1-eaf6a0af3290",
        "colab": {
          "base_uri": "https://localhost:8080/",
          "height": 206
        }
      },
      "outputs": [
        {
          "output_type": "execute_result",
          "data": {
            "text/html": [
              "\n",
              "  <div id=\"df-5b5eca0d-09de-4f01-bcaf-99641bccd1b6\">\n",
              "    <div class=\"colab-df-container\">\n",
              "      <div>\n",
              "<style scoped>\n",
              "    .dataframe tbody tr th:only-of-type {\n",
              "        vertical-align: middle;\n",
              "    }\n",
              "\n",
              "    .dataframe tbody tr th {\n",
              "        vertical-align: top;\n",
              "    }\n",
              "\n",
              "    .dataframe thead th {\n",
              "        text-align: right;\n",
              "    }\n",
              "</style>\n",
              "<table border=\"1\" class=\"dataframe\">\n",
              "  <thead>\n",
              "    <tr style=\"text-align: right;\">\n",
              "      <th></th>\n",
              "      <th>Id</th>\n",
              "      <th>rating</th>\n",
              "    </tr>\n",
              "  </thead>\n",
              "  <tbody>\n",
              "    <tr>\n",
              "      <th>0</th>\n",
              "      <td>1_2011</td>\n",
              "      <td>1.0</td>\n",
              "    </tr>\n",
              "    <tr>\n",
              "      <th>1</th>\n",
              "      <td>1_4144</td>\n",
              "      <td>1.0</td>\n",
              "    </tr>\n",
              "    <tr>\n",
              "      <th>2</th>\n",
              "      <td>1_5767</td>\n",
              "      <td>1.0</td>\n",
              "    </tr>\n",
              "    <tr>\n",
              "      <th>3</th>\n",
              "      <td>1_6711</td>\n",
              "      <td>1.0</td>\n",
              "    </tr>\n",
              "    <tr>\n",
              "      <th>4</th>\n",
              "      <td>1_7318</td>\n",
              "      <td>1.0</td>\n",
              "    </tr>\n",
              "  </tbody>\n",
              "</table>\n",
              "</div>\n",
              "      <button class=\"colab-df-convert\" onclick=\"convertToInteractive('df-5b5eca0d-09de-4f01-bcaf-99641bccd1b6')\"\n",
              "              title=\"Convert this dataframe to an interactive table.\"\n",
              "              style=\"display:none;\">\n",
              "        \n",
              "  <svg xmlns=\"http://www.w3.org/2000/svg\" height=\"24px\"viewBox=\"0 0 24 24\"\n",
              "       width=\"24px\">\n",
              "    <path d=\"M0 0h24v24H0V0z\" fill=\"none\"/>\n",
              "    <path d=\"M18.56 5.44l.94 2.06.94-2.06 2.06-.94-2.06-.94-.94-2.06-.94 2.06-2.06.94zm-11 1L8.5 8.5l.94-2.06 2.06-.94-2.06-.94L8.5 2.5l-.94 2.06-2.06.94zm10 10l.94 2.06.94-2.06 2.06-.94-2.06-.94-.94-2.06-.94 2.06-2.06.94z\"/><path d=\"M17.41 7.96l-1.37-1.37c-.4-.4-.92-.59-1.43-.59-.52 0-1.04.2-1.43.59L10.3 9.45l-7.72 7.72c-.78.78-.78 2.05 0 2.83L4 21.41c.39.39.9.59 1.41.59.51 0 1.02-.2 1.41-.59l7.78-7.78 2.81-2.81c.8-.78.8-2.07 0-2.86zM5.41 20L4 18.59l7.72-7.72 1.47 1.35L5.41 20z\"/>\n",
              "  </svg>\n",
              "      </button>\n",
              "      \n",
              "  <style>\n",
              "    .colab-df-container {\n",
              "      display:flex;\n",
              "      flex-wrap:wrap;\n",
              "      gap: 12px;\n",
              "    }\n",
              "\n",
              "    .colab-df-convert {\n",
              "      background-color: #E8F0FE;\n",
              "      border: none;\n",
              "      border-radius: 50%;\n",
              "      cursor: pointer;\n",
              "      display: none;\n",
              "      fill: #1967D2;\n",
              "      height: 32px;\n",
              "      padding: 0 0 0 0;\n",
              "      width: 32px;\n",
              "    }\n",
              "\n",
              "    .colab-df-convert:hover {\n",
              "      background-color: #E2EBFA;\n",
              "      box-shadow: 0px 1px 2px rgba(60, 64, 67, 0.3), 0px 1px 3px 1px rgba(60, 64, 67, 0.15);\n",
              "      fill: #174EA6;\n",
              "    }\n",
              "\n",
              "    [theme=dark] .colab-df-convert {\n",
              "      background-color: #3B4455;\n",
              "      fill: #D2E3FC;\n",
              "    }\n",
              "\n",
              "    [theme=dark] .colab-df-convert:hover {\n",
              "      background-color: #434B5C;\n",
              "      box-shadow: 0px 1px 3px 1px rgba(0, 0, 0, 0.15);\n",
              "      filter: drop-shadow(0px 1px 2px rgba(0, 0, 0, 0.3));\n",
              "      fill: #FFFFFF;\n",
              "    }\n",
              "  </style>\n",
              "\n",
              "      <script>\n",
              "        const buttonEl =\n",
              "          document.querySelector('#df-5b5eca0d-09de-4f01-bcaf-99641bccd1b6 button.colab-df-convert');\n",
              "        buttonEl.style.display =\n",
              "          google.colab.kernel.accessAllowed ? 'block' : 'none';\n",
              "\n",
              "        async function convertToInteractive(key) {\n",
              "          const element = document.querySelector('#df-5b5eca0d-09de-4f01-bcaf-99641bccd1b6');\n",
              "          const dataTable =\n",
              "            await google.colab.kernel.invokeFunction('convertToInteractive',\n",
              "                                                     [key], {});\n",
              "          if (!dataTable) return;\n",
              "\n",
              "          const docLinkHtml = 'Like what you see? Visit the ' +\n",
              "            '<a target=\"_blank\" href=https://colab.research.google.com/notebooks/data_table.ipynb>data table notebook</a>'\n",
              "            + ' to learn more about interactive tables.';\n",
              "          element.innerHTML = '';\n",
              "          dataTable['output_type'] = 'display_data';\n",
              "          await google.colab.output.renderOutput(dataTable, element);\n",
              "          const docLink = document.createElement('div');\n",
              "          docLink.innerHTML = docLinkHtml;\n",
              "          element.appendChild(docLink);\n",
              "        }\n",
              "      </script>\n",
              "    </div>\n",
              "  </div>\n",
              "  "
            ],
            "text/plain": [
              "       Id  rating\n",
              "0  1_2011     1.0\n",
              "1  1_4144     1.0\n",
              "2  1_5767     1.0\n",
              "3  1_6711     1.0\n",
              "4  1_7318     1.0"
            ]
          },
          "metadata": {},
          "execution_count": 17
        }
      ],
      "source": [
        "sample_submission.head()"
      ]
    },
    {
      "cell_type": "code",
      "execution_count": null,
      "metadata": {
        "execution": {
          "iopub.execute_input": "2021-07-05T12:35:05.088027Z",
          "iopub.status.busy": "2021-07-05T12:35:05.087649Z",
          "iopub.status.idle": "2021-07-05T12:35:07.714700Z",
          "shell.execute_reply": "2021-07-05T12:35:07.713374Z",
          "shell.execute_reply.started": "2021-07-05T12:35:05.087993Z"
        },
        "id": "Ju7EgAsFawjv"
      },
      "outputs": [],
      "source": [
        "# merge the train and movies datasets\n",
        "dataset=pd.merge(train,movies,on='movieId')"
      ]
    },
    {
      "cell_type": "code",
      "execution_count": null,
      "metadata": {
        "execution": {
          "iopub.execute_input": "2021-07-05T12:35:07.716633Z",
          "iopub.status.busy": "2021-07-05T12:35:07.716257Z",
          "iopub.status.idle": "2021-07-05T12:35:07.730444Z",
          "shell.execute_reply": "2021-07-05T12:35:07.729386Z",
          "shell.execute_reply.started": "2021-07-05T12:35:07.716599Z"
        },
        "id": "Pm728cEXawjw",
        "outputId": "689f697f-8ef7-49ee-be83-99c4cbeddfd1",
        "colab": {
          "base_uri": "https://localhost:8080/",
          "height": 206
        }
      },
      "outputs": [
        {
          "output_type": "execute_result",
          "data": {
            "text/html": [
              "\n",
              "  <div id=\"df-1970e155-79ae-4bad-b1d8-e8b52e7ed0c8\">\n",
              "    <div class=\"colab-df-container\">\n",
              "      <div>\n",
              "<style scoped>\n",
              "    .dataframe tbody tr th:only-of-type {\n",
              "        vertical-align: middle;\n",
              "    }\n",
              "\n",
              "    .dataframe tbody tr th {\n",
              "        vertical-align: top;\n",
              "    }\n",
              "\n",
              "    .dataframe thead th {\n",
              "        text-align: right;\n",
              "    }\n",
              "</style>\n",
              "<table border=\"1\" class=\"dataframe\">\n",
              "  <thead>\n",
              "    <tr style=\"text-align: right;\">\n",
              "      <th></th>\n",
              "      <th>userId</th>\n",
              "      <th>movieId</th>\n",
              "      <th>rating</th>\n",
              "      <th>timestamp</th>\n",
              "      <th>title</th>\n",
              "      <th>genres</th>\n",
              "    </tr>\n",
              "  </thead>\n",
              "  <tbody>\n",
              "    <tr>\n",
              "      <th>0</th>\n",
              "      <td>5163</td>\n",
              "      <td>57669</td>\n",
              "      <td>4.0</td>\n",
              "      <td>1518349992</td>\n",
              "      <td>In Bruges (2008)</td>\n",
              "      <td>Comedy|Crime|Drama|Thriller</td>\n",
              "    </tr>\n",
              "    <tr>\n",
              "      <th>1</th>\n",
              "      <td>87388</td>\n",
              "      <td>57669</td>\n",
              "      <td>3.5</td>\n",
              "      <td>1237455297</td>\n",
              "      <td>In Bruges (2008)</td>\n",
              "      <td>Comedy|Crime|Drama|Thriller</td>\n",
              "    </tr>\n",
              "    <tr>\n",
              "      <th>2</th>\n",
              "      <td>137050</td>\n",
              "      <td>57669</td>\n",
              "      <td>4.0</td>\n",
              "      <td>1425631854</td>\n",
              "      <td>In Bruges (2008)</td>\n",
              "      <td>Comedy|Crime|Drama|Thriller</td>\n",
              "    </tr>\n",
              "    <tr>\n",
              "      <th>3</th>\n",
              "      <td>120490</td>\n",
              "      <td>57669</td>\n",
              "      <td>4.5</td>\n",
              "      <td>1408228517</td>\n",
              "      <td>In Bruges (2008)</td>\n",
              "      <td>Comedy|Crime|Drama|Thriller</td>\n",
              "    </tr>\n",
              "    <tr>\n",
              "      <th>4</th>\n",
              "      <td>50616</td>\n",
              "      <td>57669</td>\n",
              "      <td>4.5</td>\n",
              "      <td>1446941640</td>\n",
              "      <td>In Bruges (2008)</td>\n",
              "      <td>Comedy|Crime|Drama|Thriller</td>\n",
              "    </tr>\n",
              "  </tbody>\n",
              "</table>\n",
              "</div>\n",
              "      <button class=\"colab-df-convert\" onclick=\"convertToInteractive('df-1970e155-79ae-4bad-b1d8-e8b52e7ed0c8')\"\n",
              "              title=\"Convert this dataframe to an interactive table.\"\n",
              "              style=\"display:none;\">\n",
              "        \n",
              "  <svg xmlns=\"http://www.w3.org/2000/svg\" height=\"24px\"viewBox=\"0 0 24 24\"\n",
              "       width=\"24px\">\n",
              "    <path d=\"M0 0h24v24H0V0z\" fill=\"none\"/>\n",
              "    <path d=\"M18.56 5.44l.94 2.06.94-2.06 2.06-.94-2.06-.94-.94-2.06-.94 2.06-2.06.94zm-11 1L8.5 8.5l.94-2.06 2.06-.94-2.06-.94L8.5 2.5l-.94 2.06-2.06.94zm10 10l.94 2.06.94-2.06 2.06-.94-2.06-.94-.94-2.06-.94 2.06-2.06.94z\"/><path d=\"M17.41 7.96l-1.37-1.37c-.4-.4-.92-.59-1.43-.59-.52 0-1.04.2-1.43.59L10.3 9.45l-7.72 7.72c-.78.78-.78 2.05 0 2.83L4 21.41c.39.39.9.59 1.41.59.51 0 1.02-.2 1.41-.59l7.78-7.78 2.81-2.81c.8-.78.8-2.07 0-2.86zM5.41 20L4 18.59l7.72-7.72 1.47 1.35L5.41 20z\"/>\n",
              "  </svg>\n",
              "      </button>\n",
              "      \n",
              "  <style>\n",
              "    .colab-df-container {\n",
              "      display:flex;\n",
              "      flex-wrap:wrap;\n",
              "      gap: 12px;\n",
              "    }\n",
              "\n",
              "    .colab-df-convert {\n",
              "      background-color: #E8F0FE;\n",
              "      border: none;\n",
              "      border-radius: 50%;\n",
              "      cursor: pointer;\n",
              "      display: none;\n",
              "      fill: #1967D2;\n",
              "      height: 32px;\n",
              "      padding: 0 0 0 0;\n",
              "      width: 32px;\n",
              "    }\n",
              "\n",
              "    .colab-df-convert:hover {\n",
              "      background-color: #E2EBFA;\n",
              "      box-shadow: 0px 1px 2px rgba(60, 64, 67, 0.3), 0px 1px 3px 1px rgba(60, 64, 67, 0.15);\n",
              "      fill: #174EA6;\n",
              "    }\n",
              "\n",
              "    [theme=dark] .colab-df-convert {\n",
              "      background-color: #3B4455;\n",
              "      fill: #D2E3FC;\n",
              "    }\n",
              "\n",
              "    [theme=dark] .colab-df-convert:hover {\n",
              "      background-color: #434B5C;\n",
              "      box-shadow: 0px 1px 3px 1px rgba(0, 0, 0, 0.15);\n",
              "      filter: drop-shadow(0px 1px 2px rgba(0, 0, 0, 0.3));\n",
              "      fill: #FFFFFF;\n",
              "    }\n",
              "  </style>\n",
              "\n",
              "      <script>\n",
              "        const buttonEl =\n",
              "          document.querySelector('#df-1970e155-79ae-4bad-b1d8-e8b52e7ed0c8 button.colab-df-convert');\n",
              "        buttonEl.style.display =\n",
              "          google.colab.kernel.accessAllowed ? 'block' : 'none';\n",
              "\n",
              "        async function convertToInteractive(key) {\n",
              "          const element = document.querySelector('#df-1970e155-79ae-4bad-b1d8-e8b52e7ed0c8');\n",
              "          const dataTable =\n",
              "            await google.colab.kernel.invokeFunction('convertToInteractive',\n",
              "                                                     [key], {});\n",
              "          if (!dataTable) return;\n",
              "\n",
              "          const docLinkHtml = 'Like what you see? Visit the ' +\n",
              "            '<a target=\"_blank\" href=https://colab.research.google.com/notebooks/data_table.ipynb>data table notebook</a>'\n",
              "            + ' to learn more about interactive tables.';\n",
              "          element.innerHTML = '';\n",
              "          dataTable['output_type'] = 'display_data';\n",
              "          await google.colab.output.renderOutput(dataTable, element);\n",
              "          const docLink = document.createElement('div');\n",
              "          docLink.innerHTML = docLinkHtml;\n",
              "          element.appendChild(docLink);\n",
              "        }\n",
              "      </script>\n",
              "    </div>\n",
              "  </div>\n",
              "  "
            ],
            "text/plain": [
              "   userId  movieId  ...             title                       genres\n",
              "0    5163    57669  ...  In Bruges (2008)  Comedy|Crime|Drama|Thriller\n",
              "1   87388    57669  ...  In Bruges (2008)  Comedy|Crime|Drama|Thriller\n",
              "2  137050    57669  ...  In Bruges (2008)  Comedy|Crime|Drama|Thriller\n",
              "3  120490    57669  ...  In Bruges (2008)  Comedy|Crime|Drama|Thriller\n",
              "4   50616    57669  ...  In Bruges (2008)  Comedy|Crime|Drama|Thriller\n",
              "\n",
              "[5 rows x 6 columns]"
            ]
          },
          "metadata": {},
          "execution_count": 19
        }
      ],
      "source": [
        "# view the first five rows of our merged dataframe\n",
        "dataset.head()"
      ]
    },
    {
      "cell_type": "code",
      "execution_count": null,
      "metadata": {
        "id": "SdIlT-pCawjx"
      },
      "outputs": [],
      "source": [
        "# merege the imdb and movies dataframes\n",
        "dataset1=pd.merge(imdb,movies,on='movieId')"
      ]
    },
    {
      "cell_type": "code",
      "execution_count": null,
      "metadata": {
        "id": "9ONy5VAR383t"
      },
      "outputs": [],
      "source": [
        "# merge the imdb and tags dataframes\n",
        "data=pd.merge(imdb,tags,on='movieId')"
      ]
    },
    {
      "cell_type": "code",
      "execution_count": null,
      "metadata": {
        "id": "jWmmU2C3383t",
        "outputId": "d1afa32c-f518-42a7-9ea5-a5b4b47dfeb7",
        "colab": {
          "base_uri": "https://localhost:8080/",
          "height": 423
        }
      },
      "outputs": [
        {
          "output_type": "execute_result",
          "data": {
            "text/html": [
              "\n",
              "  <div id=\"df-a3c702c4-ca15-4ee2-a61b-382f89877a0c\">\n",
              "    <div class=\"colab-df-container\">\n",
              "      <div>\n",
              "<style scoped>\n",
              "    .dataframe tbody tr th:only-of-type {\n",
              "        vertical-align: middle;\n",
              "    }\n",
              "\n",
              "    .dataframe tbody tr th {\n",
              "        vertical-align: top;\n",
              "    }\n",
              "\n",
              "    .dataframe thead th {\n",
              "        text-align: right;\n",
              "    }\n",
              "</style>\n",
              "<table border=\"1\" class=\"dataframe\">\n",
              "  <thead>\n",
              "    <tr style=\"text-align: right;\">\n",
              "      <th></th>\n",
              "      <th>movieId</th>\n",
              "      <th>title_cast</th>\n",
              "      <th>director</th>\n",
              "      <th>runtime</th>\n",
              "      <th>budget</th>\n",
              "      <th>plot_keywords</th>\n",
              "      <th>userId</th>\n",
              "      <th>tag</th>\n",
              "      <th>timestamp</th>\n",
              "    </tr>\n",
              "  </thead>\n",
              "  <tbody>\n",
              "    <tr>\n",
              "      <th>0</th>\n",
              "      <td>1</td>\n",
              "      <td>Tom Hanks|Tim Allen|Don Rickles|Jim Varney|Wal...</td>\n",
              "      <td>John Lasseter</td>\n",
              "      <td>81.0</td>\n",
              "      <td>$30,000,000</td>\n",
              "      <td>toy|rivalry|cowboy|cgi animation</td>\n",
              "      <td>791</td>\n",
              "      <td>Owned</td>\n",
              "      <td>1515175493</td>\n",
              "    </tr>\n",
              "    <tr>\n",
              "      <th>1</th>\n",
              "      <td>1</td>\n",
              "      <td>Tom Hanks|Tim Allen|Don Rickles|Jim Varney|Wal...</td>\n",
              "      <td>John Lasseter</td>\n",
              "      <td>81.0</td>\n",
              "      <td>$30,000,000</td>\n",
              "      <td>toy|rivalry|cowboy|cgi animation</td>\n",
              "      <td>1048</td>\n",
              "      <td>imdb top 250</td>\n",
              "      <td>1172144394</td>\n",
              "    </tr>\n",
              "    <tr>\n",
              "      <th>2</th>\n",
              "      <td>1</td>\n",
              "      <td>Tom Hanks|Tim Allen|Don Rickles|Jim Varney|Wal...</td>\n",
              "      <td>John Lasseter</td>\n",
              "      <td>81.0</td>\n",
              "      <td>$30,000,000</td>\n",
              "      <td>toy|rivalry|cowboy|cgi animation</td>\n",
              "      <td>1361</td>\n",
              "      <td>Pixar</td>\n",
              "      <td>1216146311</td>\n",
              "    </tr>\n",
              "    <tr>\n",
              "      <th>3</th>\n",
              "      <td>1</td>\n",
              "      <td>Tom Hanks|Tim Allen|Don Rickles|Jim Varney|Wal...</td>\n",
              "      <td>John Lasseter</td>\n",
              "      <td>81.0</td>\n",
              "      <td>$30,000,000</td>\n",
              "      <td>toy|rivalry|cowboy|cgi animation</td>\n",
              "      <td>3164</td>\n",
              "      <td>Pixar</td>\n",
              "      <td>1223304727</td>\n",
              "    </tr>\n",
              "    <tr>\n",
              "      <th>4</th>\n",
              "      <td>1</td>\n",
              "      <td>Tom Hanks|Tim Allen|Don Rickles|Jim Varney|Wal...</td>\n",
              "      <td>John Lasseter</td>\n",
              "      <td>81.0</td>\n",
              "      <td>$30,000,000</td>\n",
              "      <td>toy|rivalry|cowboy|cgi animation</td>\n",
              "      <td>3164</td>\n",
              "      <td>time travel</td>\n",
              "      <td>1223304729</td>\n",
              "    </tr>\n",
              "    <tr>\n",
              "      <th>...</th>\n",
              "      <td>...</td>\n",
              "      <td>...</td>\n",
              "      <td>...</td>\n",
              "      <td>...</td>\n",
              "      <td>...</td>\n",
              "      <td>...</td>\n",
              "      <td>...</td>\n",
              "      <td>...</td>\n",
              "      <td>...</td>\n",
              "    </tr>\n",
              "    <tr>\n",
              "      <th>903062</th>\n",
              "      <td>131262</td>\n",
              "      <td>Sophie Lane Curtis|Kelly Reilly|Graham Phillip...</td>\n",
              "      <td>Hilary Brougher</td>\n",
              "      <td>96.0</td>\n",
              "      <td>NaN</td>\n",
              "      <td>hex|witch|virgin|blood</td>\n",
              "      <td>6550</td>\n",
              "      <td>car accident</td>\n",
              "      <td>1527214719</td>\n",
              "    </tr>\n",
              "    <tr>\n",
              "      <th>903063</th>\n",
              "      <td>131262</td>\n",
              "      <td>Sophie Lane Curtis|Kelly Reilly|Graham Phillip...</td>\n",
              "      <td>Hilary Brougher</td>\n",
              "      <td>96.0</td>\n",
              "      <td>NaN</td>\n",
              "      <td>hex|witch|virgin|blood</td>\n",
              "      <td>6550</td>\n",
              "      <td>high school</td>\n",
              "      <td>1527214719</td>\n",
              "    </tr>\n",
              "    <tr>\n",
              "      <th>903064</th>\n",
              "      <td>131262</td>\n",
              "      <td>Sophie Lane Curtis|Kelly Reilly|Graham Phillip...</td>\n",
              "      <td>Hilary Brougher</td>\n",
              "      <td>96.0</td>\n",
              "      <td>NaN</td>\n",
              "      <td>hex|witch|virgin|blood</td>\n",
              "      <td>6550</td>\n",
              "      <td>woman director</td>\n",
              "      <td>1527214719</td>\n",
              "    </tr>\n",
              "    <tr>\n",
              "      <th>903065</th>\n",
              "      <td>131262</td>\n",
              "      <td>Sophie Lane Curtis|Kelly Reilly|Graham Phillip...</td>\n",
              "      <td>Hilary Brougher</td>\n",
              "      <td>96.0</td>\n",
              "      <td>NaN</td>\n",
              "      <td>hex|witch|virgin|blood</td>\n",
              "      <td>33844</td>\n",
              "      <td>Vampire</td>\n",
              "      <td>1436145769</td>\n",
              "    </tr>\n",
              "    <tr>\n",
              "      <th>903066</th>\n",
              "      <td>131262</td>\n",
              "      <td>Sophie Lane Curtis|Kelly Reilly|Graham Phillip...</td>\n",
              "      <td>Hilary Brougher</td>\n",
              "      <td>96.0</td>\n",
              "      <td>NaN</td>\n",
              "      <td>hex|witch|virgin|blood</td>\n",
              "      <td>33844</td>\n",
              "      <td>Virgin blood</td>\n",
              "      <td>1436146067</td>\n",
              "    </tr>\n",
              "  </tbody>\n",
              "</table>\n",
              "<p>903067 rows × 9 columns</p>\n",
              "</div>\n",
              "      <button class=\"colab-df-convert\" onclick=\"convertToInteractive('df-a3c702c4-ca15-4ee2-a61b-382f89877a0c')\"\n",
              "              title=\"Convert this dataframe to an interactive table.\"\n",
              "              style=\"display:none;\">\n",
              "        \n",
              "  <svg xmlns=\"http://www.w3.org/2000/svg\" height=\"24px\"viewBox=\"0 0 24 24\"\n",
              "       width=\"24px\">\n",
              "    <path d=\"M0 0h24v24H0V0z\" fill=\"none\"/>\n",
              "    <path d=\"M18.56 5.44l.94 2.06.94-2.06 2.06-.94-2.06-.94-.94-2.06-.94 2.06-2.06.94zm-11 1L8.5 8.5l.94-2.06 2.06-.94-2.06-.94L8.5 2.5l-.94 2.06-2.06.94zm10 10l.94 2.06.94-2.06 2.06-.94-2.06-.94-.94-2.06-.94 2.06-2.06.94z\"/><path d=\"M17.41 7.96l-1.37-1.37c-.4-.4-.92-.59-1.43-.59-.52 0-1.04.2-1.43.59L10.3 9.45l-7.72 7.72c-.78.78-.78 2.05 0 2.83L4 21.41c.39.39.9.59 1.41.59.51 0 1.02-.2 1.41-.59l7.78-7.78 2.81-2.81c.8-.78.8-2.07 0-2.86zM5.41 20L4 18.59l7.72-7.72 1.47 1.35L5.41 20z\"/>\n",
              "  </svg>\n",
              "      </button>\n",
              "      \n",
              "  <style>\n",
              "    .colab-df-container {\n",
              "      display:flex;\n",
              "      flex-wrap:wrap;\n",
              "      gap: 12px;\n",
              "    }\n",
              "\n",
              "    .colab-df-convert {\n",
              "      background-color: #E8F0FE;\n",
              "      border: none;\n",
              "      border-radius: 50%;\n",
              "      cursor: pointer;\n",
              "      display: none;\n",
              "      fill: #1967D2;\n",
              "      height: 32px;\n",
              "      padding: 0 0 0 0;\n",
              "      width: 32px;\n",
              "    }\n",
              "\n",
              "    .colab-df-convert:hover {\n",
              "      background-color: #E2EBFA;\n",
              "      box-shadow: 0px 1px 2px rgba(60, 64, 67, 0.3), 0px 1px 3px 1px rgba(60, 64, 67, 0.15);\n",
              "      fill: #174EA6;\n",
              "    }\n",
              "\n",
              "    [theme=dark] .colab-df-convert {\n",
              "      background-color: #3B4455;\n",
              "      fill: #D2E3FC;\n",
              "    }\n",
              "\n",
              "    [theme=dark] .colab-df-convert:hover {\n",
              "      background-color: #434B5C;\n",
              "      box-shadow: 0px 1px 3px 1px rgba(0, 0, 0, 0.15);\n",
              "      filter: drop-shadow(0px 1px 2px rgba(0, 0, 0, 0.3));\n",
              "      fill: #FFFFFF;\n",
              "    }\n",
              "  </style>\n",
              "\n",
              "      <script>\n",
              "        const buttonEl =\n",
              "          document.querySelector('#df-a3c702c4-ca15-4ee2-a61b-382f89877a0c button.colab-df-convert');\n",
              "        buttonEl.style.display =\n",
              "          google.colab.kernel.accessAllowed ? 'block' : 'none';\n",
              "\n",
              "        async function convertToInteractive(key) {\n",
              "          const element = document.querySelector('#df-a3c702c4-ca15-4ee2-a61b-382f89877a0c');\n",
              "          const dataTable =\n",
              "            await google.colab.kernel.invokeFunction('convertToInteractive',\n",
              "                                                     [key], {});\n",
              "          if (!dataTable) return;\n",
              "\n",
              "          const docLinkHtml = 'Like what you see? Visit the ' +\n",
              "            '<a target=\"_blank\" href=https://colab.research.google.com/notebooks/data_table.ipynb>data table notebook</a>'\n",
              "            + ' to learn more about interactive tables.';\n",
              "          element.innerHTML = '';\n",
              "          dataTable['output_type'] = 'display_data';\n",
              "          await google.colab.output.renderOutput(dataTable, element);\n",
              "          const docLink = document.createElement('div');\n",
              "          docLink.innerHTML = docLinkHtml;\n",
              "          element.appendChild(docLink);\n",
              "        }\n",
              "      </script>\n",
              "    </div>\n",
              "  </div>\n",
              "  "
            ],
            "text/plain": [
              "        movieId  ...   timestamp\n",
              "0             1  ...  1515175493\n",
              "1             1  ...  1172144394\n",
              "2             1  ...  1216146311\n",
              "3             1  ...  1223304727\n",
              "4             1  ...  1223304729\n",
              "...         ...  ...         ...\n",
              "903062   131262  ...  1527214719\n",
              "903063   131262  ...  1527214719\n",
              "903064   131262  ...  1527214719\n",
              "903065   131262  ...  1436145769\n",
              "903066   131262  ...  1436146067\n",
              "\n",
              "[903067 rows x 9 columns]"
            ]
          },
          "metadata": {},
          "execution_count": 24
        }
      ],
      "source": [
        "# have a look at the merged dataframe\n",
        "data"
      ]
    },
    {
      "cell_type": "code",
      "execution_count": null,
      "metadata": {
        "id": "WssvgQnW383t"
      },
      "outputs": [],
      "source": [
        "#with open('movie.pkl', 'wb') as handle:\n",
        "#    pickle.dump(movies, handle, protocol=pickle.HIGHEST_PROTOCOL)"
      ]
    },
    {
      "cell_type": "code",
      "execution_count": null,
      "metadata": {
        "id": "UUp9GxBAawjx",
        "outputId": "dc9c0996-45b2-416f-8fcd-f6c327cbba5c",
        "scrolled": true,
        "colab": {
          "base_uri": "https://localhost:8080/",
          "height": 337
        }
      },
      "outputs": [
        {
          "output_type": "execute_result",
          "data": {
            "text/html": [
              "\n",
              "  <div id=\"df-f7d0cd9a-6775-43dc-a403-6d55331cd076\">\n",
              "    <div class=\"colab-df-container\">\n",
              "      <div>\n",
              "<style scoped>\n",
              "    .dataframe tbody tr th:only-of-type {\n",
              "        vertical-align: middle;\n",
              "    }\n",
              "\n",
              "    .dataframe tbody tr th {\n",
              "        vertical-align: top;\n",
              "    }\n",
              "\n",
              "    .dataframe thead th {\n",
              "        text-align: right;\n",
              "    }\n",
              "</style>\n",
              "<table border=\"1\" class=\"dataframe\">\n",
              "  <thead>\n",
              "    <tr style=\"text-align: right;\">\n",
              "      <th></th>\n",
              "      <th>movieId</th>\n",
              "      <th>title_cast</th>\n",
              "      <th>director</th>\n",
              "      <th>runtime</th>\n",
              "      <th>budget</th>\n",
              "      <th>plot_keywords</th>\n",
              "      <th>title</th>\n",
              "      <th>genres</th>\n",
              "    </tr>\n",
              "  </thead>\n",
              "  <tbody>\n",
              "    <tr>\n",
              "      <th>0</th>\n",
              "      <td>1</td>\n",
              "      <td>Tom Hanks|Tim Allen|Don Rickles|Jim Varney|Wal...</td>\n",
              "      <td>John Lasseter</td>\n",
              "      <td>81.0</td>\n",
              "      <td>$30,000,000</td>\n",
              "      <td>toy|rivalry|cowboy|cgi animation</td>\n",
              "      <td>Toy Story (1995)</td>\n",
              "      <td>Adventure|Animation|Children|Comedy|Fantasy</td>\n",
              "    </tr>\n",
              "    <tr>\n",
              "      <th>1</th>\n",
              "      <td>2</td>\n",
              "      <td>Robin Williams|Jonathan Hyde|Kirsten Dunst|Bra...</td>\n",
              "      <td>Jonathan Hensleigh</td>\n",
              "      <td>104.0</td>\n",
              "      <td>$65,000,000</td>\n",
              "      <td>board game|adventurer|fight|game</td>\n",
              "      <td>Jumanji (1995)</td>\n",
              "      <td>Adventure|Children|Fantasy</td>\n",
              "    </tr>\n",
              "    <tr>\n",
              "      <th>2</th>\n",
              "      <td>3</td>\n",
              "      <td>Walter Matthau|Jack Lemmon|Sophia Loren|Ann-Ma...</td>\n",
              "      <td>Mark Steven Johnson</td>\n",
              "      <td>101.0</td>\n",
              "      <td>$25,000,000</td>\n",
              "      <td>boat|lake|neighbor|rivalry</td>\n",
              "      <td>Grumpier Old Men (1995)</td>\n",
              "      <td>Comedy|Romance</td>\n",
              "    </tr>\n",
              "    <tr>\n",
              "      <th>3</th>\n",
              "      <td>4</td>\n",
              "      <td>Whitney Houston|Angela Bassett|Loretta Devine|...</td>\n",
              "      <td>Terry McMillan</td>\n",
              "      <td>124.0</td>\n",
              "      <td>$16,000,000</td>\n",
              "      <td>black american|husband wife relationship|betra...</td>\n",
              "      <td>Waiting to Exhale (1995)</td>\n",
              "      <td>Comedy|Drama|Romance</td>\n",
              "    </tr>\n",
              "    <tr>\n",
              "      <th>4</th>\n",
              "      <td>5</td>\n",
              "      <td>Steve Martin|Diane Keaton|Martin Short|Kimberl...</td>\n",
              "      <td>Albert Hackett</td>\n",
              "      <td>106.0</td>\n",
              "      <td>$30,000,000</td>\n",
              "      <td>fatherhood|doberman|dog|mansion</td>\n",
              "      <td>Father of the Bride Part II (1995)</td>\n",
              "      <td>Comedy</td>\n",
              "    </tr>\n",
              "  </tbody>\n",
              "</table>\n",
              "</div>\n",
              "      <button class=\"colab-df-convert\" onclick=\"convertToInteractive('df-f7d0cd9a-6775-43dc-a403-6d55331cd076')\"\n",
              "              title=\"Convert this dataframe to an interactive table.\"\n",
              "              style=\"display:none;\">\n",
              "        \n",
              "  <svg xmlns=\"http://www.w3.org/2000/svg\" height=\"24px\"viewBox=\"0 0 24 24\"\n",
              "       width=\"24px\">\n",
              "    <path d=\"M0 0h24v24H0V0z\" fill=\"none\"/>\n",
              "    <path d=\"M18.56 5.44l.94 2.06.94-2.06 2.06-.94-2.06-.94-.94-2.06-.94 2.06-2.06.94zm-11 1L8.5 8.5l.94-2.06 2.06-.94-2.06-.94L8.5 2.5l-.94 2.06-2.06.94zm10 10l.94 2.06.94-2.06 2.06-.94-2.06-.94-.94-2.06-.94 2.06-2.06.94z\"/><path d=\"M17.41 7.96l-1.37-1.37c-.4-.4-.92-.59-1.43-.59-.52 0-1.04.2-1.43.59L10.3 9.45l-7.72 7.72c-.78.78-.78 2.05 0 2.83L4 21.41c.39.39.9.59 1.41.59.51 0 1.02-.2 1.41-.59l7.78-7.78 2.81-2.81c.8-.78.8-2.07 0-2.86zM5.41 20L4 18.59l7.72-7.72 1.47 1.35L5.41 20z\"/>\n",
              "  </svg>\n",
              "      </button>\n",
              "      \n",
              "  <style>\n",
              "    .colab-df-container {\n",
              "      display:flex;\n",
              "      flex-wrap:wrap;\n",
              "      gap: 12px;\n",
              "    }\n",
              "\n",
              "    .colab-df-convert {\n",
              "      background-color: #E8F0FE;\n",
              "      border: none;\n",
              "      border-radius: 50%;\n",
              "      cursor: pointer;\n",
              "      display: none;\n",
              "      fill: #1967D2;\n",
              "      height: 32px;\n",
              "      padding: 0 0 0 0;\n",
              "      width: 32px;\n",
              "    }\n",
              "\n",
              "    .colab-df-convert:hover {\n",
              "      background-color: #E2EBFA;\n",
              "      box-shadow: 0px 1px 2px rgba(60, 64, 67, 0.3), 0px 1px 3px 1px rgba(60, 64, 67, 0.15);\n",
              "      fill: #174EA6;\n",
              "    }\n",
              "\n",
              "    [theme=dark] .colab-df-convert {\n",
              "      background-color: #3B4455;\n",
              "      fill: #D2E3FC;\n",
              "    }\n",
              "\n",
              "    [theme=dark] .colab-df-convert:hover {\n",
              "      background-color: #434B5C;\n",
              "      box-shadow: 0px 1px 3px 1px rgba(0, 0, 0, 0.15);\n",
              "      filter: drop-shadow(0px 1px 2px rgba(0, 0, 0, 0.3));\n",
              "      fill: #FFFFFF;\n",
              "    }\n",
              "  </style>\n",
              "\n",
              "      <script>\n",
              "        const buttonEl =\n",
              "          document.querySelector('#df-f7d0cd9a-6775-43dc-a403-6d55331cd076 button.colab-df-convert');\n",
              "        buttonEl.style.display =\n",
              "          google.colab.kernel.accessAllowed ? 'block' : 'none';\n",
              "\n",
              "        async function convertToInteractive(key) {\n",
              "          const element = document.querySelector('#df-f7d0cd9a-6775-43dc-a403-6d55331cd076');\n",
              "          const dataTable =\n",
              "            await google.colab.kernel.invokeFunction('convertToInteractive',\n",
              "                                                     [key], {});\n",
              "          if (!dataTable) return;\n",
              "\n",
              "          const docLinkHtml = 'Like what you see? Visit the ' +\n",
              "            '<a target=\"_blank\" href=https://colab.research.google.com/notebooks/data_table.ipynb>data table notebook</a>'\n",
              "            + ' to learn more about interactive tables.';\n",
              "          element.innerHTML = '';\n",
              "          dataTable['output_type'] = 'display_data';\n",
              "          await google.colab.output.renderOutput(dataTable, element);\n",
              "          const docLink = document.createElement('div');\n",
              "          docLink.innerHTML = docLinkHtml;\n",
              "          element.appendChild(docLink);\n",
              "        }\n",
              "      </script>\n",
              "    </div>\n",
              "  </div>\n",
              "  "
            ],
            "text/plain": [
              "   movieId  ...                                       genres\n",
              "0        1  ...  Adventure|Animation|Children|Comedy|Fantasy\n",
              "1        2  ...                   Adventure|Children|Fantasy\n",
              "2        3  ...                               Comedy|Romance\n",
              "3        4  ...                         Comedy|Drama|Romance\n",
              "4        5  ...                                       Comedy\n",
              "\n",
              "[5 rows x 8 columns]"
            ]
          },
          "metadata": {},
          "execution_count": 25
        }
      ],
      "source": [
        "# first five rows of our merged dataframe (dataset1)\n",
        "dataset1.head()"
      ]
    },
    {
      "cell_type": "markdown",
      "metadata": {
        "id": "EBDWTMy8awjy"
      },
      "source": [
        "##  **3. Data Preprocessing**\n",
        "---"
      ]
    },
    {
      "cell_type": "markdown",
      "metadata": {
        "id": "Gh1KSEjFawjy"
      },
      "source": [
        "Firstly, we check if our data has any null values, missing values and blank spaces."
      ]
    },
    {
      "cell_type": "code",
      "execution_count": null,
      "metadata": {
        "id": "OdWe5rdMawjy",
        "outputId": "1b6d06dd-5596-44b7-d7ae-0aceab29f185",
        "colab": {
          "base_uri": "https://localhost:8080/"
        }
      },
      "outputs": [
        {
          "output_type": "execute_result",
          "data": {
            "text/plain": [
              "userId       0\n",
              "movieId      0\n",
              "rating       0\n",
              "timestamp    0\n",
              "dtype: int64"
            ]
          },
          "metadata": {},
          "execution_count": 26
        }
      ],
      "source": [
        "train.isnull().sum()"
      ]
    },
    {
      "cell_type": "code",
      "execution_count": null,
      "metadata": {
        "id": "9g7sCvaAawjz",
        "outputId": "beecf0e9-4ea1-4d1c-b8a7-d3e06f4e96cb",
        "colab": {
          "base_uri": "https://localhost:8080/"
        }
      },
      "outputs": [
        {
          "output_type": "execute_result",
          "data": {
            "text/plain": [
              "userId     0\n",
              "movieId    0\n",
              "dtype: int64"
            ]
          },
          "metadata": {},
          "execution_count": 47
        }
      ],
      "source": [
        "test.isnull().sum()"
      ]
    },
    {
      "cell_type": "code",
      "execution_count": null,
      "metadata": {
        "id": "X0oCvqqnawjz",
        "outputId": "7128b834-1249-4abb-9de6-2bd8c88f7144",
        "colab": {
          "base_uri": "https://localhost:8080/"
        }
      },
      "outputs": [
        {
          "output_type": "execute_result",
          "data": {
            "text/plain": [
              "movieId    0\n",
              "title      0\n",
              "genres     0\n",
              "dtype: int64"
            ]
          },
          "metadata": {},
          "execution_count": 27
        }
      ],
      "source": [
        "movies.isnull().sum()"
      ]
    },
    {
      "cell_type": "code",
      "execution_count": null,
      "metadata": {
        "id": "osUG6WSoawjz",
        "outputId": "bdd4fc8b-2815-4183-b101-e9c408b2b8b0",
        "colab": {
          "base_uri": "https://localhost:8080/"
        }
      },
      "outputs": [
        {
          "output_type": "execute_result",
          "data": {
            "text/plain": [
              "movieId              0\n",
              "title_cast       10068\n",
              "director          9874\n",
              "runtime          12089\n",
              "budget           19372\n",
              "plot_keywords    11078\n",
              "dtype: int64"
            ]
          },
          "metadata": {},
          "execution_count": 28
        }
      ],
      "source": [
        "imdb.isnull().sum()"
      ]
    },
    {
      "cell_type": "code",
      "execution_count": null,
      "metadata": {
        "id": "OTzAQgbUawj0",
        "outputId": "ed4bdae8-44c2-4955-99b8-f769bb760141",
        "colab": {
          "base_uri": "https://localhost:8080/"
        }
      },
      "outputs": [
        {
          "output_type": "execute_result",
          "data": {
            "text/plain": [
              "movieId      0\n",
              "tagId        0\n",
              "relevance    0\n",
              "dtype: int64"
            ]
          },
          "metadata": {},
          "execution_count": 29
        }
      ],
      "source": [
        "genome_scores.isnull().sum()"
      ]
    },
    {
      "cell_type": "code",
      "execution_count": null,
      "metadata": {
        "id": "ZDG7XL--awj0",
        "outputId": "bffd0a88-b221-4145-ba53-5265a60d7c68",
        "colab": {
          "base_uri": "https://localhost:8080/"
        }
      },
      "outputs": [
        {
          "output_type": "execute_result",
          "data": {
            "text/plain": [
              "tagId    0\n",
              "tag      0\n",
              "dtype: int64"
            ]
          },
          "metadata": {},
          "execution_count": 30
        }
      ],
      "source": [
        "genome_tags.isnull().sum()"
      ]
    },
    {
      "cell_type": "code",
      "execution_count": null,
      "metadata": {
        "id": "KVIbyiY5awj1",
        "outputId": "94dd222c-c13e-4c2b-8ea7-f7cfeca62430",
        "colab": {
          "base_uri": "https://localhost:8080/"
        }
      },
      "outputs": [
        {
          "output_type": "execute_result",
          "data": {
            "text/plain": [
              "userId        0\n",
              "movieId       0\n",
              "tag          16\n",
              "timestamp     0\n",
              "dtype: int64"
            ]
          },
          "metadata": {},
          "execution_count": 31
        }
      ],
      "source": [
        "tags.isnull().sum()"
      ]
    },
    {
      "cell_type": "code",
      "execution_count": null,
      "metadata": {
        "id": "1K7YN2_fawj1",
        "outputId": "ca3bd715-0f25-4ea7-871c-9428560de9ba",
        "colab": {
          "base_uri": "https://localhost:8080/"
        }
      },
      "outputs": [
        {
          "output_type": "execute_result",
          "data": {
            "text/plain": [
              "movieId      0\n",
              "imdbId       0\n",
              "tmdbId     107\n",
              "dtype: int64"
            ]
          },
          "metadata": {},
          "execution_count": 32
        }
      ],
      "source": [
        "links.isnull().sum()"
      ]
    },
    {
      "cell_type": "code",
      "source": [
        "movies.itertuples()"
      ],
      "metadata": {
        "id": "4iHeeJV4fKuU",
        "outputId": "ed4db35d-e615-4843-b2d1-c6d4d0f0fc96",
        "colab": {
          "base_uri": "https://localhost:8080/"
        }
      },
      "execution_count": null,
      "outputs": [
        {
          "output_type": "stream",
          "name": "stdout",
          "text": [
            "<map object at 0x7f7ff11a6810>\n"
          ]
        }
      ]
    },
    {
      "cell_type": "markdown",
      "metadata": {
        "id": "gI2cTZS1bipp"
      },
      "source": [
        "We observe that only three of our dataframes (imdb, tags and links) have some null values in some of their columns.\n",
        "\n",
        "Now let's see if we have any cells that are blank in our data."
      ]
    },
    {
      "cell_type": "code",
      "execution_count": null,
      "metadata": {
        "id": "sNDkMIFcawj2"
      },
      "outputs": [],
      "source": [
        "def blanks(df):\n",
        "    \"\"\"\n",
        "    This function takes in a dataframe as an input and returns the number of blank spaces in that dataframe\n",
        "    \"\"\"\n",
        "    \n",
        "    blnks = []  \n",
        "\n",
        "    for ms in df.itertuples():\n",
        "        \n",
        "        if type(ms)==str:            \n",
        "            if ms.isspace():         \n",
        "                blnks.append(ms)     \n",
        "        \n",
        "    print(len(blnks), 'blanks: ', blnks)"
      ]
    },
    {
      "cell_type": "code",
      "execution_count": null,
      "metadata": {
        "id": "9Svbb7MIawj2",
        "outputId": "eb15cc49-9b69-4ec5-dc8c-f02670d92088",
        "colab": {
          "base_uri": "https://localhost:8080/"
        }
      },
      "outputs": [
        {
          "output_type": "stream",
          "name": "stdout",
          "text": [
            "0 blanks:  []\n"
          ]
        }
      ],
      "source": [
        "blanks(train)"
      ]
    },
    {
      "cell_type": "code",
      "execution_count": null,
      "metadata": {
        "id": "JRCGJ4qdawj3",
        "outputId": "550515ad-714d-44cc-85fa-866306853dd5",
        "colab": {
          "base_uri": "https://localhost:8080/"
        }
      },
      "outputs": [
        {
          "output_type": "stream",
          "name": "stdout",
          "text": [
            "0 blanks:  []\n"
          ]
        }
      ],
      "source": [
        "blanks(test)"
      ]
    },
    {
      "cell_type": "code",
      "execution_count": null,
      "metadata": {
        "id": "GaiIh9Pyawj3",
        "outputId": "e1fabf93-52e0-472b-abb1-a5c896307b87",
        "colab": {
          "base_uri": "https://localhost:8080/"
        }
      },
      "outputs": [
        {
          "output_type": "stream",
          "name": "stdout",
          "text": [
            "0 blanks:  []\n"
          ]
        }
      ],
      "source": [
        "blanks(movies)"
      ]
    },
    {
      "cell_type": "code",
      "execution_count": null,
      "metadata": {
        "id": "rwYPAilLawj4",
        "outputId": "b8c0f8b7-8820-4fc7-a9d6-e87e1f93cb45",
        "colab": {
          "base_uri": "https://localhost:8080/"
        }
      },
      "outputs": [
        {
          "output_type": "stream",
          "name": "stdout",
          "text": [
            "0 blanks:  []\n"
          ]
        }
      ],
      "source": [
        "blanks(imdb)"
      ]
    },
    {
      "cell_type": "code",
      "source": [
        "blanks(genome_scores)"
      ],
      "metadata": {
        "id": "w2TO90jnmCwR",
        "outputId": "54b28c67-e2f5-4c3d-e1fa-b1c8b15a08e0",
        "colab": {
          "base_uri": "https://localhost:8080/"
        }
      },
      "execution_count": null,
      "outputs": [
        {
          "output_type": "stream",
          "name": "stdout",
          "text": [
            "0 blanks:  []\n"
          ]
        }
      ]
    },
    {
      "cell_type": "code",
      "source": [
        "blanks(genome_tags)"
      ],
      "metadata": {
        "id": "bvPxz9DEmC9g",
        "outputId": "4edac689-b630-4273-9513-2f73c43ec6c4",
        "colab": {
          "base_uri": "https://localhost:8080/"
        }
      },
      "execution_count": null,
      "outputs": [
        {
          "output_type": "stream",
          "name": "stdout",
          "text": [
            "0 blanks:  []\n"
          ]
        }
      ]
    },
    {
      "cell_type": "code",
      "source": [
        "blanks(tags)"
      ],
      "metadata": {
        "id": "i45-RScOmDLP",
        "outputId": "ade8cbf9-5abd-43c7-c30a-c7368da45cd5",
        "colab": {
          "base_uri": "https://localhost:8080/"
        }
      },
      "execution_count": null,
      "outputs": [
        {
          "output_type": "stream",
          "name": "stdout",
          "text": [
            "0 blanks:  []\n"
          ]
        }
      ]
    },
    {
      "cell_type": "code",
      "source": [
        "blanks(links)"
      ],
      "metadata": {
        "id": "XEZhOtEmmUVl",
        "outputId": "98fec426-5c5f-4521-addc-706792ae354f",
        "colab": {
          "base_uri": "https://localhost:8080/"
        }
      },
      "execution_count": null,
      "outputs": [
        {
          "output_type": "stream",
          "name": "stdout",
          "text": [
            "0 blanks:  []\n"
          ]
        }
      ]
    },
    {
      "cell_type": "markdown",
      "metadata": {
        "id": "iI4k9_s1mo_Q"
      },
      "source": [
        "We notice that we do not have any blanks in our data based on the above"
      ]
    },
    {
      "cell_type": "markdown",
      "metadata": {
        "id": "QgjafhVz383w"
      },
      "source": [
        "\n",
        "## **3. Exploratory Data Analysis**"
      ]
    },
    {
      "cell_type": "markdown",
      "metadata": {
        "id": "T0Mth2CZawj5"
      },
      "source": [
        "\n",
        "---\n",
        "\n",
        "Now let us begin the process of exploring our data. This process will be referred to as Exploratory Data Analysis or EDA. The reason we explore the data is to gain insight on the data and how it behaves. Exploratory data analysis (EDA) is a term for certain kinds of initial analysis and findings done with data sets, usually early on in an analytical process. Some experts describe it as “taking a peek” at the data to understand more about what it represents and how to apply it.\n",
        "\n",
        "Exploratory data analysis is an approach to analyzing data sets to summarize their main characteristics, often with visual methods, it is the critical process of performing initial investigations on data to discover patterns, to spot anomalies, to test hypothesis and to check assumptions with the help of summary statistics and graphical representations."
      ]
    },
    {
      "cell_type": "markdown",
      "metadata": {
        "id": "PjF0Pw3dpchp"
      },
      "source": [
        "Pandas dataframe.info() function is used to get a concise summary of the dataframe. It comes really handy when doing exploratory analysis of the data"
      ]
    },
    {
      "cell_type": "code",
      "source": [
        "## Creating a summary stats function\n",
        "def Summary(df):\n",
        "    return df.info()"
      ],
      "metadata": {
        "id": "BNJmqznQpBg9"
      },
      "execution_count": null,
      "outputs": []
    },
    {
      "cell_type": "code",
      "source": [
        "Summary(train)"
      ],
      "metadata": {
        "id": "m_W9Gf4Pp7cC",
        "outputId": "ce348165-5ade-4434-ad1d-622abaf2983a",
        "colab": {
          "base_uri": "https://localhost:8080/"
        }
      },
      "execution_count": null,
      "outputs": [
        {
          "output_type": "stream",
          "name": "stdout",
          "text": [
            "<class 'pandas.core.frame.DataFrame'>\n",
            "RangeIndex: 10000038 entries, 0 to 10000037\n",
            "Data columns (total 4 columns):\n",
            " #   Column     Dtype  \n",
            "---  ------     -----  \n",
            " 0   userId     int64  \n",
            " 1   movieId    int64  \n",
            " 2   rating     float64\n",
            " 3   timestamp  int64  \n",
            "dtypes: float64(1), int64(3)\n",
            "memory usage: 305.2 MB\n"
          ]
        }
      ]
    },
    {
      "cell_type": "code",
      "source": [
        "Summary(test)"
      ],
      "metadata": {
        "id": "xcVNL8i0p7eM",
        "outputId": "c5bf729d-c379-44ec-dbf2-fce872965352",
        "colab": {
          "base_uri": "https://localhost:8080/"
        }
      },
      "execution_count": null,
      "outputs": [
        {
          "output_type": "stream",
          "name": "stdout",
          "text": [
            "<class 'pandas.core.frame.DataFrame'>\n",
            "RangeIndex: 5000019 entries, 0 to 5000018\n",
            "Data columns (total 2 columns):\n",
            " #   Column   Dtype\n",
            "---  ------   -----\n",
            " 0   userId   int64\n",
            " 1   movieId  int64\n",
            "dtypes: int64(2)\n",
            "memory usage: 76.3 MB\n"
          ]
        }
      ]
    },
    {
      "cell_type": "code",
      "source": [
        "Summary(movies)"
      ],
      "metadata": {
        "id": "p4S5NSiPp7hR",
        "outputId": "bba00372-7ab8-4ea8-8ae0-2d990e381c86",
        "colab": {
          "base_uri": "https://localhost:8080/"
        }
      },
      "execution_count": null,
      "outputs": [
        {
          "output_type": "stream",
          "name": "stdout",
          "text": [
            "<class 'pandas.core.frame.DataFrame'>\n",
            "RangeIndex: 62423 entries, 0 to 62422\n",
            "Data columns (total 3 columns):\n",
            " #   Column   Non-Null Count  Dtype \n",
            "---  ------   --------------  ----- \n",
            " 0   movieId  62423 non-null  int64 \n",
            " 1   title    62423 non-null  object\n",
            " 2   genres   62423 non-null  object\n",
            "dtypes: int64(1), object(2)\n",
            "memory usage: 1.4+ MB\n"
          ]
        }
      ]
    },
    {
      "cell_type": "code",
      "source": [
        "Summary(imdb)"
      ],
      "metadata": {
        "id": "v669dJTvqMgf",
        "outputId": "d7e10aa6-c577-48e7-cd71-385e58557da4",
        "colab": {
          "base_uri": "https://localhost:8080/"
        }
      },
      "execution_count": null,
      "outputs": [
        {
          "output_type": "stream",
          "name": "stdout",
          "text": [
            "<class 'pandas.core.frame.DataFrame'>\n",
            "RangeIndex: 27278 entries, 0 to 27277\n",
            "Data columns (total 6 columns):\n",
            " #   Column         Non-Null Count  Dtype  \n",
            "---  ------         --------------  -----  \n",
            " 0   movieId        27278 non-null  int64  \n",
            " 1   title_cast     17210 non-null  object \n",
            " 2   director       17404 non-null  object \n",
            " 3   runtime        15189 non-null  float64\n",
            " 4   budget         7906 non-null   object \n",
            " 5   plot_keywords  16200 non-null  object \n",
            "dtypes: float64(1), int64(1), object(4)\n",
            "memory usage: 1.2+ MB\n"
          ]
        }
      ]
    },
    {
      "cell_type": "code",
      "source": [
        "Summary(genome_scores)"
      ],
      "metadata": {
        "id": "RGXWknqGqMiQ",
        "outputId": "f2db27cd-f40f-407a-ce25-9df6a1e46514",
        "colab": {
          "base_uri": "https://localhost:8080/"
        }
      },
      "execution_count": null,
      "outputs": [
        {
          "output_type": "stream",
          "name": "stdout",
          "text": [
            "<class 'pandas.core.frame.DataFrame'>\n",
            "RangeIndex: 15584448 entries, 0 to 15584447\n",
            "Data columns (total 3 columns):\n",
            " #   Column     Dtype  \n",
            "---  ------     -----  \n",
            " 0   movieId    int64  \n",
            " 1   tagId      int64  \n",
            " 2   relevance  float64\n",
            "dtypes: float64(1), int64(2)\n",
            "memory usage: 356.7 MB\n"
          ]
        }
      ]
    },
    {
      "cell_type": "code",
      "source": [
        "Summary(genome_tags)"
      ],
      "metadata": {
        "id": "9brh2s5cqMlY",
        "outputId": "5d55a306-aaad-44da-f700-8f06b8f0930c",
        "colab": {
          "base_uri": "https://localhost:8080/"
        }
      },
      "execution_count": null,
      "outputs": [
        {
          "output_type": "stream",
          "name": "stdout",
          "text": [
            "<class 'pandas.core.frame.DataFrame'>\n",
            "RangeIndex: 1128 entries, 0 to 1127\n",
            "Data columns (total 2 columns):\n",
            " #   Column  Non-Null Count  Dtype \n",
            "---  ------  --------------  ----- \n",
            " 0   tagId   1128 non-null   int64 \n",
            " 1   tag     1128 non-null   object\n",
            "dtypes: int64(1), object(1)\n",
            "memory usage: 17.8+ KB\n"
          ]
        }
      ]
    },
    {
      "cell_type": "code",
      "source": [
        "Summary(links)"
      ],
      "metadata": {
        "id": "w9JWA1q8qMnR",
        "outputId": "5ead3c2c-93c4-4ccf-d8be-1a35069dbee0",
        "colab": {
          "base_uri": "https://localhost:8080/"
        }
      },
      "execution_count": null,
      "outputs": [
        {
          "output_type": "stream",
          "name": "stdout",
          "text": [
            "<class 'pandas.core.frame.DataFrame'>\n",
            "RangeIndex: 62423 entries, 0 to 62422\n",
            "Data columns (total 3 columns):\n",
            " #   Column   Non-Null Count  Dtype  \n",
            "---  ------   --------------  -----  \n",
            " 0   movieId  62423 non-null  int64  \n",
            " 1   imdbId   62423 non-null  int64  \n",
            " 2   tmdbId   62316 non-null  float64\n",
            "dtypes: float64(1), int64(2)\n",
            "memory usage: 1.4 MB\n"
          ]
        }
      ]
    },
    {
      "cell_type": "code",
      "source": [
        "Summary(tags)"
      ],
      "metadata": {
        "id": "vXGxL4tAqkRJ",
        "outputId": "c1877660-335c-448a-e883-4a2f7ebbf5f7",
        "colab": {
          "base_uri": "https://localhost:8080/"
        }
      },
      "execution_count": null,
      "outputs": [
        {
          "output_type": "stream",
          "name": "stdout",
          "text": [
            "<class 'pandas.core.frame.DataFrame'>\n",
            "RangeIndex: 1093360 entries, 0 to 1093359\n",
            "Data columns (total 4 columns):\n",
            " #   Column     Non-Null Count    Dtype \n",
            "---  ------     --------------    ----- \n",
            " 0   userId     1093360 non-null  int64 \n",
            " 1   movieId    1093360 non-null  int64 \n",
            " 2   tag        1093344 non-null  object\n",
            " 3   timestamp  1093360 non-null  int64 \n",
            "dtypes: int64(3), object(1)\n",
            "memory usage: 33.4+ MB\n"
          ]
        }
      ]
    },
    {
      "cell_type": "markdown",
      "metadata": {
        "id": "0ujOpcs2q729"
      },
      "source": [
        "Most of the DataFrames have a Dtype of int64 and float64, which is an indication for numeric values. However, some DataFrames also have Dtype of an object, which is an indication of non-numeric character. The DataFrames which have a Dtype object include tags; movies; imdb; and genome_df's."
      ]
    },
    {
      "cell_type": "markdown",
      "metadata": {
        "id": "D9yU0Lt0awj6"
      },
      "source": [
        "### Most common genres"
      ]
    },
    {
      "cell_type": "code",
      "execution_count": null,
      "metadata": {
        "id": "4podU0kzawj6",
        "outputId": "21e61fde-8533-426d-fa82-8dc96ecd8ae5",
        "colab": {
          "base_uri": "https://localhost:8080/",
          "height": 206
        }
      },
      "outputs": [
        {
          "output_type": "execute_result",
          "data": {
            "text/html": [
              "\n",
              "  <div id=\"df-c1a713ed-f4d2-48a1-913a-d8378631f790\">\n",
              "    <div class=\"colab-df-container\">\n",
              "      <div>\n",
              "<style scoped>\n",
              "    .dataframe tbody tr th:only-of-type {\n",
              "        vertical-align: middle;\n",
              "    }\n",
              "\n",
              "    .dataframe tbody tr th {\n",
              "        vertical-align: top;\n",
              "    }\n",
              "\n",
              "    .dataframe thead th {\n",
              "        text-align: right;\n",
              "    }\n",
              "</style>\n",
              "<table border=\"1\" class=\"dataframe\">\n",
              "  <thead>\n",
              "    <tr style=\"text-align: right;\">\n",
              "      <th></th>\n",
              "      <th>movieId</th>\n",
              "      <th>genres</th>\n",
              "    </tr>\n",
              "  </thead>\n",
              "  <tbody>\n",
              "    <tr>\n",
              "      <th>0</th>\n",
              "      <td>1</td>\n",
              "      <td>Adventure</td>\n",
              "    </tr>\n",
              "    <tr>\n",
              "      <th>1</th>\n",
              "      <td>1</td>\n",
              "      <td>Animation</td>\n",
              "    </tr>\n",
              "    <tr>\n",
              "      <th>2</th>\n",
              "      <td>1</td>\n",
              "      <td>Children</td>\n",
              "    </tr>\n",
              "    <tr>\n",
              "      <th>3</th>\n",
              "      <td>1</td>\n",
              "      <td>Comedy</td>\n",
              "    </tr>\n",
              "    <tr>\n",
              "      <th>4</th>\n",
              "      <td>1</td>\n",
              "      <td>Fantasy</td>\n",
              "    </tr>\n",
              "  </tbody>\n",
              "</table>\n",
              "</div>\n",
              "      <button class=\"colab-df-convert\" onclick=\"convertToInteractive('df-c1a713ed-f4d2-48a1-913a-d8378631f790')\"\n",
              "              title=\"Convert this dataframe to an interactive table.\"\n",
              "              style=\"display:none;\">\n",
              "        \n",
              "  <svg xmlns=\"http://www.w3.org/2000/svg\" height=\"24px\"viewBox=\"0 0 24 24\"\n",
              "       width=\"24px\">\n",
              "    <path d=\"M0 0h24v24H0V0z\" fill=\"none\"/>\n",
              "    <path d=\"M18.56 5.44l.94 2.06.94-2.06 2.06-.94-2.06-.94-.94-2.06-.94 2.06-2.06.94zm-11 1L8.5 8.5l.94-2.06 2.06-.94-2.06-.94L8.5 2.5l-.94 2.06-2.06.94zm10 10l.94 2.06.94-2.06 2.06-.94-2.06-.94-.94-2.06-.94 2.06-2.06.94z\"/><path d=\"M17.41 7.96l-1.37-1.37c-.4-.4-.92-.59-1.43-.59-.52 0-1.04.2-1.43.59L10.3 9.45l-7.72 7.72c-.78.78-.78 2.05 0 2.83L4 21.41c.39.39.9.59 1.41.59.51 0 1.02-.2 1.41-.59l7.78-7.78 2.81-2.81c.8-.78.8-2.07 0-2.86zM5.41 20L4 18.59l7.72-7.72 1.47 1.35L5.41 20z\"/>\n",
              "  </svg>\n",
              "      </button>\n",
              "      \n",
              "  <style>\n",
              "    .colab-df-container {\n",
              "      display:flex;\n",
              "      flex-wrap:wrap;\n",
              "      gap: 12px;\n",
              "    }\n",
              "\n",
              "    .colab-df-convert {\n",
              "      background-color: #E8F0FE;\n",
              "      border: none;\n",
              "      border-radius: 50%;\n",
              "      cursor: pointer;\n",
              "      display: none;\n",
              "      fill: #1967D2;\n",
              "      height: 32px;\n",
              "      padding: 0 0 0 0;\n",
              "      width: 32px;\n",
              "    }\n",
              "\n",
              "    .colab-df-convert:hover {\n",
              "      background-color: #E2EBFA;\n",
              "      box-shadow: 0px 1px 2px rgba(60, 64, 67, 0.3), 0px 1px 3px 1px rgba(60, 64, 67, 0.15);\n",
              "      fill: #174EA6;\n",
              "    }\n",
              "\n",
              "    [theme=dark] .colab-df-convert {\n",
              "      background-color: #3B4455;\n",
              "      fill: #D2E3FC;\n",
              "    }\n",
              "\n",
              "    [theme=dark] .colab-df-convert:hover {\n",
              "      background-color: #434B5C;\n",
              "      box-shadow: 0px 1px 3px 1px rgba(0, 0, 0, 0.15);\n",
              "      filter: drop-shadow(0px 1px 2px rgba(0, 0, 0, 0.3));\n",
              "      fill: #FFFFFF;\n",
              "    }\n",
              "  </style>\n",
              "\n",
              "      <script>\n",
              "        const buttonEl =\n",
              "          document.querySelector('#df-c1a713ed-f4d2-48a1-913a-d8378631f790 button.colab-df-convert');\n",
              "        buttonEl.style.display =\n",
              "          google.colab.kernel.accessAllowed ? 'block' : 'none';\n",
              "\n",
              "        async function convertToInteractive(key) {\n",
              "          const element = document.querySelector('#df-c1a713ed-f4d2-48a1-913a-d8378631f790');\n",
              "          const dataTable =\n",
              "            await google.colab.kernel.invokeFunction('convertToInteractive',\n",
              "                                                     [key], {});\n",
              "          if (!dataTable) return;\n",
              "\n",
              "          const docLinkHtml = 'Like what you see? Visit the ' +\n",
              "            '<a target=\"_blank\" href=https://colab.research.google.com/notebooks/data_table.ipynb>data table notebook</a>'\n",
              "            + ' to learn more about interactive tables.';\n",
              "          element.innerHTML = '';\n",
              "          dataTable['output_type'] = 'display_data';\n",
              "          await google.colab.output.renderOutput(dataTable, element);\n",
              "          const docLink = document.createElement('div');\n",
              "          docLink.innerHTML = docLinkHtml;\n",
              "          element.appendChild(docLink);\n",
              "        }\n",
              "      </script>\n",
              "    </div>\n",
              "  </div>\n",
              "  "
            ],
            "text/plain": [
              "   movieId     genres\n",
              "0        1  Adventure\n",
              "1        1  Animation\n",
              "2        1   Children\n",
              "3        1     Comedy\n",
              "4        1    Fantasy"
            ]
          },
          "metadata": {},
          "execution_count": 48
        }
      ],
      "source": [
        "# Create dataframe containing only the movieId and genres\n",
        "movies_genres = pd.DataFrame(movies[['movieId', 'genres']],\n",
        "                             columns=['movieId', 'genres'])\n",
        "\n",
        "# Split genres seperated by \"|\" and create a list containing the genres allocated to each movie\n",
        "movies_genres.genres = movies_genres.genres.apply(lambda x: x.split('|'))\n",
        "\n",
        "# Create expanded dataframe where each movie-genre combination is in a seperate row\n",
        "movies_genres = pd.DataFrame([(tup.movieId, d) for tup in movies_genres.itertuples() for d in tup.genres],\n",
        "                             columns=['movieId', 'genres'])\n",
        "\n",
        "movies_genres.head()"
      ]
    },
    {
      "cell_type": "code",
      "execution_count": null,
      "metadata": {
        "id": "xtA5zGJFawj7",
        "outputId": "4cd037aa-fa50-444e-8a75-b3e9d71d4ac7",
        "colab": {
          "base_uri": "https://localhost:8080/",
          "height": 648
        }
      },
      "outputs": [
        {
          "output_type": "display_data",
          "data": {
            "image/png": "[encoded data removed]",
            "text/plain": [
              "<Figure size 1080x720 with 1 Axes>"
            ]
          },
          "metadata": {
            "needs_background": "light"
          }
        }
      ],
      "source": [
        "# Plot the genres from most common to least common\n",
        "plot = plt.figure(figsize=(15, 10))\n",
        "plt.title('Most common genres\\n', fontsize=20)\n",
        "sns.countplot(y=\"genres\", data=movies_genres,\n",
        "              order=movies_genres['genres'].value_counts(ascending=False).index,\n",
        "              palette='Reds_r')\n",
        "plt.show()"
      ]
    },
    {
      "cell_type": "markdown",
      "metadata": {
        "id": "KX3Hnor6awj7"
      },
      "source": [
        "##### Observation:\n",
        "The graph above shows that the most common genres are drama, comedy, thriller, etc. People love drama movies more than any other genre therefore more of those should always form part of a user's recommendation. Children and animation genres are equally common and this could be attributed to the fact that most children's movies are animated."
      ]
    },
    {
      "cell_type": "markdown",
      "metadata": {
        "id": "ETh_vJxRawj7"
      },
      "source": [
        "### Ratings per user"
      ]
    },
    {
      "cell_type": "code",
      "execution_count": null,
      "metadata": {
        "execution": {
          "iopub.execute_input": "2021-07-05T12:35:20.038670Z",
          "iopub.status.busy": "2021-07-05T12:35:20.038250Z",
          "iopub.status.idle": "2021-07-05T12:35:20.290415Z",
          "shell.execute_reply": "2021-07-05T12:35:20.289140Z",
          "shell.execute_reply.started": "2021-07-05T12:35:20.038626Z"
        },
        "id": "WmsqF3T2awj7"
      },
      "outputs": [],
      "source": [
        "train1 = train.copy()\n",
        "train1.drop('timestamp', axis = 1, inplace = True)"
      ]
    },
    {
      "cell_type": "code",
      "execution_count": null,
      "metadata": {
        "id": "dOVFcN1S383z",
        "outputId": "6037d033-f9ef-4e6f-d7c5-5aa51db3e4e8",
        "colab": {
          "base_uri": "https://localhost:8080/",
          "height": 440
        }
      },
      "outputs": [
        {
          "output_type": "stream",
          "name": "stdout",
          "text": [
            "Combined number of ratings:\t 34398 \n",
            "Total number of movies:\t\t 48213\n"
          ]
        },
        {
          "output_type": "display_data",
          "data": {
            "image/png": "[encoded data removed]",
            "text/plain": [
              "<Figure size 576x432 with 1 Axes>"
            ]
          },
          "metadata": {
            "needs_background": "light"
          }
        }
      ],
      "source": [
        "def user_ratings_count(df, n):\n",
        "    \"\"\"\n",
        "    Counts the number of user ratings.\n",
        "    Parameters\n",
        "    ----------\n",
        "        df (DataFrame): input DataFrame\n",
        "        n (int): number of users to show\n",
        "    Returns\n",
        "    -------\n",
        "        barplot (NoneType): barplot of top n users by number of observations\n",
        "    Example\n",
        "    -------\n",
        "        >>> df = pd.DataFrame({'userId':[1,2,3,1,2,4,5,4]})\n",
        "        >>> user_ratings_count(df, 3)\n",
        "            NoneType (barplot)\n",
        "    \"\"\"\n",
        "    plt.figure(figsize=(8,6))\n",
        "    data = df['userId'].value_counts().head(n)\n",
        "    ax = sns.barplot(x = data.index, y = data, order= data.index, color='blue', edgecolor=\"black\")\n",
        "    for p in ax.patches:\n",
        "        ax.text(p.get_x() + p.get_width()/2., p.get_height(), '%d' % int(p.get_height()), fontsize=11, ha='center', va='bottom')\n",
        "    plt.title(f'Top {n} Users by Number of Ratings', fontsize=14)\n",
        "    plt.xlabel('User ID')\n",
        "    plt.ylabel('Number of Ratings')\n",
        "    print(\"Combined number of ratings:\\t\",df['userId'].value_counts().head(n).sum(),\n",
        "         \"\\nTotal number of movies:\\t\\t\", df['movieId'].nunique())\n",
        "    plt.show()\n",
        "    \n",
        "user_ratings_count(train1,8)"
      ]
    },
    {
      "cell_type": "markdown",
      "metadata": {
        "id": "nCziXrPYawj9"
      },
      "source": [
        "##### Observation: \n",
        "The bar graph above shows the number of times users have made ratings. About 20 000 users have only rated movies less than \n",
        "10 times while more than 100 000 have rated more than 10 times. There are super rators, such as userID 72315 that have made more than 10 000 ratings.\n",
        "Insight drawn from this graph is that a lot of people do rate movies therefore a recommender system is worth the investment. "
      ]
    },
    {
      "cell_type": "markdown",
      "metadata": {
        "id": "BfsuHlSbawj9"
      },
      "source": [
        "### Distribution of ratings"
      ]
    },
    {
      "cell_type": "code",
      "execution_count": null,
      "metadata": {
        "id": "dlv4Sj4w3830",
        "outputId": "b2352ac0-daee-4246-a70b-130443d5da31",
        "colab": {
          "base_uri": "https://localhost:8080/",
          "height": 405
        }
      },
      "outputs": [
        {
          "output_type": "display_data",
          "data": {
            "image/png": "[encoded data removed]",
            "text/plain": [
              "<Figure size 720x432 with 1 Axes>"
            ]
          },
          "metadata": {
            "needs_background": "light"
          }
        }
      ],
      "source": [
        "movieRatingDistGroup = train1['rating'].value_counts().sort_index().reset_index()\n",
        "fig, ax = plt.subplots(figsize=(10,6))\n",
        "sns.barplot(data=movieRatingDistGroup, x='index', y='rating', color=\"red\", edgecolor=\"black\", ax=ax)\n",
        "ax.set_xlabel(\"Rating\")\n",
        "ax.set_ylabel('Number of Users')\n",
        "ax.set_yticklabels(['{:,}'.format(int(x)) for x in ax.get_yticks().tolist()])\n",
        "total = float(movieRatingDistGroup['rating'].sum())\n",
        "for p in ax.patches:\n",
        "    height = p.get_height()\n",
        "    ax.text(p.get_x()+p.get_width()/2., height+350, '{0:.2%}'.format(height/total), fontsize=11, ha=\"center\", va='bottom')\n",
        "plt.title('Number of Users Per Rating', fontsize=14)\n",
        "plt.show()"
      ]
    },
    {
      "cell_type": "markdown",
      "metadata": {
        "id": "BSidDEwxawj-"
      },
      "source": [
        "##### Observation:\n",
        "The train distribution shows that there are relatively fewer movies that are lower rated. This can be because most of the users who didn't like the movie, didn't care enough to rate the movie. You should note this, it can be useful later. As you wouldn't want to recommend movies with relatively low number of ratings as users probably didn't like them.\n",
        "\n",
        "4 Star ratings make up the largest portion of ratings in the MovieLens dataset, accounting for 26.5% of the overall ratings.\n",
        "5 star ratings make up 14.5% of the overall ratings (3rd largest portion).\n",
        "0.5 star ratings account for the smallest portion of the ratings at a mere 1.6%.\n",
        "Ratings between 2 and 0.5 stars account for 12.9%"
      ]
    },
    {
      "cell_type": "markdown",
      "metadata": {
        "id": "yqnWs5OYiV6s"
      },
      "source": [
        "## Popular genre\n",
        "\n"
      ]
    },
    {
      "cell_type": "code",
      "execution_count": null,
      "metadata": {
        "id": "D4Dc8LKT3832",
        "outputId": "b3714e83-4327-41fa-fffa-c29fb82bb3d3",
        "colab": {
          "base_uri": "https://localhost:8080/",
          "height": 445
        }
      },
      "outputs": [
        {
          "output_type": "execute_result",
          "data": {
            "text/plain": [
              "<BarContainer object of 19 artists>"
            ]
          },
          "metadata": {},
          "execution_count": 64
        },
        {
          "output_type": "display_data",
          "data": {
            "image/png": "[encoded data removed]",
            "text/plain": [
              "<Figure size 1800x504 with 1 Axes>"
            ]
          },
          "metadata": {
            "needs_background": "light"
          }
        }
      ],
      "source": [
        "plt.figure(figsize=(25,7))\n",
        "generlist = movies['genres'].apply(lambda generlist_movie : str(generlist_movie).split(\"|\"))\n",
        "geners_count = {}\n",
        "\n",
        "for generlist_movie in generlist:\n",
        "    for gener in generlist_movie:\n",
        "        if(geners_count.get(gener,False)):\n",
        "            geners_count[gener]=geners_count[gener]+1\n",
        "        else:\n",
        "            geners_count[gener] = 1       \n",
        "geners_count.pop(\"(no genres listed)\")\n",
        "plt.bar(geners_count.keys(),geners_count.values(),color='red')"
      ]
    },
    {
      "cell_type": "code",
      "execution_count": null,
      "metadata": {
        "id": "rz4VvQ4s3832",
        "outputId": "b99afaaf-4971-4711-ae23-d3f8f5f35795",
        "colab": {
          "base_uri": "https://localhost:8080/",
          "height": 396
        }
      },
      "outputs": [
        {
          "output_type": "display_data",
          "data": {
            "image/png": "[encoded data removed]",
            "text/plain": [
              "<Figure size 720x1080 with 1 Axes>"
            ]
          },
          "metadata": {
            "needs_background": "light"
          }
        }
      ],
      "source": [
        "import wordcloud\n",
        "all_words=''.join([label for label in movies['genres']])\n",
        "\n",
        "from wordcloud import WordCloud\n",
        "wordcloud = WordCloud(width=800, height=500, random_state=21, max_font_size=110, max_words=50).generate(all_words)\n",
        "plt.figure(figsize=(10,15))\n",
        "plt.imshow(wordcloud, interpolation='bilinear')\n",
        "plt.axis('off')\n",
        "plt.title('Popular movie genres')\n",
        "\n",
        "plt.show()"
      ]
    },
    {
      "cell_type": "markdown",
      "metadata": {
        "id": "TV_5p8bXawkA"
      },
      "source": [
        "### Most appearing director"
      ]
    },
    {
      "cell_type": "code",
      "execution_count": null,
      "metadata": {
        "id": "kruDFsT63833"
      },
      "outputs": [],
      "source": [
        "def feature_count(df, column):\n",
        "    plt.figure(figsize=(10,6))\n",
        "    ax = sns.barplot(y = df[f'{column}'], x = df['count'], color='orange', orient='h')\n",
        "    plt.title(f'Number of Movies Per {column}', fontsize=14)\n",
        "    plt.ylabel(f'{column}')\n",
        "    plt.xlabel('Count')\n",
        "    plt.show()"
      ]
    },
    {
      "cell_type": "code",
      "execution_count": null,
      "metadata": {
        "id": "Jd6KjDi13833"
      },
      "outputs": [],
      "source": [
        "def count_directors(df, count = 10):\n",
        "    \"\"\"\n",
        "    Function to count the most common dircetors in a DataFrame:\n",
        "    Parameters\n",
        "    ----------\n",
        "        df (DataFrame): input dataframe containing imdb metadata\n",
        "        count (int): filter directors with fewer than count films\n",
        "        \n",
        "    Returns\n",
        "    -------\n",
        "        directors (DataFrame): output DataFrame\n",
        "    Examples\n",
        "    --------\n",
        "        >>> df = pd.DataFrame({'imdbid':[0,1,2,3,4,5], 'director': [A,B,A,C,B]})\n",
        "        >>> count_directors(df, count = 1)\n",
        "            |index|director|count|\n",
        "            |0|A|2|\n",
        "            |1|B|2|\n",
        "            |2|C|1|\n",
        "    \"\"\"\n",
        "    directors = pd.DataFrame(df['director'].value_counts()).reset_index()\n",
        "    directors.columns = ['director', 'count']\n",
        "    # Lets only take directors who have made 10 or more movies otherwise we will have to analyze 11000 directors\n",
        "    directors = directors[directors['count']>=count]\n",
        "    return directors.sort_values('count', ascending = False)\n",
        "directors = count_directors(imdb)"
      ]
    },
    {
      "cell_type": "code",
      "execution_count": null,
      "metadata": {
        "id": "GLYieEmy3833",
        "outputId": "4b64b54c-b12e-4b5c-ae6c-ff404978405c",
        "colab": {
          "base_uri": "https://localhost:8080/",
          "height": 405
        }
      },
      "outputs": [
        {
          "output_type": "display_data",
          "data": {
            "image/png": "[encoded data removed]",
            "text/plain": [
              "<Figure size 720x432 with 1 Axes>"
            ]
          },
          "metadata": {
            "needs_background": "light"
          }
        }
      ],
      "source": [
        "feature_count(directors.head(10), 'director')"
      ]
    },
    {
      "cell_type": "markdown",
      "metadata": {
        "id": "Mzlos_bxawkD"
      },
      "source": [
        "##### Observation:\n",
        "From above we can see that some directors have directed movies a lot more than others. We have Luc Besson with the most directs at 26 movies and some directors at only 12 movies. The number of times directors have worked on a movie helps better understand their directing style and how they are likely to be rated. With this information, we should be able to make better recommendations based on the popularity of the director and their track record."
      ]
    },
    {
      "cell_type": "code",
      "execution_count": null,
      "metadata": {
        "id": "xiyFnTly3834"
      },
      "outputs": [],
      "source": [
        ""
      ]
    },
    {
      "cell_type": "markdown",
      "metadata": {
        "id": "MeT00650awkE"
      },
      "source": [
        "### Total movies released per year"
      ]
    },
    {
      "cell_type": "code",
      "execution_count": null,
      "metadata": {
        "id": "LsJICHwP3834",
        "outputId": "803dbe96-1d7f-4788-da66-e764d70968f0",
        "colab": {
          "base_uri": "https://localhost:8080/",
          "height": 371
        }
      },
      "outputs": [
        {
          "output_type": "display_data",
          "data": {
            "image/png": "[encoded data removed]",
            "text/plain": [
              "<Figure size 1080x360 with 1 Axes>"
            ]
          },
          "metadata": {
            "needs_background": "light"
          }
        }
      ],
      "source": [
        "#Plotting total amount of movies released in each year using a count plot.\n",
        "figure= plt.subplots(figsize=(15, 5))\n",
        "movies['release_year']=movies['title'].str[-5:-1] \n",
        "axes=sns.countplot(x=movies['release_year'], order = movies['release_year'].value_counts()[0:50].index,color='blue')\n",
        "axes.set_title('Total movies released per year',fontsize=19)\n",
        "plt.xticks(rotation=90)\n",
        "plt.show()"
      ]
    },
    {
      "cell_type": "code",
      "execution_count": null,
      "metadata": {
        "id": "oKC7AilhawkE",
        "outputId": "39b73a6a-bf93-472c-bb09-aa2ca267b4ff",
        "colab": {
          "base_uri": "https://localhost:8080/",
          "height": 206
        }
      },
      "outputs": [
        {
          "output_type": "execute_result",
          "data": {
            "text/html": [
              "\n",
              "  <div id=\"df-769eeddf-5593-4a4c-af70-4218d9655699\">\n",
              "    <div class=\"colab-df-container\">\n",
              "      <div>\n",
              "<style scoped>\n",
              "    .dataframe tbody tr th:only-of-type {\n",
              "        vertical-align: middle;\n",
              "    }\n",
              "\n",
              "    .dataframe tbody tr th {\n",
              "        vertical-align: top;\n",
              "    }\n",
              "\n",
              "    .dataframe thead th {\n",
              "        text-align: right;\n",
              "    }\n",
              "</style>\n",
              "<table border=\"1\" class=\"dataframe\">\n",
              "  <thead>\n",
              "    <tr style=\"text-align: right;\">\n",
              "      <th></th>\n",
              "      <th>movieId</th>\n",
              "      <th>title_cast</th>\n",
              "      <th>director</th>\n",
              "      <th>runtime</th>\n",
              "      <th>budget</th>\n",
              "      <th>plot_keywords</th>\n",
              "    </tr>\n",
              "  </thead>\n",
              "  <tbody>\n",
              "    <tr>\n",
              "      <th>0</th>\n",
              "      <td>1</td>\n",
              "      <td>[Tom Hanks, Tim Allen, Don Rickles, Jim Varney...</td>\n",
              "      <td>John Lasseter</td>\n",
              "      <td>81.0</td>\n",
              "      <td>$30,000,000</td>\n",
              "      <td>[toy, rivalry, cowboy, cgi animation]</td>\n",
              "    </tr>\n",
              "    <tr>\n",
              "      <th>1</th>\n",
              "      <td>2</td>\n",
              "      <td>[Robin Williams, Jonathan Hyde, Kirsten Dunst,...</td>\n",
              "      <td>Jonathan Hensleigh</td>\n",
              "      <td>104.0</td>\n",
              "      <td>$65,000,000</td>\n",
              "      <td>[board game, adventurer, fight, game]</td>\n",
              "    </tr>\n",
              "    <tr>\n",
              "      <th>2</th>\n",
              "      <td>3</td>\n",
              "      <td>[Walter Matthau, Jack Lemmon, Sophia Loren, An...</td>\n",
              "      <td>Mark Steven Johnson</td>\n",
              "      <td>101.0</td>\n",
              "      <td>$25,000,000</td>\n",
              "      <td>[boat, lake, neighbor, rivalry]</td>\n",
              "    </tr>\n",
              "    <tr>\n",
              "      <th>3</th>\n",
              "      <td>4</td>\n",
              "      <td>[Whitney Houston, Angela Bassett, Loretta Devi...</td>\n",
              "      <td>Terry McMillan</td>\n",
              "      <td>124.0</td>\n",
              "      <td>$16,000,000</td>\n",
              "      <td>[black american, husband wife relationship, be...</td>\n",
              "    </tr>\n",
              "    <tr>\n",
              "      <th>4</th>\n",
              "      <td>5</td>\n",
              "      <td>[Steve Martin, Diane Keaton, Martin Short, Kim...</td>\n",
              "      <td>Albert Hackett</td>\n",
              "      <td>106.0</td>\n",
              "      <td>$30,000,000</td>\n",
              "      <td>[fatherhood, doberman, dog, mansion]</td>\n",
              "    </tr>\n",
              "  </tbody>\n",
              "</table>\n",
              "</div>\n",
              "      <button class=\"colab-df-convert\" onclick=\"convertToInteractive('df-769eeddf-5593-4a4c-af70-4218d9655699')\"\n",
              "              title=\"Convert this dataframe to an interactive table.\"\n",
              "              style=\"display:none;\">\n",
              "        \n",
              "  <svg xmlns=\"http://www.w3.org/2000/svg\" height=\"24px\"viewBox=\"0 0 24 24\"\n",
              "       width=\"24px\">\n",
              "    <path d=\"M0 0h24v24H0V0z\" fill=\"none\"/>\n",
              "    <path d=\"M18.56 5.44l.94 2.06.94-2.06 2.06-.94-2.06-.94-.94-2.06-.94 2.06-2.06.94zm-11 1L8.5 8.5l.94-2.06 2.06-.94-2.06-.94L8.5 2.5l-.94 2.06-2.06.94zm10 10l.94 2.06.94-2.06 2.06-.94-2.06-.94-.94-2.06-.94 2.06-2.06.94z\"/><path d=\"M17.41 7.96l-1.37-1.37c-.4-.4-.92-.59-1.43-.59-.52 0-1.04.2-1.43.59L10.3 9.45l-7.72 7.72c-.78.78-.78 2.05 0 2.83L4 21.41c.39.39.9.59 1.41.59.51 0 1.02-.2 1.41-.59l7.78-7.78 2.81-2.81c.8-.78.8-2.07 0-2.86zM5.41 20L4 18.59l7.72-7.72 1.47 1.35L5.41 20z\"/>\n",
              "  </svg>\n",
              "      </button>\n",
              "      \n",
              "  <style>\n",
              "    .colab-df-container {\n",
              "      display:flex;\n",
              "      flex-wrap:wrap;\n",
              "      gap: 12px;\n",
              "    }\n",
              "\n",
              "    .colab-df-convert {\n",
              "      background-color: #E8F0FE;\n",
              "      border: none;\n",
              "      border-radius: 50%;\n",
              "      cursor: pointer;\n",
              "      display: none;\n",
              "      fill: #1967D2;\n",
              "      height: 32px;\n",
              "      padding: 0 0 0 0;\n",
              "      width: 32px;\n",
              "    }\n",
              "\n",
              "    .colab-df-convert:hover {\n",
              "      background-color: #E2EBFA;\n",
              "      box-shadow: 0px 1px 2px rgba(60, 64, 67, 0.3), 0px 1px 3px 1px rgba(60, 64, 67, 0.15);\n",
              "      fill: #174EA6;\n",
              "    }\n",
              "\n",
              "    [theme=dark] .colab-df-convert {\n",
              "      background-color: #3B4455;\n",
              "      fill: #D2E3FC;\n",
              "    }\n",
              "\n",
              "    [theme=dark] .colab-df-convert:hover {\n",
              "      background-color: #434B5C;\n",
              "      box-shadow: 0px 1px 3px 1px rgba(0, 0, 0, 0.15);\n",
              "      filter: drop-shadow(0px 1px 2px rgba(0, 0, 0, 0.3));\n",
              "      fill: #FFFFFF;\n",
              "    }\n",
              "  </style>\n",
              "\n",
              "      <script>\n",
              "        const buttonEl =\n",
              "          document.querySelector('#df-769eeddf-5593-4a4c-af70-4218d9655699 button.colab-df-convert');\n",
              "        buttonEl.style.display =\n",
              "          google.colab.kernel.accessAllowed ? 'block' : 'none';\n",
              "\n",
              "        async function convertToInteractive(key) {\n",
              "          const element = document.querySelector('#df-769eeddf-5593-4a4c-af70-4218d9655699');\n",
              "          const dataTable =\n",
              "            await google.colab.kernel.invokeFunction('convertToInteractive',\n",
              "                                                     [key], {});\n",
              "          if (!dataTable) return;\n",
              "\n",
              "          const docLinkHtml = 'Like what you see? Visit the ' +\n",
              "            '<a target=\"_blank\" href=https://colab.research.google.com/notebooks/data_table.ipynb>data table notebook</a>'\n",
              "            + ' to learn more about interactive tables.';\n",
              "          element.innerHTML = '';\n",
              "          dataTable['output_type'] = 'display_data';\n",
              "          await google.colab.output.renderOutput(dataTable, element);\n",
              "          const docLink = document.createElement('div');\n",
              "          docLink.innerHTML = docLinkHtml;\n",
              "          element.appendChild(docLink);\n",
              "        }\n",
              "      </script>\n",
              "    </div>\n",
              "  </div>\n",
              "  "
            ],
            "text/plain": [
              "   movieId  ...                                      plot_keywords\n",
              "0        1  ...              [toy, rivalry, cowboy, cgi animation]\n",
              "1        2  ...              [board game, adventurer, fight, game]\n",
              "2        3  ...                    [boat, lake, neighbor, rivalry]\n",
              "3        4  ...  [black american, husband wife relationship, be...\n",
              "4        5  ...               [fatherhood, doberman, dog, mansion]\n",
              "\n",
              "[5 rows x 6 columns]"
            ]
          },
          "metadata": {},
          "execution_count": 70
        }
      ],
      "source": [
        "imdb['title_cast']=imdb['title_cast'].str.split('|') #spliting the title cast into a list\n",
        "imdb['plot_keywords']=imdb['plot_keywords'].str.split('|') #spliting the Key words into a list\n",
        "imdb.head()"
      ]
    },
    {
      "cell_type": "markdown",
      "metadata": {
        "id": "mntU9SEJawkF"
      },
      "source": [
        "##### Observation:\n",
        "Above, we observe that the years 2015 and 2016 are the years where the highest number of movies were released.What the diagram above communicates to us is that as the years progress, the amount of movies being released have significantly increased.\n",
        "This can be largely attributed to the fact that technology has changed a lot of industries and entry into these industry allows for fair competition and variety. "
      ]
    },
    {
      "cell_type": "code",
      "execution_count": null,
      "metadata": {
        "id": "CVs2jhWF3835"
      },
      "outputs": [],
      "source": [
        "# Spliting the title cast into a list\n",
        "imdb['title_cast']=imdb['title_cast'].str.split('|')"
      ]
    },
    {
      "cell_type": "code",
      "execution_count": null,
      "metadata": {
        "id": "VaeBly2R3836",
        "outputId": "9981e20a-16b3-4ff6-8c37-81a0372c8d60",
        "colab": {
          "base_uri": "https://localhost:8080/",
          "height": 397
        }
      },
      "outputs": [
        {
          "output_type": "error",
          "ename": "ValueError",
          "evalue": "ignored",
          "traceback": [
            "\u001b[0;31m---------------------------------------------------------------------------\u001b[0m",
            "\u001b[0;31mValueError\u001b[0m                                Traceback (most recent call last)",
            "\u001b[0;32m<ipython-input-72-d597908b5bee>\u001b[0m in \u001b[0;36m<module>\u001b[0;34m()\u001b[0m\n\u001b[1;32m      2\u001b[0m \u001b[0mplt\u001b[0m\u001b[0;34m.\u001b[0m\u001b[0mfigure\u001b[0m\u001b[0;34m(\u001b[0m\u001b[0mfigsize\u001b[0m \u001b[0;34m=\u001b[0m \u001b[0;34m(\u001b[0m\u001b[0;36m10\u001b[0m\u001b[0;34m,\u001b[0m\u001b[0;36m6\u001b[0m\u001b[0;34m)\u001b[0m\u001b[0;34m)\u001b[0m\u001b[0;34m\u001b[0m\u001b[0;34m\u001b[0m\u001b[0m\n\u001b[1;32m      3\u001b[0m \u001b[0mtitle_cast\u001b[0m\u001b[0;34m=\u001b[0m\u001b[0mimdb\u001b[0m\u001b[0;34m[\u001b[0m\u001b[0;34m'title_cast'\u001b[0m\u001b[0;34m]\u001b[0m\u001b[0;34m.\u001b[0m\u001b[0mexplode\u001b[0m\u001b[0;34m(\u001b[0m\u001b[0;34m)\u001b[0m\u001b[0;34m\u001b[0m\u001b[0;34m\u001b[0m\u001b[0m\n\u001b[0;32m----> 4\u001b[0;31m \u001b[0max\u001b[0m\u001b[0;34m=\u001b[0m\u001b[0msns\u001b[0m\u001b[0;34m.\u001b[0m\u001b[0mcountplot\u001b[0m\u001b[0;34m(\u001b[0m\u001b[0mx\u001b[0m\u001b[0;34m=\u001b[0m\u001b[0mtitle_cast\u001b[0m\u001b[0;34m,\u001b[0m \u001b[0morder\u001b[0m \u001b[0;34m=\u001b[0m \u001b[0mtitle_cast\u001b[0m\u001b[0;34m.\u001b[0m\u001b[0mvalue_counts\u001b[0m\u001b[0;34m(\u001b[0m\u001b[0;34m)\u001b[0m\u001b[0;34m.\u001b[0m\u001b[0mindex\u001b[0m\u001b[0;34m[\u001b[0m\u001b[0;34m:\u001b[0m\u001b[0;36m20\u001b[0m\u001b[0;34m]\u001b[0m\u001b[0;34m,\u001b[0m\u001b[0mcolor\u001b[0m\u001b[0;34m=\u001b[0m\u001b[0;34m'black'\u001b[0m\u001b[0;34m)\u001b[0m\u001b[0;34m\u001b[0m\u001b[0;34m\u001b[0m\u001b[0m\n\u001b[0m\u001b[1;32m      5\u001b[0m \u001b[0max\u001b[0m\u001b[0;34m.\u001b[0m\u001b[0mset_title\u001b[0m\u001b[0;34m(\u001b[0m\u001b[0;34m'Top 20 Popular Actors'\u001b[0m\u001b[0;34m,\u001b[0m\u001b[0mfontsize\u001b[0m\u001b[0;34m=\u001b[0m\u001b[0;36m15\u001b[0m\u001b[0;34m)\u001b[0m\u001b[0;34m\u001b[0m\u001b[0;34m\u001b[0m\u001b[0m\n\u001b[1;32m      6\u001b[0m \u001b[0mplt\u001b[0m\u001b[0;34m.\u001b[0m\u001b[0mxticks\u001b[0m\u001b[0;34m(\u001b[0m\u001b[0mrotation\u001b[0m\u001b[0;34m=\u001b[0m\u001b[0;36m90\u001b[0m\u001b[0;34m)\u001b[0m\u001b[0;34m\u001b[0m\u001b[0;34m\u001b[0m\u001b[0m\n",
            "\u001b[0;32m/usr/local/lib/python3.7/dist-packages/seaborn/_decorators.py\u001b[0m in \u001b[0;36minner_f\u001b[0;34m(*args, **kwargs)\u001b[0m\n\u001b[1;32m     44\u001b[0m             )\n\u001b[1;32m     45\u001b[0m         \u001b[0mkwargs\u001b[0m\u001b[0;34m.\u001b[0m\u001b[0mupdate\u001b[0m\u001b[0;34m(\u001b[0m\u001b[0;34m{\u001b[0m\u001b[0mk\u001b[0m\u001b[0;34m:\u001b[0m \u001b[0marg\u001b[0m \u001b[0;32mfor\u001b[0m \u001b[0mk\u001b[0m\u001b[0;34m,\u001b[0m \u001b[0marg\u001b[0m \u001b[0;32min\u001b[0m \u001b[0mzip\u001b[0m\u001b[0;34m(\u001b[0m\u001b[0msig\u001b[0m\u001b[0;34m.\u001b[0m\u001b[0mparameters\u001b[0m\u001b[0;34m,\u001b[0m \u001b[0margs\u001b[0m\u001b[0;34m)\u001b[0m\u001b[0;34m}\u001b[0m\u001b[0;34m)\u001b[0m\u001b[0;34m\u001b[0m\u001b[0;34m\u001b[0m\u001b[0m\n\u001b[0;32m---> 46\u001b[0;31m         \u001b[0;32mreturn\u001b[0m \u001b[0mf\u001b[0m\u001b[0;34m(\u001b[0m\u001b[0;34m**\u001b[0m\u001b[0mkwargs\u001b[0m\u001b[0;34m)\u001b[0m\u001b[0;34m\u001b[0m\u001b[0;34m\u001b[0m\u001b[0m\n\u001b[0m\u001b[1;32m     47\u001b[0m     \u001b[0;32mreturn\u001b[0m \u001b[0minner_f\u001b[0m\u001b[0;34m\u001b[0m\u001b[0;34m\u001b[0m\u001b[0m\n\u001b[1;32m     48\u001b[0m \u001b[0;34m\u001b[0m\u001b[0m\n",
            "\u001b[0;32m/usr/local/lib/python3.7/dist-packages/seaborn/categorical.py\u001b[0m in \u001b[0;36mcountplot\u001b[0;34m(x, y, hue, data, order, hue_order, orient, color, palette, saturation, dodge, ax, **kwargs)\u001b[0m\n\u001b[1;32m   3600\u001b[0m         \u001b[0mestimator\u001b[0m\u001b[0;34m,\u001b[0m \u001b[0mci\u001b[0m\u001b[0;34m,\u001b[0m \u001b[0mn_boot\u001b[0m\u001b[0;34m,\u001b[0m \u001b[0munits\u001b[0m\u001b[0;34m,\u001b[0m \u001b[0mseed\u001b[0m\u001b[0;34m,\u001b[0m\u001b[0;34m\u001b[0m\u001b[0;34m\u001b[0m\u001b[0m\n\u001b[1;32m   3601\u001b[0m         \u001b[0morient\u001b[0m\u001b[0;34m,\u001b[0m \u001b[0mcolor\u001b[0m\u001b[0;34m,\u001b[0m \u001b[0mpalette\u001b[0m\u001b[0;34m,\u001b[0m \u001b[0msaturation\u001b[0m\u001b[0;34m,\u001b[0m\u001b[0;34m\u001b[0m\u001b[0;34m\u001b[0m\u001b[0m\n\u001b[0;32m-> 3602\u001b[0;31m         \u001b[0merrcolor\u001b[0m\u001b[0;34m,\u001b[0m \u001b[0merrwidth\u001b[0m\u001b[0;34m,\u001b[0m \u001b[0mcapsize\u001b[0m\u001b[0;34m,\u001b[0m \u001b[0mdodge\u001b[0m\u001b[0;34m\u001b[0m\u001b[0;34m\u001b[0m\u001b[0m\n\u001b[0m\u001b[1;32m   3603\u001b[0m     )\n\u001b[1;32m   3604\u001b[0m \u001b[0;34m\u001b[0m\u001b[0m\n",
            "\u001b[0;32m/usr/local/lib/python3.7/dist-packages/seaborn/categorical.py\u001b[0m in \u001b[0;36m__init__\u001b[0;34m(self, x, y, hue, data, order, hue_order, estimator, ci, n_boot, units, seed, orient, color, palette, saturation, errcolor, errwidth, capsize, dodge)\u001b[0m\n\u001b[1;32m   1584\u001b[0m         self.establish_variables(x, y, hue, data, orient,\n\u001b[1;32m   1585\u001b[0m                                  order, hue_order, units)\n\u001b[0;32m-> 1586\u001b[0;31m         \u001b[0mself\u001b[0m\u001b[0;34m.\u001b[0m\u001b[0mestablish_colors\u001b[0m\u001b[0;34m(\u001b[0m\u001b[0mcolor\u001b[0m\u001b[0;34m,\u001b[0m \u001b[0mpalette\u001b[0m\u001b[0;34m,\u001b[0m \u001b[0msaturation\u001b[0m\u001b[0;34m)\u001b[0m\u001b[0;34m\u001b[0m\u001b[0;34m\u001b[0m\u001b[0m\n\u001b[0m\u001b[1;32m   1587\u001b[0m         \u001b[0mself\u001b[0m\u001b[0;34m.\u001b[0m\u001b[0mestimate_statistic\u001b[0m\u001b[0;34m(\u001b[0m\u001b[0mestimator\u001b[0m\u001b[0;34m,\u001b[0m \u001b[0mci\u001b[0m\u001b[0;34m,\u001b[0m \u001b[0mn_boot\u001b[0m\u001b[0;34m,\u001b[0m \u001b[0mseed\u001b[0m\u001b[0;34m)\u001b[0m\u001b[0;34m\u001b[0m\u001b[0;34m\u001b[0m\u001b[0m\n\u001b[1;32m   1588\u001b[0m \u001b[0;34m\u001b[0m\u001b[0m\n",
            "\u001b[0;32m/usr/local/lib/python3.7/dist-packages/seaborn/categorical.py\u001b[0m in \u001b[0;36mestablish_colors\u001b[0;34m(self, color, palette, saturation)\u001b[0m\n\u001b[1;32m    317\u001b[0m         \u001b[0;31m# Determine the gray color to use for the lines framing the plot\u001b[0m\u001b[0;34m\u001b[0m\u001b[0;34m\u001b[0m\u001b[0;34m\u001b[0m\u001b[0m\n\u001b[1;32m    318\u001b[0m         \u001b[0mlight_vals\u001b[0m \u001b[0;34m=\u001b[0m \u001b[0;34m[\u001b[0m\u001b[0mcolorsys\u001b[0m\u001b[0;34m.\u001b[0m\u001b[0mrgb_to_hls\u001b[0m\u001b[0;34m(\u001b[0m\u001b[0;34m*\u001b[0m\u001b[0mc\u001b[0m\u001b[0;34m)\u001b[0m\u001b[0;34m[\u001b[0m\u001b[0;36m1\u001b[0m\u001b[0;34m]\u001b[0m \u001b[0;32mfor\u001b[0m \u001b[0mc\u001b[0m \u001b[0;32min\u001b[0m \u001b[0mrgb_colors\u001b[0m\u001b[0;34m]\u001b[0m\u001b[0;34m\u001b[0m\u001b[0;34m\u001b[0m\u001b[0m\n\u001b[0;32m--> 319\u001b[0;31m         \u001b[0mlum\u001b[0m \u001b[0;34m=\u001b[0m \u001b[0mmin\u001b[0m\u001b[0;34m(\u001b[0m\u001b[0mlight_vals\u001b[0m\u001b[0;34m)\u001b[0m \u001b[0;34m*\u001b[0m \u001b[0;36m.6\u001b[0m\u001b[0;34m\u001b[0m\u001b[0;34m\u001b[0m\u001b[0m\n\u001b[0m\u001b[1;32m    320\u001b[0m         \u001b[0mgray\u001b[0m \u001b[0;34m=\u001b[0m \u001b[0mmpl\u001b[0m\u001b[0;34m.\u001b[0m\u001b[0mcolors\u001b[0m\u001b[0;34m.\u001b[0m\u001b[0mrgb2hex\u001b[0m\u001b[0;34m(\u001b[0m\u001b[0;34m(\u001b[0m\u001b[0mlum\u001b[0m\u001b[0;34m,\u001b[0m \u001b[0mlum\u001b[0m\u001b[0;34m,\u001b[0m \u001b[0mlum\u001b[0m\u001b[0;34m)\u001b[0m\u001b[0;34m)\u001b[0m\u001b[0;34m\u001b[0m\u001b[0;34m\u001b[0m\u001b[0m\n\u001b[1;32m    321\u001b[0m \u001b[0;34m\u001b[0m\u001b[0m\n",
            "\u001b[0;31mValueError\u001b[0m: min() arg is an empty sequence"
          ]
        },
        {
          "output_type": "display_data",
          "data": {
            "text/plain": [
              "<Figure size 720x432 with 0 Axes>"
            ]
          },
          "metadata": {}
        }
      ],
      "source": [
        "#Plotting popular cast using a count-plot\n",
        "plt.figure(figsize = (10,6))\n",
        "title_cast=imdb['title_cast'].explode()\n",
        "ax=sns.countplot(x=title_cast, order = title_cast.value_counts().index[:20],color='black')\n",
        "ax.set_title('Top 20 Popular Actors',fontsize=15)\n",
        "plt.xticks(rotation=90)\n",
        "plt.show()\n"
      ]
    },
    {
      "cell_type": "markdown",
      "metadata": {
        "id": "0nI8f73lawkG"
      },
      "source": [
        "##### Observation:\n",
        "Actors and actresses are artists that have a following and a fanbase. Some actors are contracted more than others. The graph above shows that Samuel L Jackson has been in more than 80 movies. Other famous actors as well have been featured a large number of times. People are likely to watch a movie that has their favourite actor in the movie and these artists wouldn't have been featured so many times if they weren't good. "
      ]
    },
    {
      "cell_type": "markdown",
      "metadata": {
        "id": "4pzDm2uN3839"
      },
      "source": [
        "## titles wordclouds"
      ]
    },
    {
      "cell_type": "code",
      "execution_count": null,
      "metadata": {
        "id": "NYrmVhgFawkH",
        "outputId": "634224e4-6fc3-41ab-fec2-9a19bcb1e667",
        "colab": {
          "base_uri": "https://localhost:8080/",
          "height": 535
        }
      },
      "outputs": [
        {
          "output_type": "display_data",
          "data": {
            "image/png": "[encoded data removed]",
            "text/plain": [
              "<Figure size 1008x504 with 1 Axes>"
            ]
          },
          "metadata": {
            "needs_background": "light"
          }
        }
      ],
      "source": [
        "# Wordcloud of movie titles\n",
        "movies_word = movies['title'] = movies['title'].astype('str')\n",
        "movies_wordcloud = ' '.join(movies_word)\n",
        "title_wordcloud = WordCloud(stopwords = STOPWORDS,\n",
        "                            background_color = 'Black',\n",
        "                            height = 1200,\n",
        "                            width = 1900,\n",
        "                           colormap='Reds').generate(movies_wordcloud)\n",
        "plt.figure(figsize = (14,7), facecolor=None)\n",
        "plt.imshow(title_wordcloud)\n",
        "plt.axis('off')\n",
        "plt.title('Distribution of words from movie titles')\n",
        "plt.tight_layout(pad=0)\n",
        "plt.show()"
      ]
    },
    {
      "cell_type": "markdown",
      "metadata": {
        "id": "CFngSOpBawkH"
      },
      "source": [
        "##### Observation:\n",
        "The visual above shows which words are commonly used when movies are titled. The bigger the word, the more it is being used. As can be seen, the word \"love\", \"Man\", and \"Girl\" appears the most."
      ]
    },
    {
      "cell_type": "markdown",
      "metadata": {
        "id": "Z9VBWUrh383-"
      },
      "source": [
        "<a id=\"modeling\"></a>\n",
        "##  Model Building"
      ]
    },
    {
      "cell_type": "markdown",
      "metadata": {
        "id": "ZprKuli_awkK"
      },
      "source": [
        "\n",
        "_ _ _\n",
        "\n",
        "## Building the reccomender system\n",
        "Recommender systems function with two kinds of information:\n",
        "\n",
        "- Characteristic information: This is information about items (keywords, categories, etc.) and users (preferences, profiles, etc.).\n",
        "\n",
        "- User-item interactions: This is information such as ratings, number of purchases, likes, etc.\n",
        "\n",
        "Based on this, we can distinguish between three algorithms used in recommender systems\n",
        "\n",
        "\n",
        "\n",
        "## CONTENT BASED FILTERING\n",
        "Idea: If you like an item then you will also like a “similar” item"
      ]
    },
    {
      "cell_type": "markdown",
      "metadata": {
        "id": "QZCB2nGTawkL"
      },
      "source": [
        ""
      ]
    },
    {
      "cell_type": "code",
      "execution_count": null,
      "metadata": {
        "id": "HSsGLaglawkL"
      },
      "outputs": [],
      "source": [
        "# Convert data types to strings for string handling\n",
        "dataset1['title_cast'] = dataset1.title_cast.astype(str)\n",
        "dataset1['plot_keywords'] = dataset1.plot_keywords.astype(str)\n",
        "dataset1['genres'] = dataset1.genres.astype(str)\n",
        "dataset1['director'] = dataset1.director.astype(str)"
      ]
    },
    {
      "cell_type": "code",
      "execution_count": null,
      "metadata": {
        "id": "N1Kxao_pawkM",
        "outputId": "95e62cec-c867-4a3c-e1de-1ee40015625c",
        "colab": {
          "base_uri": "https://localhost:8080/",
          "height": 237
        }
      },
      "outputs": [
        {
          "output_type": "execute_result",
          "data": {
            "text/html": [
              "\n",
              "  <div id=\"df-5fe483c5-a710-4407-bddc-7ae22da97c0d\">\n",
              "    <div class=\"colab-df-container\">\n",
              "      <div>\n",
              "<style scoped>\n",
              "    .dataframe tbody tr th:only-of-type {\n",
              "        vertical-align: middle;\n",
              "    }\n",
              "\n",
              "    .dataframe tbody tr th {\n",
              "        vertical-align: top;\n",
              "    }\n",
              "\n",
              "    .dataframe thead th {\n",
              "        text-align: right;\n",
              "    }\n",
              "</style>\n",
              "<table border=\"1\" class=\"dataframe\">\n",
              "  <thead>\n",
              "    <tr style=\"text-align: right;\">\n",
              "      <th></th>\n",
              "      <th>runtime</th>\n",
              "      <th>budget</th>\n",
              "      <th>title</th>\n",
              "      <th>corpus</th>\n",
              "    </tr>\n",
              "    <tr>\n",
              "      <th>movieId</th>\n",
              "      <th></th>\n",
              "      <th></th>\n",
              "      <th></th>\n",
              "      <th></th>\n",
              "    </tr>\n",
              "  </thead>\n",
              "  <tbody>\n",
              "    <tr>\n",
              "      <th>1</th>\n",
              "      <td>81.0</td>\n",
              "      <td>$30,000,000</td>\n",
              "      <td>Toy Story (1995)</td>\n",
              "      <td>Tom Hanks|Tim Allen|Don Rickles|Jim Varney|Wal...</td>\n",
              "    </tr>\n",
              "    <tr>\n",
              "      <th>2</th>\n",
              "      <td>104.0</td>\n",
              "      <td>$65,000,000</td>\n",
              "      <td>Jumanji (1995)</td>\n",
              "      <td>Robin Williams|Jonathan Hyde|Kirsten Dunst|Bra...</td>\n",
              "    </tr>\n",
              "    <tr>\n",
              "      <th>3</th>\n",
              "      <td>101.0</td>\n",
              "      <td>$25,000,000</td>\n",
              "      <td>Grumpier Old Men (1995)</td>\n",
              "      <td>Walter Matthau|Jack Lemmon|Sophia Loren|Ann-Ma...</td>\n",
              "    </tr>\n",
              "    <tr>\n",
              "      <th>4</th>\n",
              "      <td>124.0</td>\n",
              "      <td>$16,000,000</td>\n",
              "      <td>Waiting to Exhale (1995)</td>\n",
              "      <td>Whitney Houston|Angela Bassett|Loretta Devine|...</td>\n",
              "    </tr>\n",
              "    <tr>\n",
              "      <th>5</th>\n",
              "      <td>106.0</td>\n",
              "      <td>$30,000,000</td>\n",
              "      <td>Father of the Bride Part II (1995)</td>\n",
              "      <td>Steve Martin|Diane Keaton|Martin Short|Kimberl...</td>\n",
              "    </tr>\n",
              "  </tbody>\n",
              "</table>\n",
              "</div>\n",
              "      <button class=\"colab-df-convert\" onclick=\"convertToInteractive('df-5fe483c5-a710-4407-bddc-7ae22da97c0d')\"\n",
              "              title=\"Convert this dataframe to an interactive table.\"\n",
              "              style=\"display:none;\">\n",
              "        \n",
              "  <svg xmlns=\"http://www.w3.org/2000/svg\" height=\"24px\"viewBox=\"0 0 24 24\"\n",
              "       width=\"24px\">\n",
              "    <path d=\"M0 0h24v24H0V0z\" fill=\"none\"/>\n",
              "    <path d=\"M18.56 5.44l.94 2.06.94-2.06 2.06-.94-2.06-.94-.94-2.06-.94 2.06-2.06.94zm-11 1L8.5 8.5l.94-2.06 2.06-.94-2.06-.94L8.5 2.5l-.94 2.06-2.06.94zm10 10l.94 2.06.94-2.06 2.06-.94-2.06-.94-.94-2.06-.94 2.06-2.06.94z\"/><path d=\"M17.41 7.96l-1.37-1.37c-.4-.4-.92-.59-1.43-.59-.52 0-1.04.2-1.43.59L10.3 9.45l-7.72 7.72c-.78.78-.78 2.05 0 2.83L4 21.41c.39.39.9.59 1.41.59.51 0 1.02-.2 1.41-.59l7.78-7.78 2.81-2.81c.8-.78.8-2.07 0-2.86zM5.41 20L4 18.59l7.72-7.72 1.47 1.35L5.41 20z\"/>\n",
              "  </svg>\n",
              "      </button>\n",
              "      \n",
              "  <style>\n",
              "    .colab-df-container {\n",
              "      display:flex;\n",
              "      flex-wrap:wrap;\n",
              "      gap: 12px;\n",
              "    }\n",
              "\n",
              "    .colab-df-convert {\n",
              "      background-color: #E8F0FE;\n",
              "      border: none;\n",
              "      border-radius: 50%;\n",
              "      cursor: pointer;\n",
              "      display: none;\n",
              "      fill: #1967D2;\n",
              "      height: 32px;\n",
              "      padding: 0 0 0 0;\n",
              "      width: 32px;\n",
              "    }\n",
              "\n",
              "    .colab-df-convert:hover {\n",
              "      background-color: #E2EBFA;\n",
              "      box-shadow: 0px 1px 2px rgba(60, 64, 67, 0.3), 0px 1px 3px 1px rgba(60, 64, 67, 0.15);\n",
              "      fill: #174EA6;\n",
              "    }\n",
              "\n",
              "    [theme=dark] .colab-df-convert {\n",
              "      background-color: #3B4455;\n",
              "      fill: #D2E3FC;\n",
              "    }\n",
              "\n",
              "    [theme=dark] .colab-df-convert:hover {\n",
              "      background-color: #434B5C;\n",
              "      box-shadow: 0px 1px 3px 1px rgba(0, 0, 0, 0.15);\n",
              "      filter: drop-shadow(0px 1px 2px rgba(0, 0, 0, 0.3));\n",
              "      fill: #FFFFFF;\n",
              "    }\n",
              "  </style>\n",
              "\n",
              "      <script>\n",
              "        const buttonEl =\n",
              "          document.querySelector('#df-5fe483c5-a710-4407-bddc-7ae22da97c0d button.colab-df-convert');\n",
              "        buttonEl.style.display =\n",
              "          google.colab.kernel.accessAllowed ? 'block' : 'none';\n",
              "\n",
              "        async function convertToInteractive(key) {\n",
              "          const element = document.querySelector('#df-5fe483c5-a710-4407-bddc-7ae22da97c0d');\n",
              "          const dataTable =\n",
              "            await google.colab.kernel.invokeFunction('convertToInteractive',\n",
              "                                                     [key], {});\n",
              "          if (!dataTable) return;\n",
              "\n",
              "          const docLinkHtml = 'Like what you see? Visit the ' +\n",
              "            '<a target=\"_blank\" href=https://colab.research.google.com/notebooks/data_table.ipynb>data table notebook</a>'\n",
              "            + ' to learn more about interactive tables.';\n",
              "          element.innerHTML = '';\n",
              "          dataTable['output_type'] = 'display_data';\n",
              "          await google.colab.output.renderOutput(dataTable, element);\n",
              "          const docLink = document.createElement('div');\n",
              "          docLink.innerHTML = docLinkHtml;\n",
              "          element.appendChild(docLink);\n",
              "        }\n",
              "      </script>\n",
              "    </div>\n",
              "  </div>\n",
              "  "
            ],
            "text/plain": [
              "         runtime  ...                                             corpus\n",
              "movieId           ...                                                   \n",
              "1           81.0  ...  Tom Hanks|Tim Allen|Don Rickles|Jim Varney|Wal...\n",
              "2          104.0  ...  Robin Williams|Jonathan Hyde|Kirsten Dunst|Bra...\n",
              "3          101.0  ...  Walter Matthau|Jack Lemmon|Sophia Loren|Ann-Ma...\n",
              "4          124.0  ...  Whitney Houston|Angela Bassett|Loretta Devine|...\n",
              "5          106.0  ...  Steve Martin|Diane Keaton|Martin Short|Kimberl...\n",
              "\n",
              "[5 rows x 4 columns]"
            ]
          },
          "metadata": {},
          "execution_count": 75
        }
      ],
      "source": [
        "# Creating an empty column and list to store the corpus for each movie\n",
        "dataset1['corpus'] = ''\n",
        "corpus = []\n",
        "\n",
        "# List of the columns we want to use to create our corpus \n",
        "columns = ['title_cast', 'director', 'plot_keywords', 'genres']\n",
        "\n",
        "# For each movie, combine the contents of the selected columns to form it's unique corpus \n",
        "for i in range(0, len(dataset1['movieId'])):\n",
        "    words = ''\n",
        "    for col in columns:\n",
        "        words = words + dataset1.iloc[i][col] + \" \"        \n",
        "    corpus.append(words)\n",
        "    # Add the corpus information for each movie to the dataframe \n",
        "dataset1['corpus'] = corpus\n",
        "dataset1.set_index('movieId', inplace=True)\n",
        "\n",
        "# Drop the columns we don't need anymore to preserve memory\n",
        "dataset1.drop(columns=['title_cast', 'director', 'plot_keywords', 'genres'], inplace=True)\n",
        "\n",
        "dataset1.head()"
      ]
    },
    {
      "cell_type": "code",
      "execution_count": null,
      "metadata": {
        "id": "Q97TwTYbawkM"
      },
      "outputs": [],
      "source": [
        "from sklearn.feature_extraction.text import CountVectorizer as CountVectorizer\n",
        "cv = CountVectorizer()\n",
        "count_matrix = cv.fit_transform(dataset1['corpus'])\n"
      ]
    },
    {
      "cell_type": "markdown",
      "metadata": {
        "id": "jpnfeCCeawkN"
      },
      "source": [
        "Similarity is calculated as the cosine of the angle between the 2 vectors of the item vectors of A and B. The closer the vectors, the smaller the angle and larger the cosine similarity."
      ]
    },
    {
      "cell_type": "code",
      "execution_count": null,
      "metadata": {
        "id": "MWlioEkEawkO",
        "outputId": "db95553d-69f9-4664-fb5f-7ff66bc58adf",
        "colab": {
          "base_uri": "https://localhost:8080/"
        }
      },
      "outputs": [
        {
          "output_type": "stream",
          "name": "stdout",
          "text": [
            "(24866, 24866)\n"
          ]
        },
        {
          "output_type": "execute_result",
          "data": {
            "text/plain": [
              "array([[1.        , 0.06063391, 0.06482037, ..., 0.0498548 , 0.020646  ,\n",
              "        0.08968971],\n",
              "       [0.06063391, 1.        , 0.02227177, ..., 0.03425944, 0.        ,\n",
              "        0.04622502],\n",
              "       [0.06482037, 0.02227177, 1.        , ..., 0.        , 0.        ,\n",
              "        0.        ],\n",
              "       ...,\n",
              "       [0.0498548 , 0.03425944, 0.        , ..., 1.        , 0.        ,\n",
              "        0.01900372],\n",
              "       [0.020646  , 0.        , 0.        , ..., 0.        , 1.        ,\n",
              "        0.        ],\n",
              "       [0.08968971, 0.04622502, 0.        , ..., 0.01900372, 0.        ,\n",
              "        1.        ]])"
            ]
          },
          "metadata": {},
          "execution_count": 77
        }
      ],
      "source": [
        "cos_sim = cosine_similarity(count_matrix, count_matrix)\n",
        "print(cos_sim.shape)\n",
        "cos_sim"
      ]
    },
    {
      "cell_type": "code",
      "execution_count": null,
      "metadata": {
        "id": "RYP8OjUcawkQ",
        "outputId": "dd5dc876-11d5-41e4-9393-41a53069a9a9",
        "colab": {
          "base_uri": "https://localhost:8080/"
        }
      },
      "outputs": [
        {
          "output_type": "execute_result",
          "data": {
            "text/plain": [
              "10648           Ice Age 2: The Meltdown (2006)\n",
              "13437    Ice Age: Dawn of the Dinosaurs (2009)\n",
              "18129      Ice Age 4: Continental Drift (2012)\n",
              "9591             Pooh's Heffalump Movie (2005)\n",
              "16662                   Winnie the Pooh (2011)\n",
              "24597    Tom and Jerry: The Lost Dragon (2014)\n",
              "18330                    Runaway Brain (1995) \n",
              "12008    Walk Hard: The Dewey Cox Story (2007)\n",
              "24823                   Superstar Goofy (1991)\n",
              "Name: title, dtype: object"
            ]
          },
          "metadata": {},
          "execution_count": 78
        }
      ],
      "source": [
        "def get_topN_recommendations(title, n=10):\n",
        "    \"\"\"\n",
        "    This function gets the top n recomended movies based on the \n",
        "    title of the movie input by the user \n",
        "    \n",
        "    Input: title\n",
        "           Datatype: str\n",
        "           \n",
        "           n (default = 10)\n",
        "           Datatype: int\n",
        "    \"\"\" \n",
        "    # Create a a copy of the input dataframe where the index has been reset\n",
        "    df1 = dataset1.reset_index()\n",
        "    \n",
        "    # Extract the movie titles\n",
        "    titles = df1['title']\n",
        "    indices = pd.Series(df1.index, index=dataset1['title'])\n",
        "    idx = indices[title]\n",
        "    \n",
        "    # Get the similarity scores of the top n movies most similar to the user input\n",
        "    sim_scores = list(enumerate(cos_sim[idx]))\n",
        "    sim_scores = sorted(sim_scores, key=lambda x: x[1], reverse=True)\n",
        "    sim_scores = sim_scores[1:n]\n",
        "    \n",
        "    # Exctract the titles of the top n most similar movies  \n",
        "    movie_indices = [i[0] for i in sim_scores]\n",
        "    \n",
        "    return titles.iloc[movie_indices]\n",
        "\n",
        "get_topN_recommendations('Ice Age (2002)').head(10)"
      ]
    },
    {
      "cell_type": "markdown",
      "metadata": {
        "id": "GmASDb2BawkR"
      },
      "source": [
        "## COLLABORATIVE FILTERING"
      ]
    },
    {
      "cell_type": "markdown",
      "metadata": {
        "id": "RLZyEq6DawkR"
      },
      "source": [
        "## Feature Engineering"
      ]
    },
    {
      "cell_type": "code",
      "execution_count": null,
      "metadata": {
        "execution": {
          "iopub.execute_input": "2021-07-05T12:35:23.668024Z",
          "iopub.status.busy": "2021-07-05T12:35:23.667647Z",
          "iopub.status.idle": "2021-07-05T12:35:37.613463Z",
          "shell.execute_reply": "2021-07-05T12:35:37.612389Z",
          "shell.execute_reply.started": "2021-07-05T12:35:23.667991Z"
        },
        "id": "s_klVF6eawkT"
      },
      "outputs": [],
      "source": [
        "# Load reader and data \n",
        "reader = Reader(rating_scale=(0.5, 5))\n",
        "train2 = Dataset.load_from_df(train1[['userId', 'movieId', 'rating']], reader)"
      ]
    },
    {
      "cell_type": "markdown",
      "metadata": {
        "id": "WXZbfKm4awkT"
      },
      "source": [
        "\n",
        "The models we are going to train are:\n",
        "- Baseline Only model\n",
        "- SVD model\n"
      ]
    },
    {
      "cell_type": "markdown",
      "metadata": {
        "id": "5e9L7wxOawkb"
      },
      "source": [
        "## Hyperparameter tunning of best model"
      ]
    },
    {
      "cell_type": "code",
      "execution_count": null,
      "metadata": {
        "execution": {
          "iopub.execute_input": "2021-07-05T12:56:50.855433Z",
          "iopub.status.busy": "2021-07-05T12:56:50.855127Z",
          "iopub.status.idle": "2021-07-05T13:23:30.207040Z",
          "shell.execute_reply": "2021-07-05T13:23:30.205738Z",
          "shell.execute_reply.started": "2021-07-05T12:56:50.855405Z"
        },
        "id": "S7AZChmbawkc",
        "outputId": "db573465-7d2f-4c20-b707-fb5923860352",
        "colab": {
          "base_uri": "https://localhost:8080/",
          "height": 235
        }
      },
      "outputs": [
        {
          "output_type": "error",
          "ename": "NameError",
          "evalue": "ignored",
          "traceback": [
            "\u001b[0;31m---------------------------------------------------------------------------\u001b[0m",
            "\u001b[0;31mNameError\u001b[0m                                 Traceback (most recent call last)",
            "\u001b[0;32m<ipython-input-3-f7d30b379d4f>\u001b[0m in \u001b[0;36m<module>\u001b[0;34m()\u001b[0m\n\u001b[0;32m----> 1\u001b[0;31m \u001b[0mrating_scale\u001b[0m \u001b[0;34m=\u001b[0m \u001b[0mReader\u001b[0m\u001b[0;34m(\u001b[0m\u001b[0mrating_scale\u001b[0m\u001b[0;34m=\u001b[0m\u001b[0;34m(\u001b[0m\u001b[0;36m0.5\u001b[0m\u001b[0;34m,\u001b[0m \u001b[0;36m5\u001b[0m\u001b[0;34m)\u001b[0m\u001b[0;34m)\u001b[0m\u001b[0;34m\u001b[0m\u001b[0;34m\u001b[0m\u001b[0m\n\u001b[0m\u001b[1;32m      2\u001b[0m \u001b[0mtrain\u001b[0m \u001b[0;34m=\u001b[0m \u001b[0mDataset\u001b[0m\u001b[0;34m.\u001b[0m\u001b[0mload_from_df\u001b[0m\u001b[0;34m(\u001b[0m\u001b[0mtrain\u001b[0m\u001b[0;34m.\u001b[0m\u001b[0mdrop\u001b[0m\u001b[0;34m(\u001b[0m\u001b[0;34m'timestamp'\u001b[0m\u001b[0;34m,\u001b[0m \u001b[0maxis\u001b[0m\u001b[0;34m=\u001b[0m\u001b[0;36m1\u001b[0m\u001b[0;34m)\u001b[0m\u001b[0;34m,\u001b[0m \u001b[0mrating_scale\u001b[0m\u001b[0;34m)\u001b[0m\u001b[0;34m\u001b[0m\u001b[0;34m\u001b[0m\u001b[0m\n\u001b[1;32m      3\u001b[0m \u001b[0;34m\u001b[0m\u001b[0m\n\u001b[1;32m      4\u001b[0m \u001b[0;31m# Training and validation set split for hypertuning\u001b[0m\u001b[0;34m\u001b[0m\u001b[0;34m\u001b[0m\u001b[0;34m\u001b[0m\u001b[0m\n\u001b[1;32m      5\u001b[0m train_set, val_set = train_test_split(train,\n",
            "\u001b[0;31mNameError\u001b[0m: name 'Reader' is not defined"
          ]
        }
      ],
      "source": [
        "rating_scale = Reader(rating_scale=(0.5, 5))\n",
        "train = Dataset.load_from_df(train.drop('timestamp', axis=1), rating_scale)\n",
        "\n",
        "# Training and validation set split for hypertuning\n",
        "train_set, val_set = train_test_split(train,\n",
        "                                      test_size=0.008,\n",
        "                                      random_state=42)\n",
        "\n",
        "# Modelling of the SVD hypertuning\n",
        "svd_algo_hyper = SVD(n_factors=160, \n",
        "                     lr_all=0.0085,\n",
        "                     reg_all=0.02,\n",
        "                     n_epochs=20,\n",
        "                     init_std_dev=0.01)\n",
        "svd_algo_hyper.fit(train_set)\n",
        "\n",
        "# Predicting on the validation set\n",
        "svd_hyper_predictions = svd_algo_hyper.test(val_set)\n",
        "\n",
        "# Convert the predictions to dataframe\n",
        "#test = pd.DataFrame(predictions)\n",
        "accuracy.rmse(svd_hyper_predictions)\n",
        "\n",
        "# Dictionary for the data to log for the SVD tuned model\n",
        "params = {'model_name': 'SVD_Tuned'}\n",
        "metrics = {'RMSE': accuracy.rmse(svd_hyper_predictions)}"
      ]
    },
    {
      "cell_type": "markdown",
      "metadata": {
        "id": "KMe3Iceoawkd"
      },
      "source": [
        "Hyperparameter tuning makes the process of determining the best hyperparameter settings easier and less tedious. The model that has been tuned is the SVD model and the performance increased. "
      ]
    },
    {
      "cell_type": "code",
      "execution_count": null,
      "metadata": {
        "id": "XmxSBRgTawke"
      },
      "outputs": [],
      "source": [
        "mydict = {f'SVD Hyper': 0.7889,\n",
        "          f'SVD': 0.8263,\n",
        "          f'Baseline Only': 0.8652,\n",
        "          f'NMF': 0.8810\n",
        "         }\n",
        "\n",
        "i = pd.DataFrame(mydict.items(), columns=['Model', 'RSME'])\n",
        "i"
      ]
    },
    {
      "cell_type": "markdown",
      "metadata": {
        "id": "Y_0TkbQ2awkf"
      },
      "source": [
        "#### Making predictions"
      ]
    },
    {
      "cell_type": "code",
      "execution_count": null,
      "metadata": {
        "execution": {
          "iopub.execute_input": "2021-07-05T13:23:30.208782Z",
          "iopub.status.busy": "2021-07-05T13:23:30.208440Z",
          "iopub.status.idle": "2021-07-05T13:33:01.652582Z",
          "shell.execute_reply": "2021-07-05T13:33:01.650922Z",
          "shell.execute_reply.started": "2021-07-05T13:23:30.208747Z"
        },
        "id": "Y4q8kzRPawkf"
      },
      "outputs": [],
      "source": [
        "pred_svd_hyper = [svd_algo_hyper.predict(row.userId,\n",
        "                                         row.movieId) for idx,row in test.iterrows()]\n",
        "\n",
        "# Converting the predictions to a dataframe\n",
        "test_pred_svd_hyper = pd.DataFrame(pred_svd_hyper)"
      ]
    },
    {
      "cell_type": "markdown",
      "metadata": {
        "id": "0h1wo4A4awkg"
      },
      "source": [
        "#### Displaying predictions"
      ]
    },
    {
      "cell_type": "code",
      "execution_count": null,
      "metadata": {
        "execution": {
          "iopub.execute_input": "2021-07-05T13:33:01.657465Z",
          "iopub.status.busy": "2021-07-05T13:33:01.656961Z",
          "iopub.status.idle": "2021-07-05T13:33:01.839488Z",
          "shell.execute_reply": "2021-07-05T13:33:01.838454Z",
          "shell.execute_reply.started": "2021-07-05T13:33:01.657409Z"
        },
        "id": "tASjDXtNawkh"
      },
      "outputs": [],
      "source": [
        "#renaming the fields of the prediction dataframe\n",
        "test_pred_svd_hyper.drop(['r_ui', 'details'], axis=1, inplace=True)\n",
        "test_pred_svd_hyper = test_pred_svd_hyper.rename(columns={'uid':'userId',\n",
        "                                                          'iid':'movieId',\n",
        "                                                          'est':'rating'})\n",
        "test_pred_svd_hyper.head()"
      ]
    },
    {
      "cell_type": "code",
      "execution_count": null,
      "metadata": {
        "execution": {
          "iopub.execute_input": "2021-07-05T13:33:01.841488Z",
          "iopub.status.busy": "2021-07-05T13:33:01.841170Z",
          "iopub.status.idle": "2021-07-05T13:33:22.882088Z",
          "shell.execute_reply": "2021-07-05T13:33:22.873704Z",
          "shell.execute_reply.started": "2021-07-05T13:33:01.841457Z"
        },
        "id": "SEzuKoABawkh"
      },
      "outputs": [],
      "source": [
        "# Concatenating each userId and movieId to a single Id column for submission\n",
        "test_pred_svd_hyper['Id'] =  test_pred_svd_hyper['userId'].astype(str).str.zfill(1) + '_' + test_pred_svd_hyper['movieId'].astype(str).str.zfill(1)"
      ]
    },
    {
      "cell_type": "code",
      "execution_count": null,
      "metadata": {
        "execution": {
          "iopub.execute_input": "2021-07-05T13:33:22.891489Z",
          "iopub.status.busy": "2021-07-05T13:33:22.891061Z",
          "iopub.status.idle": "2021-07-05T13:33:23.113555Z",
          "shell.execute_reply": "2021-07-05T13:33:23.112375Z",
          "shell.execute_reply.started": "2021-07-05T13:33:22.891451Z"
        },
        "id": "jmkisMc_awki"
      },
      "outputs": [],
      "source": [
        "svd_hyper_predictions = test_pred_svd_hyper[['Id','rating']]\n",
        "svd_hyper_predictions.head()"
      ]
    },
    {
      "cell_type": "code",
      "execution_count": null,
      "metadata": {
        "execution": {
          "iopub.execute_input": "2021-07-05T13:48:31.038195Z",
          "iopub.status.busy": "2021-07-05T13:48:31.037761Z",
          "iopub.status.idle": "2021-07-05T13:48:50.399593Z",
          "shell.execute_reply": "2021-07-05T13:48:50.398337Z",
          "shell.execute_reply.started": "2021-07-05T13:48:31.038160Z"
        },
        "id": "g8_XxuHwawkk"
      },
      "outputs": [],
      "source": [
        "svd_hyper_predictions[['Id','rating']].to_csv('MM2_submission.csv', index=False)"
      ]
    },
    {
      "cell_type": "code",
      "execution_count": null,
      "metadata": {
        "execution": {
          "iopub.execute_input": "2021-07-05T13:53:31.850427Z",
          "iopub.status.busy": "2021-07-05T13:53:31.849977Z",
          "iopub.status.idle": "2021-07-05T13:53:31.865903Z",
          "shell.execute_reply": "2021-07-05T13:53:31.864909Z",
          "shell.execute_reply.started": "2021-07-05T13:53:31.850395Z"
        },
        "id": "LXBTzeZRawkl"
      },
      "outputs": [],
      "source": [
        "svd_hyper_predictions"
      ]
    },
    {
      "cell_type": "code",
      "execution_count": null,
      "metadata": {
        "id": "c7Qp7gNwawkm"
      },
      "outputs": [],
      "source": [
        "model_save_path = \"svd.pkl\"\n",
        "with open(model_save_path, 'wb') as file:\n",
        "    pickle.dump(svd_algo_hyper, file)"
      ]
    },
    {
      "cell_type": "code",
      "execution_count": null,
      "metadata": {
        "id": "pArt5OH8awkn"
      },
      "outputs": [],
      "source": [
        "model_save_path = \"nmf.pkl\"\n",
        "with open(model_save_path, 'wb') as file:\n",
        "    pickle.dump(algo_nmf, file)"
      ]
    },
    {
      "cell_type": "code",
      "execution_count": null,
      "metadata": {
        "id": "WTg_MWscawkn"
      },
      "outputs": [],
      "source": [
        "model_save_path = \"b.pkl\"\n",
        "with open(model_save_path, 'wb') as file:\n",
        "    pickle.dump(algo_b, file)"
      ]
    },
    {
      "cell_type": "code",
      "execution_count": null,
      "metadata": {
        "id": "s5KVwexC384F"
      },
      "outputs": [],
      "source": [
        "# Store data (serialize)\n",
        "with open('movies.pickle', 'wb') as handle:\n",
        "    pickle.dump(your_data, handle, protocol=pickle.HIGHEST_PROTOCOL)"
      ]
    },
    {
      "cell_type": "markdown",
      "metadata": {
        "id": "T7Mc_W0Cawkp"
      },
      "source": [
        "#### Ending comet experiment"
      ]
    },
    {
      "cell_type": "code",
      "execution_count": null,
      "metadata": {
        "id": "QWSN1Jhyawkp"
      },
      "outputs": [],
      "source": [
        "params={\"random_state\":7,\n",
        "        'model_name': 'SVD_Tuned',\n",
        "        \"stratify\":True\n",
        "}\n",
        "\n",
        "metrics = {'RMSE': accuracy.rmse(svd_hyper_predictions)}\n",
        "\n",
        "\n",
        "experiment.log_parameters(params)\n",
        "experiment.log_metrics(metrics)\n"
      ]
    },
    {
      "cell_type": "code",
      "execution_count": null,
      "metadata": {
        "id": "GWCQOlGAawkq"
      },
      "outputs": [],
      "source": [
        "experiment.end()"
      ]
    },
    {
      "cell_type": "code",
      "execution_count": null,
      "metadata": {
        "id": "QgBEdX9CfcuQ"
      },
      "outputs": [],
      "source": [
        ""
      ]
    },
    {
      "cell_type": "markdown",
      "metadata": {
        "id": "kFTho7ny384G"
      },
      "source": [
        "<a id=\"submission\"></a>\n",
        "##  Submission"
      ]
    },
    {
      "cell_type": "code",
      "execution_count": null,
      "metadata": {
        "id": "n4HSyIqayNOw"
      },
      "outputs": [],
      "source": [
        "# Train the model on the entire dataset \n",
        "reader = Reader(rating_scale=(0.5, 5))\n",
        "data = Dataset.load_from_df(train[['userId','movieId','rating']], reader)\n",
        "trainingSet = data.build_full_trainset()\n",
        "svd.fit(trainingSet)\n",
        "\n",
        "# Make predictions using the trained model\n",
        "pred = [svd.predict(test.userId[i],test.movieId[i]).est for i in test.index]\n",
        "test['rating'] = pred"
      ]
    },
    {
      "cell_type": "code",
      "execution_count": null,
      "metadata": {
        "id": "hMqF2X4jyNOz"
      },
      "outputs": [],
      "source": [
        "# Create the csv file for submission\n",
        "test['Id'] = test['userId'].astype(str)+'_'+test['movieId'].astype(str)\n",
        "test = test[['Id','rating']]\n",
        "test.to_csv('svd_submission.csv', index=False)"
      ]
    },
    {
      "cell_type": "code",
      "execution_count": null,
      "metadata": {
        "id": "fss7kEOOyNO2"
      },
      "outputs": [],
      "source": [
        "test.head()"
      ]
    },
    {
      "cell_type": "markdown",
      "metadata": {
        "id": "iFqNDACuawkr"
      },
      "source": [
        "<a id=\"conclusion\"></a>\n",
        "##  Conclusion"
      ]
    },
    {
      "cell_type": "markdown",
      "metadata": {
        "id": "s382hyil384H"
      },
      "source": [
        "We implemented and evaluated different widely used Movie Recommendation models.We evaluated each model with the appropriate evaluation metric. We implemented novel technique to evaluate collaborative filtering algorithm by using SVD as a metric.\n",
        "\n",
        "We attempted to build a model-based Collaborative Filtering movie recommendation sytem based on latent features from a low rank matrix factorization method called SVD. As it captures the underlying features driving the raw data, it can scale significantly better to massive datasets as well as make better recommendations based on user's tastes."
      ]
    }
  ],
  "metadata": {
    "colab": {
      "name": "Team_MM2_Unsupervised _final.ipynb",
      "provenance": []
    },
    "kernelspec": {
      "display_name": "Python 3",
      "language": "python",
      "name": "python3"
    },
    "language_info": {
      "codemirror_mode": {
        "name": "ipython",
        "version": 3
      },
      "file_extension": ".py",
      "mimetype": "text/x-python",
      "name": "python",
      "nbconvert_exporter": "python",
      "pygments_lexer": "ipython3",
      "version": "3.8.8"
    }
  },
  "nbformat": 4,
  "nbformat_minor": 0
}